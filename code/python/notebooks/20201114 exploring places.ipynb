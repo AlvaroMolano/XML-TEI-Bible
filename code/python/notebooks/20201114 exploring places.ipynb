{
 "metadata": {
  "language_info": {
   "codemirror_mode": {
    "name": "ipython",
    "version": 3
   },
   "file_extension": ".py",
   "mimetype": "text/x-python",
   "name": "python",
   "nbconvert_exporter": "python",
   "pygments_lexer": "ipython3",
   "version": "3.7.6-final"
  },
  "orig_nbformat": 2,
  "kernelspec": {
   "name": "python3",
   "display_name": "Python 3"
  }
 },
 "nbformat": 4,
 "nbformat_minor": 2,
 "cells": [
  {
   "cell_type": "code",
   "execution_count": 1,
   "metadata": {},
   "outputs": [],
   "source": [
    "from lxml import etree\n",
    "import pandas as pd\n",
    "from collections import Counter\n",
    "import os\n",
    "import glob\n",
    "import re\n",
    "import matplotlib.pyplot as plt\n",
    "import numpy as np\n",
    "from collections import Counter\n",
    "from numpy import array\n",
    "import numpy as np\n",
    "import matplotlib.pyplot as plt\n",
    "%matplotlib inline\n",
    "\n"
   ]
  },
  {
   "cell_type": "code",
   "execution_count": 2,
   "metadata": {},
   "outputs": [],
   "source": [
    "\n",
    "indir = \"../../../resulting data/\"\n",
    "outdir = \"../../../bible_map/202011 GeoBrowser\"\n"
   ]
  },
  {
   "cell_type": "code",
   "execution_count": 3,
   "metadata": {},
   "outputs": [],
   "source": [
    "verses_features = pd.read_parquet(indir + \"verses_features.parquet\")"
   ]
  },
  {
   "cell_type": "code",
   "execution_count": 7,
   "metadata": {},
   "outputs": [
    {
     "output_type": "execute_result",
     "data": {
      "text/plain": [
       "              bible_identifier bible_book  bible_chapter  bible_book_chapter  \\\n",
       "b.GEN.001.001    b.GEN.001.001        GEN              0                   0   \n",
       "b.GEN.001.002    b.GEN.001.002        GEN              0                   0   \n",
       "b.GEN.001.003    b.GEN.001.003        GEN              0                   0   \n",
       "b.GEN.001.004    b.GEN.001.004        GEN              0                   0   \n",
       "b.GEN.001.005    b.GEN.001.005        GEN              0                   0   \n",
       "...                        ...        ...            ...                 ...   \n",
       "b.REV.022.017    b.REV.022.017        REV              0                   0   \n",
       "b.REV.022.018    b.REV.022.018        REV              0                   0   \n",
       "b.REV.022.019    b.REV.022.019        REV              0                   0   \n",
       "b.REV.022.020    b.REV.022.020        REV              0                   0   \n",
       "b.REV.022.021    b.REV.022.021        REV              0                   0   \n",
       "\n",
       "               relations  monogamy  poligamy  marriage  second-marriage  \\\n",
       "b.GEN.001.001          0         0         0         0                0   \n",
       "b.GEN.001.002          0         0         0         0                0   \n",
       "b.GEN.001.003          0         0         0         0                0   \n",
       "b.GEN.001.004          0         0         0         0                0   \n",
       "b.GEN.001.005          0         0         0         0                0   \n",
       "...                  ...       ...       ...       ...              ...   \n",
       "b.REV.022.017          0         0         0         0                0   \n",
       "b.REV.022.018          0         0         0         0                0   \n",
       "b.REV.022.019          0         0         0         0                0   \n",
       "b.REV.022.020          0         0         0         0                0   \n",
       "b.REV.022.021          0         0         0         0                0   \n",
       "\n",
       "               second-marriage-divorce  ...  #per129  pla15  #pla74  pla69  \\\n",
       "b.GEN.001.001                        0  ...      NaN    NaN     NaN    NaN   \n",
       "b.GEN.001.002                        0  ...      NaN    NaN     NaN    NaN   \n",
       "b.GEN.001.003                        0  ...      NaN    NaN     NaN    NaN   \n",
       "b.GEN.001.004                        0  ...      NaN    NaN     NaN    NaN   \n",
       "b.GEN.001.005                        0  ...      NaN    NaN     NaN    NaN   \n",
       "...                                ...  ...      ...    ...     ...    ...   \n",
       "b.REV.022.017                        0  ...      NaN    NaN     NaN    NaN   \n",
       "b.REV.022.018                        0  ...      NaN    NaN     NaN    NaN   \n",
       "b.REV.022.019                        0  ...      NaN    NaN     NaN    NaN   \n",
       "b.REV.022.020                        0  ...      NaN    NaN     NaN    NaN   \n",
       "b.REV.022.021                        0  ...      NaN    NaN     NaN    NaN   \n",
       "\n",
       "               org435  org297  org183  org102  #pla75  org22  \n",
       "b.GEN.001.001     NaN     NaN     NaN     NaN     NaN    NaN  \n",
       "b.GEN.001.002     NaN     NaN     NaN     NaN     NaN    NaN  \n",
       "b.GEN.001.003     NaN     NaN     NaN     NaN     NaN    NaN  \n",
       "b.GEN.001.004     NaN     NaN     NaN     NaN     NaN    NaN  \n",
       "b.GEN.001.005     NaN     NaN     NaN     NaN     NaN    NaN  \n",
       "...               ...     ...     ...     ...     ...    ...  \n",
       "b.REV.022.017     NaN     NaN     NaN     NaN     NaN    NaN  \n",
       "b.REV.022.018     NaN     NaN     NaN     NaN     NaN    NaN  \n",
       "b.REV.022.019     NaN     NaN     NaN     NaN     NaN    NaN  \n",
       "b.REV.022.020     NaN     NaN     NaN     NaN     NaN    NaN  \n",
       "b.REV.022.021     NaN     NaN     NaN     NaN     NaN    NaN  \n",
       "\n",
       "[31065 rows x 4225 columns]"
      ],
      "text/html": "<div>\n<style scoped>\n    .dataframe tbody tr th:only-of-type {\n        vertical-align: middle;\n    }\n\n    .dataframe tbody tr th {\n        vertical-align: top;\n    }\n\n    .dataframe thead th {\n        text-align: right;\n    }\n</style>\n<table border=\"1\" class=\"dataframe\">\n  <thead>\n    <tr style=\"text-align: right;\">\n      <th></th>\n      <th>bible_identifier</th>\n      <th>bible_book</th>\n      <th>bible_chapter</th>\n      <th>bible_book_chapter</th>\n      <th>relations</th>\n      <th>monogamy</th>\n      <th>poligamy</th>\n      <th>marriage</th>\n      <th>second-marriage</th>\n      <th>second-marriage-divorce</th>\n      <th>...</th>\n      <th>#per129</th>\n      <th>pla15</th>\n      <th>#pla74</th>\n      <th>pla69</th>\n      <th>org435</th>\n      <th>org297</th>\n      <th>org183</th>\n      <th>org102</th>\n      <th>#pla75</th>\n      <th>org22</th>\n    </tr>\n  </thead>\n  <tbody>\n    <tr>\n      <th>b.GEN.001.001</th>\n      <td>b.GEN.001.001</td>\n      <td>GEN</td>\n      <td>0</td>\n      <td>0</td>\n      <td>0</td>\n      <td>0</td>\n      <td>0</td>\n      <td>0</td>\n      <td>0</td>\n      <td>0</td>\n      <td>...</td>\n      <td>NaN</td>\n      <td>NaN</td>\n      <td>NaN</td>\n      <td>NaN</td>\n      <td>NaN</td>\n      <td>NaN</td>\n      <td>NaN</td>\n      <td>NaN</td>\n      <td>NaN</td>\n      <td>NaN</td>\n    </tr>\n    <tr>\n      <th>b.GEN.001.002</th>\n      <td>b.GEN.001.002</td>\n      <td>GEN</td>\n      <td>0</td>\n      <td>0</td>\n      <td>0</td>\n      <td>0</td>\n      <td>0</td>\n      <td>0</td>\n      <td>0</td>\n      <td>0</td>\n      <td>...</td>\n      <td>NaN</td>\n      <td>NaN</td>\n      <td>NaN</td>\n      <td>NaN</td>\n      <td>NaN</td>\n      <td>NaN</td>\n      <td>NaN</td>\n      <td>NaN</td>\n      <td>NaN</td>\n      <td>NaN</td>\n    </tr>\n    <tr>\n      <th>b.GEN.001.003</th>\n      <td>b.GEN.001.003</td>\n      <td>GEN</td>\n      <td>0</td>\n      <td>0</td>\n      <td>0</td>\n      <td>0</td>\n      <td>0</td>\n      <td>0</td>\n      <td>0</td>\n      <td>0</td>\n      <td>...</td>\n      <td>NaN</td>\n      <td>NaN</td>\n      <td>NaN</td>\n      <td>NaN</td>\n      <td>NaN</td>\n      <td>NaN</td>\n      <td>NaN</td>\n      <td>NaN</td>\n      <td>NaN</td>\n      <td>NaN</td>\n    </tr>\n    <tr>\n      <th>b.GEN.001.004</th>\n      <td>b.GEN.001.004</td>\n      <td>GEN</td>\n      <td>0</td>\n      <td>0</td>\n      <td>0</td>\n      <td>0</td>\n      <td>0</td>\n      <td>0</td>\n      <td>0</td>\n      <td>0</td>\n      <td>...</td>\n      <td>NaN</td>\n      <td>NaN</td>\n      <td>NaN</td>\n      <td>NaN</td>\n      <td>NaN</td>\n      <td>NaN</td>\n      <td>NaN</td>\n      <td>NaN</td>\n      <td>NaN</td>\n      <td>NaN</td>\n    </tr>\n    <tr>\n      <th>b.GEN.001.005</th>\n      <td>b.GEN.001.005</td>\n      <td>GEN</td>\n      <td>0</td>\n      <td>0</td>\n      <td>0</td>\n      <td>0</td>\n      <td>0</td>\n      <td>0</td>\n      <td>0</td>\n      <td>0</td>\n      <td>...</td>\n      <td>NaN</td>\n      <td>NaN</td>\n      <td>NaN</td>\n      <td>NaN</td>\n      <td>NaN</td>\n      <td>NaN</td>\n      <td>NaN</td>\n      <td>NaN</td>\n      <td>NaN</td>\n      <td>NaN</td>\n    </tr>\n    <tr>\n      <th>...</th>\n      <td>...</td>\n      <td>...</td>\n      <td>...</td>\n      <td>...</td>\n      <td>...</td>\n      <td>...</td>\n      <td>...</td>\n      <td>...</td>\n      <td>...</td>\n      <td>...</td>\n      <td>...</td>\n      <td>...</td>\n      <td>...</td>\n      <td>...</td>\n      <td>...</td>\n      <td>...</td>\n      <td>...</td>\n      <td>...</td>\n      <td>...</td>\n      <td>...</td>\n      <td>...</td>\n    </tr>\n    <tr>\n      <th>b.REV.022.017</th>\n      <td>b.REV.022.017</td>\n      <td>REV</td>\n      <td>0</td>\n      <td>0</td>\n      <td>0</td>\n      <td>0</td>\n      <td>0</td>\n      <td>0</td>\n      <td>0</td>\n      <td>0</td>\n      <td>...</td>\n      <td>NaN</td>\n      <td>NaN</td>\n      <td>NaN</td>\n      <td>NaN</td>\n      <td>NaN</td>\n      <td>NaN</td>\n      <td>NaN</td>\n      <td>NaN</td>\n      <td>NaN</td>\n      <td>NaN</td>\n    </tr>\n    <tr>\n      <th>b.REV.022.018</th>\n      <td>b.REV.022.018</td>\n      <td>REV</td>\n      <td>0</td>\n      <td>0</td>\n      <td>0</td>\n      <td>0</td>\n      <td>0</td>\n      <td>0</td>\n      <td>0</td>\n      <td>0</td>\n      <td>...</td>\n      <td>NaN</td>\n      <td>NaN</td>\n      <td>NaN</td>\n      <td>NaN</td>\n      <td>NaN</td>\n      <td>NaN</td>\n      <td>NaN</td>\n      <td>NaN</td>\n      <td>NaN</td>\n      <td>NaN</td>\n    </tr>\n    <tr>\n      <th>b.REV.022.019</th>\n      <td>b.REV.022.019</td>\n      <td>REV</td>\n      <td>0</td>\n      <td>0</td>\n      <td>0</td>\n      <td>0</td>\n      <td>0</td>\n      <td>0</td>\n      <td>0</td>\n      <td>0</td>\n      <td>...</td>\n      <td>NaN</td>\n      <td>NaN</td>\n      <td>NaN</td>\n      <td>NaN</td>\n      <td>NaN</td>\n      <td>NaN</td>\n      <td>NaN</td>\n      <td>NaN</td>\n      <td>NaN</td>\n      <td>NaN</td>\n    </tr>\n    <tr>\n      <th>b.REV.022.020</th>\n      <td>b.REV.022.020</td>\n      <td>REV</td>\n      <td>0</td>\n      <td>0</td>\n      <td>0</td>\n      <td>0</td>\n      <td>0</td>\n      <td>0</td>\n      <td>0</td>\n      <td>0</td>\n      <td>...</td>\n      <td>NaN</td>\n      <td>NaN</td>\n      <td>NaN</td>\n      <td>NaN</td>\n      <td>NaN</td>\n      <td>NaN</td>\n      <td>NaN</td>\n      <td>NaN</td>\n      <td>NaN</td>\n      <td>NaN</td>\n    </tr>\n    <tr>\n      <th>b.REV.022.021</th>\n      <td>b.REV.022.021</td>\n      <td>REV</td>\n      <td>0</td>\n      <td>0</td>\n      <td>0</td>\n      <td>0</td>\n      <td>0</td>\n      <td>0</td>\n      <td>0</td>\n      <td>0</td>\n      <td>...</td>\n      <td>NaN</td>\n      <td>NaN</td>\n      <td>NaN</td>\n      <td>NaN</td>\n      <td>NaN</td>\n      <td>NaN</td>\n      <td>NaN</td>\n      <td>NaN</td>\n      <td>NaN</td>\n      <td>NaN</td>\n    </tr>\n  </tbody>\n</table>\n<p>31065 rows × 4225 columns</p>\n</div>"
     },
     "metadata": {},
     "execution_count": 7
    }
   ],
   "source": [
    "verses_features"
   ]
  },
  {
   "cell_type": "code",
   "execution_count": 4,
   "metadata": {},
   "outputs": [
    {
     "output_type": "execute_result",
     "data": {
      "text/plain": [
       "['bible_identifier',\n",
       " 'bible_book',\n",
       " 'bible_chapter',\n",
       " 'bible_book_chapter',\n",
       " 'relations',\n",
       " 'monogamy',\n",
       " 'poligamy',\n",
       " 'marriage',\n",
       " 'second-marriage',\n",
       " 'second-marriage-divorce',\n",
       " 'second-marriage-widow',\n",
       " 'interfaith-marriage',\n",
       " 'interfaith-relation',\n",
       " 'non-marital-relation',\n",
       " 'marital-relation-political-family',\n",
       " 'lord-servant-relation',\n",
       " 'marital-relation-direct-family',\n",
       " 'arranged-marriage',\n",
       " 'divorce',\n",
       " 'engaged',\n",
       " 'love',\n",
       " 'jealousy',\n",
       " 'ascendant-descendant',\n",
       " 'indirect-ascendant-descendant',\n",
       " 'acts',\n",
       " 'social-related-act',\n",
       " 'wedding',\n",
       " 'body-related-act',\n",
       " 'massage',\n",
       " 'kiss',\n",
       " 'hug',\n",
       " 'dance',\n",
       " 'abortion',\n",
       " 'circumcision',\n",
       " 'breast-feeding',\n",
       " 'sexual-act',\n",
       " 'sexual-act-stage',\n",
       " 'seduction',\n",
       " 'erotic-time',\n",
       " 'initation-sexual-act',\n",
       " 'orgasm',\n",
       " 'ejaculation',\n",
       " 'time-after-sex',\n",
       " 'sexual-act-type',\n",
       " 'coitus',\n",
       " 'first-sexual-act',\n",
       " 'coitus-interruptus',\n",
       " 'self-masturbation',\n",
       " 'masturbation',\n",
       " 'oral-sex',\n",
       " 'anal-sex',\n",
       " 'non-penetrative-sex',\n",
       " 'female-rape',\n",
       " 'male-rape',\n",
       " 'sexual-assault',\n",
       " 'female-sexual-assault',\n",
       " 'male-sexual-assault',\n",
       " 'sexual-deception',\n",
       " 'sexual-drive',\n",
       " 'sexual-desire',\n",
       " 'sex-for-goods',\n",
       " 'other-sexual-act',\n",
       " 'sexual-act-situation',\n",
       " 'sex-in-marriage',\n",
       " 'sex-before-marriage',\n",
       " 'sex-outside-marriage',\n",
       " 'sex-outside',\n",
       " 'sexual-act-participants',\n",
       " 'heterosexual-sex',\n",
       " 'homosexual-sex',\n",
       " 'gay-sex',\n",
       " 'lesbian-sex',\n",
       " 'prostitution-sex',\n",
       " 'religous-sex',\n",
       " 'parents-children-sex',\n",
       " 'sibling-sex',\n",
       " 'greater-family-sex',\n",
       " 'angel-human-sex',\n",
       " 'animal-human-sex',\n",
       " 'animal-sex',\n",
       " 'groupal-sex',\n",
       " 'lord-servant-sex',\n",
       " 'states',\n",
       " 'single-life',\n",
       " 'virginity',\n",
       " 'celibacy',\n",
       " 'infertility',\n",
       " 'nudity',\n",
       " 'semi-nudity',\n",
       " 'pregnancy',\n",
       " 'beauty',\n",
       " 'dishonor',\n",
       " 'body',\n",
       " 'body-by-gender',\n",
       " 'female-body',\n",
       " 'male-body',\n",
       " 'body-part',\n",
       " 'genitalia',\n",
       " 'female-genitalia',\n",
       " 'male-genitalia']"
      ]
     },
     "metadata": {},
     "execution_count": 4
    }
   ],
   "source": [
    "verses_features.columns.tolist()[0:100]"
   ]
  },
  {
   "cell_type": "code",
   "execution_count": 5,
   "metadata": {},
   "outputs": [],
   "source": [
    "verses_features[\"bible_book\"] = verses_features[\"bible_identifier\"].str.extract(\"b\\.(...).+$\")"
   ]
  },
  {
   "cell_type": "code",
   "execution_count": 8,
   "metadata": {},
   "outputs": [],
   "source": [
    "verses_features[\"bible_book_chapter\"] = verses_features[\"bible_identifier\"].str.extract(\"b\\.(...\\.\\d+).+$\")"
   ]
  },
  {
   "cell_type": "code",
   "execution_count": 9,
   "metadata": {},
   "outputs": [],
   "source": [
    "verses_features[\"bible_chapter\"] = verses_features[\"bible_identifier\"].str.extract(\"b\\....\\.(\\d+).+$\")"
   ]
  },
  {
   "cell_type": "code",
   "execution_count": null,
   "metadata": {},
   "outputs": [],
   "source": []
  },
  {
   "cell_type": "code",
   "execution_count": 10,
   "metadata": {},
   "outputs": [
    {
     "output_type": "execute_result",
     "data": {
      "text/plain": [
       "b.GEN.001.001    GEN\n",
       "b.GEN.001.002    GEN\n",
       "b.GEN.001.003    GEN\n",
       "b.GEN.001.004    GEN\n",
       "b.GEN.001.005    GEN\n",
       "                ... \n",
       "b.REV.022.017    REV\n",
       "b.REV.022.018    REV\n",
       "b.REV.022.019    REV\n",
       "b.REV.022.020    REV\n",
       "b.REV.022.021    REV\n",
       "Name: bible_book, Length: 31065, dtype: object"
      ]
     },
     "metadata": {},
     "execution_count": 10
    }
   ],
   "source": [
    "verses_features[\"bible_book\"]"
   ]
  },
  {
   "cell_type": "code",
   "execution_count": 6,
   "metadata": {},
   "outputs": [],
   "source": [
    "columns_places = [column for column in verses_features.columns.tolist() if \"#pla\" in column]"
   ]
  },
  {
   "cell_type": "code",
   "execution_count": 11,
   "metadata": {},
   "outputs": [],
   "source": [
    "verses_features_places = verses_features[['bible_identifier',\n",
    " 'bible_book',\n",
    " 'bible_chapter',\n",
    " 'bible_book_chapter',]+columns_places ]"
   ]
  },
  {
   "cell_type": "code",
   "execution_count": 12,
   "metadata": {},
   "outputs": [],
   "source": [
    "results = []\n",
    "for index_verse, values_verse in verses_features_places[columns_places].iterrows():\n",
    "    #print(index_verse, values_verse.sum())\n",
    "    if values_verse.sum() == 0:\n",
    "        results.append([index_verse, \"\"])\n",
    "    else:\n",
    "        #print(values_verse.dropna())\n",
    "        for index_column, column in values_verse.dropna().iteritems():\n",
    "            results.append([index_verse, index_column])\n",
    "\n",
    "results_df = pd.DataFrame(results, columns = [\"verse\", \"geolocation_id\"])       \n"
   ]
  },
  {
   "cell_type": "code",
   "execution_count": 13,
   "metadata": {},
   "outputs": [
    {
     "output_type": "execute_result",
     "data": {
      "text/plain": [
       "               verse geolocation_id\n",
       "0      b.GEN.001.001         #pla41\n",
       "1      b.GEN.001.002         #pla41\n",
       "2      b.GEN.001.003               \n",
       "3      b.GEN.001.004               \n",
       "4      b.GEN.001.005               \n",
       "...              ...            ...\n",
       "35858  b.REV.022.017               \n",
       "35859  b.REV.022.018               \n",
       "35860  b.REV.022.019         #pla71\n",
       "35861  b.REV.022.020               \n",
       "35862  b.REV.022.021               \n",
       "\n",
       "[35863 rows x 2 columns]"
      ],
      "text/html": "<div>\n<style scoped>\n    .dataframe tbody tr th:only-of-type {\n        vertical-align: middle;\n    }\n\n    .dataframe tbody tr th {\n        vertical-align: top;\n    }\n\n    .dataframe thead th {\n        text-align: right;\n    }\n</style>\n<table border=\"1\" class=\"dataframe\">\n  <thead>\n    <tr style=\"text-align: right;\">\n      <th></th>\n      <th>verse</th>\n      <th>geolocation_id</th>\n    </tr>\n  </thead>\n  <tbody>\n    <tr>\n      <th>0</th>\n      <td>b.GEN.001.001</td>\n      <td>#pla41</td>\n    </tr>\n    <tr>\n      <th>1</th>\n      <td>b.GEN.001.002</td>\n      <td>#pla41</td>\n    </tr>\n    <tr>\n      <th>2</th>\n      <td>b.GEN.001.003</td>\n      <td></td>\n    </tr>\n    <tr>\n      <th>3</th>\n      <td>b.GEN.001.004</td>\n      <td></td>\n    </tr>\n    <tr>\n      <th>4</th>\n      <td>b.GEN.001.005</td>\n      <td></td>\n    </tr>\n    <tr>\n      <th>...</th>\n      <td>...</td>\n      <td>...</td>\n    </tr>\n    <tr>\n      <th>35858</th>\n      <td>b.REV.022.017</td>\n      <td></td>\n    </tr>\n    <tr>\n      <th>35859</th>\n      <td>b.REV.022.018</td>\n      <td></td>\n    </tr>\n    <tr>\n      <th>35860</th>\n      <td>b.REV.022.019</td>\n      <td>#pla71</td>\n    </tr>\n    <tr>\n      <th>35861</th>\n      <td>b.REV.022.020</td>\n      <td></td>\n    </tr>\n    <tr>\n      <th>35862</th>\n      <td>b.REV.022.021</td>\n      <td></td>\n    </tr>\n  </tbody>\n</table>\n<p>35863 rows × 2 columns</p>\n</div>"
     },
     "metadata": {},
     "execution_count": 13
    }
   ],
   "source": [
    "results_df"
   ]
  },
  {
   "cell_type": "code",
   "execution_count": 14,
   "metadata": {},
   "outputs": [],
   "source": [
    "results_df.to_csv(outdir + \"verses_id-place.tsv\", sep=\"\\t\")"
   ]
  },
  {
   "cell_type": "code",
   "execution_count": 15,
   "metadata": {},
   "outputs": [],
   "source": [
    "entities = pd.read_excel(\"../../../entities.xls\")"
   ]
  },
  {
   "cell_type": "code",
   "execution_count": 16,
   "metadata": {},
   "outputs": [
    {
     "output_type": "execute_result",
     "data": {
      "text/plain": [
       "      order      id    NormalizedName-sp aclaration variants comments book  \\\n",
       "0         2   #per0  persona no definida        NaN      NaN      NaN   NT   \n",
       "1         3   #per1                Jesús        NaN      NaN      NaN   NT   \n",
       "2         4   #per2              Abraham        NaN    Abram      NaN   AT   \n",
       "3         5   #per3                Isaac        NaN      NaN      NaN   AT   \n",
       "4         6   #per4                Jacob        NaN   Israel      NaN   AT   \n",
       "...     ...     ...                  ...        ...      ...      ...  ...   \n",
       "3983   3985  #wor17      libro de Isaías        NaN      NaN      NaN  NaN   \n",
       "3984   3986  #wor18   libros de Lamentos        NaN      NaN      NaN  NaN   \n",
       "3985   3987   #ani0             animales        NaN      NaN      NaN  NaN   \n",
       "3986   3988  #thin0                 cosa        NaN      NaN      NaN  NaN   \n",
       "3987   3989  #thin1       asno de Balaam        NaN      NaN      NaN  NaN   \n",
       "\n",
       "     cert wikidata id cert_wikidata  ...   PHM   HEB  JAM   1PE   2PE   1JO  \\\n",
       "0     NaN         NaN           NaN  ...   0.0   0.0  0.0   0.0   0.0   0.0   \n",
       "1     NaN        Q302           NaN  ...  13.0  75.0  5.0  34.0  24.0  48.0   \n",
       "2     NaN       Q9181           NaN  ...   0.0  13.0  4.0   2.0   0.0   0.0   \n",
       "3     NaN     Q671872           NaN  ...   0.0   7.0  2.0   0.0   0.0   0.0   \n",
       "4     NaN     Q289957           NaN  ...   0.0   5.0  0.0   0.0   0.0   1.0   \n",
       "...   ...         ...           ...  ...   ...   ...  ...   ...   ...   ...   \n",
       "3983  NaN           0           NaN  ...   0.0   0.0  0.0   0.0   0.0   0.0   \n",
       "3984  NaN           0           NaN  ...   0.0   0.0  0.0   0.0   0.0   0.0   \n",
       "3985  NaN           0           NaN  ...   0.0   0.0  0.0   0.0   0.0   0.0   \n",
       "3986  NaN           0           NaN  ...   0.0   0.0  0.0   0.0   0.0   0.0   \n",
       "3987  NaN           0           NaN  ...   0.0   0.0  0.0   0.0   0.0   0.0   \n",
       "\n",
       "      2JO  3JO  JUD    REV  \n",
       "0     0.0  0.0  0.0    0.0  \n",
       "1     7.0  0.0  8.0  102.0  \n",
       "2     0.0  0.0  0.0    0.0  \n",
       "3     0.0  0.0  0.0    0.0  \n",
       "4     0.0  0.0  0.0    0.0  \n",
       "...   ...  ...  ...    ...  \n",
       "3983  0.0  0.0  0.0    0.0  \n",
       "3984  0.0  0.0  0.0    0.0  \n",
       "3985  0.0  0.0  0.0    0.0  \n",
       "3986  0.0  0.0  0.0    0.0  \n",
       "3987  0.0  0.0  0.0    0.0  \n",
       "\n",
       "[3988 rows x 93 columns]"
      ],
      "text/html": "<div>\n<style scoped>\n    .dataframe tbody tr th:only-of-type {\n        vertical-align: middle;\n    }\n\n    .dataframe tbody tr th {\n        vertical-align: top;\n    }\n\n    .dataframe thead th {\n        text-align: right;\n    }\n</style>\n<table border=\"1\" class=\"dataframe\">\n  <thead>\n    <tr style=\"text-align: right;\">\n      <th></th>\n      <th>order</th>\n      <th>id</th>\n      <th>NormalizedName-sp</th>\n      <th>aclaration</th>\n      <th>variants</th>\n      <th>comments</th>\n      <th>book</th>\n      <th>cert</th>\n      <th>wikidata id</th>\n      <th>cert_wikidata</th>\n      <th>...</th>\n      <th>PHM</th>\n      <th>HEB</th>\n      <th>JAM</th>\n      <th>1PE</th>\n      <th>2PE</th>\n      <th>1JO</th>\n      <th>2JO</th>\n      <th>3JO</th>\n      <th>JUD</th>\n      <th>REV</th>\n    </tr>\n  </thead>\n  <tbody>\n    <tr>\n      <th>0</th>\n      <td>2</td>\n      <td>#per0</td>\n      <td>persona no definida</td>\n      <td>NaN</td>\n      <td>NaN</td>\n      <td>NaN</td>\n      <td>NT</td>\n      <td>NaN</td>\n      <td>NaN</td>\n      <td>NaN</td>\n      <td>...</td>\n      <td>0.0</td>\n      <td>0.0</td>\n      <td>0.0</td>\n      <td>0.0</td>\n      <td>0.0</td>\n      <td>0.0</td>\n      <td>0.0</td>\n      <td>0.0</td>\n      <td>0.0</td>\n      <td>0.0</td>\n    </tr>\n    <tr>\n      <th>1</th>\n      <td>3</td>\n      <td>#per1</td>\n      <td>Jesús</td>\n      <td>NaN</td>\n      <td>NaN</td>\n      <td>NaN</td>\n      <td>NT</td>\n      <td>NaN</td>\n      <td>Q302</td>\n      <td>NaN</td>\n      <td>...</td>\n      <td>13.0</td>\n      <td>75.0</td>\n      <td>5.0</td>\n      <td>34.0</td>\n      <td>24.0</td>\n      <td>48.0</td>\n      <td>7.0</td>\n      <td>0.0</td>\n      <td>8.0</td>\n      <td>102.0</td>\n    </tr>\n    <tr>\n      <th>2</th>\n      <td>4</td>\n      <td>#per2</td>\n      <td>Abraham</td>\n      <td>NaN</td>\n      <td>Abram</td>\n      <td>NaN</td>\n      <td>AT</td>\n      <td>NaN</td>\n      <td>Q9181</td>\n      <td>NaN</td>\n      <td>...</td>\n      <td>0.0</td>\n      <td>13.0</td>\n      <td>4.0</td>\n      <td>2.0</td>\n      <td>0.0</td>\n      <td>0.0</td>\n      <td>0.0</td>\n      <td>0.0</td>\n      <td>0.0</td>\n      <td>0.0</td>\n    </tr>\n    <tr>\n      <th>3</th>\n      <td>5</td>\n      <td>#per3</td>\n      <td>Isaac</td>\n      <td>NaN</td>\n      <td>NaN</td>\n      <td>NaN</td>\n      <td>AT</td>\n      <td>NaN</td>\n      <td>Q671872</td>\n      <td>NaN</td>\n      <td>...</td>\n      <td>0.0</td>\n      <td>7.0</td>\n      <td>2.0</td>\n      <td>0.0</td>\n      <td>0.0</td>\n      <td>0.0</td>\n      <td>0.0</td>\n      <td>0.0</td>\n      <td>0.0</td>\n      <td>0.0</td>\n    </tr>\n    <tr>\n      <th>4</th>\n      <td>6</td>\n      <td>#per4</td>\n      <td>Jacob</td>\n      <td>NaN</td>\n      <td>Israel</td>\n      <td>NaN</td>\n      <td>AT</td>\n      <td>NaN</td>\n      <td>Q289957</td>\n      <td>NaN</td>\n      <td>...</td>\n      <td>0.0</td>\n      <td>5.0</td>\n      <td>0.0</td>\n      <td>0.0</td>\n      <td>0.0</td>\n      <td>1.0</td>\n      <td>0.0</td>\n      <td>0.0</td>\n      <td>0.0</td>\n      <td>0.0</td>\n    </tr>\n    <tr>\n      <th>...</th>\n      <td>...</td>\n      <td>...</td>\n      <td>...</td>\n      <td>...</td>\n      <td>...</td>\n      <td>...</td>\n      <td>...</td>\n      <td>...</td>\n      <td>...</td>\n      <td>...</td>\n      <td>...</td>\n      <td>...</td>\n      <td>...</td>\n      <td>...</td>\n      <td>...</td>\n      <td>...</td>\n      <td>...</td>\n      <td>...</td>\n      <td>...</td>\n      <td>...</td>\n      <td>...</td>\n    </tr>\n    <tr>\n      <th>3983</th>\n      <td>3985</td>\n      <td>#wor17</td>\n      <td>libro de Isaías</td>\n      <td>NaN</td>\n      <td>NaN</td>\n      <td>NaN</td>\n      <td>NaN</td>\n      <td>NaN</td>\n      <td>0</td>\n      <td>NaN</td>\n      <td>...</td>\n      <td>0.0</td>\n      <td>0.0</td>\n      <td>0.0</td>\n      <td>0.0</td>\n      <td>0.0</td>\n      <td>0.0</td>\n      <td>0.0</td>\n      <td>0.0</td>\n      <td>0.0</td>\n      <td>0.0</td>\n    </tr>\n    <tr>\n      <th>3984</th>\n      <td>3986</td>\n      <td>#wor18</td>\n      <td>libros de Lamentos</td>\n      <td>NaN</td>\n      <td>NaN</td>\n      <td>NaN</td>\n      <td>NaN</td>\n      <td>NaN</td>\n      <td>0</td>\n      <td>NaN</td>\n      <td>...</td>\n      <td>0.0</td>\n      <td>0.0</td>\n      <td>0.0</td>\n      <td>0.0</td>\n      <td>0.0</td>\n      <td>0.0</td>\n      <td>0.0</td>\n      <td>0.0</td>\n      <td>0.0</td>\n      <td>0.0</td>\n    </tr>\n    <tr>\n      <th>3985</th>\n      <td>3987</td>\n      <td>#ani0</td>\n      <td>animales</td>\n      <td>NaN</td>\n      <td>NaN</td>\n      <td>NaN</td>\n      <td>NaN</td>\n      <td>NaN</td>\n      <td>0</td>\n      <td>NaN</td>\n      <td>...</td>\n      <td>0.0</td>\n      <td>0.0</td>\n      <td>0.0</td>\n      <td>0.0</td>\n      <td>0.0</td>\n      <td>0.0</td>\n      <td>0.0</td>\n      <td>0.0</td>\n      <td>0.0</td>\n      <td>0.0</td>\n    </tr>\n    <tr>\n      <th>3986</th>\n      <td>3988</td>\n      <td>#thin0</td>\n      <td>cosa</td>\n      <td>NaN</td>\n      <td>NaN</td>\n      <td>NaN</td>\n      <td>NaN</td>\n      <td>NaN</td>\n      <td>0</td>\n      <td>NaN</td>\n      <td>...</td>\n      <td>0.0</td>\n      <td>0.0</td>\n      <td>0.0</td>\n      <td>0.0</td>\n      <td>0.0</td>\n      <td>0.0</td>\n      <td>0.0</td>\n      <td>0.0</td>\n      <td>0.0</td>\n      <td>0.0</td>\n    </tr>\n    <tr>\n      <th>3987</th>\n      <td>3989</td>\n      <td>#thin1</td>\n      <td>asno de Balaam</td>\n      <td>NaN</td>\n      <td>NaN</td>\n      <td>NaN</td>\n      <td>NaN</td>\n      <td>NaN</td>\n      <td>0</td>\n      <td>NaN</td>\n      <td>...</td>\n      <td>0.0</td>\n      <td>0.0</td>\n      <td>0.0</td>\n      <td>0.0</td>\n      <td>0.0</td>\n      <td>0.0</td>\n      <td>0.0</td>\n      <td>0.0</td>\n      <td>0.0</td>\n      <td>0.0</td>\n    </tr>\n  </tbody>\n</table>\n<p>3988 rows × 93 columns</p>\n</div>"
     },
     "metadata": {},
     "execution_count": 16
    }
   ],
   "source": [
    "entities"
   ]
  },
  {
   "cell_type": "code",
   "execution_count": 17,
   "metadata": {},
   "outputs": [
    {
     "output_type": "execute_result",
     "data": {
      "text/plain": [
       "      order       id       NormalizedName-sp aclaration  \\\n",
       "2901   2903    #pla1                   Belén        NaN   \n",
       "2902   2904    #pla2                   Judea        NaN   \n",
       "2903   2905    #pla3               Jerusalén        NaN   \n",
       "2904   2906    #pla4                  Israel        NaN   \n",
       "2905   2907    #pla5                  Egipto        NaN   \n",
       "...     ...      ...                     ...        ...   \n",
       "3641   3643  #pla741                    Susa        NaN   \n",
       "3676   3678  #pla776  tierra de los amorreos        NaN   \n",
       "3685   3687  #pla785                    Lais        NaN   \n",
       "3753   3755  #pla853                 Askenaz        NaN   \n",
       "3845   3847  #pla945                     Hor        NaN   \n",
       "\n",
       "                    variants  \\\n",
       "2901                     NaN   \n",
       "2902                    Judá   \n",
       "2903                     NaN   \n",
       "2904                     NaN   \n",
       "2905                     Cam   \n",
       "...                      ...   \n",
       "3641                     NaN   \n",
       "3676                     NaN   \n",
       "3685  la rebautizan como Dan   \n",
       "3753                     NaN   \n",
       "3845                     NaN   \n",
       "\n",
       "                                               comments book    cert  \\\n",
       "2901                                                NaN  NaN     NaN   \n",
       "2902                              Es lo mismo que Judá?  NaN     NaN   \n",
       "2903        Ciudad de David? Llamada Aholiba  en EZE 23  NaN     NaN   \n",
       "2904                                                NaN  NaN     NaN   \n",
       "2905                                                NaN  NaN     NaN   \n",
       "...                                                 ...  ...     ...   \n",
       "3641                                                NaN  NaN     NaN   \n",
       "3676                                                NaN  NaN     NaN   \n",
       "3685                                                NaN  NaN  medium   \n",
       "3753                                                NaN  NaN     NaN   \n",
       "3845  podría ser que con este nombre se referencien ...  NaN  medium   \n",
       "\n",
       "                                            wikidata id cert_wikidata  ...  \\\n",
       "2901  https://www.wikidata.org/wiki/Special:EntityPa...           NaN  ...   \n",
       "2902                                            Q104028           NaN  ...   \n",
       "2903                                              Q1218           NaN  ...   \n",
       "2904                                           Q3185305           NaN  ...   \n",
       "2905                                                Q79           NaN  ...   \n",
       "...                                                 ...           ...  ...   \n",
       "3641                                                  0           NaN  ...   \n",
       "3676                                                  0           NaN  ...   \n",
       "3685                                                  0           NaN  ...   \n",
       "3753                                                  0           NaN  ...   \n",
       "3845                                                  0           NaN  ...   \n",
       "\n",
       "      PHM  HEB  JAM  1PE  2PE  1JO  2JO  3JO  JUD  REV  \n",
       "2901  0.0  0.0  0.0  0.0  0.0  0.0  0.0  0.0  0.0  0.0  \n",
       "2902  0.0  2.0  0.0  0.0  0.0  0.0  0.0  0.0  0.0  0.0  \n",
       "2903  0.0  0.0  0.0  0.0  0.0  0.0  0.0  0.0  0.0  4.0  \n",
       "2904  0.0  6.0  0.0  0.0  0.0  0.0  0.0  0.0  0.0  3.0  \n",
       "2905  0.0  4.0  0.0  0.0  0.0  0.0  0.0  0.0  1.0  1.0  \n",
       "...   ...  ...  ...  ...  ...  ...  ...  ...  ...  ...  \n",
       "3641  0.0  0.0  0.0  0.0  0.0  0.0  0.0  0.0  0.0  0.0  \n",
       "3676  0.0  0.0  0.0  0.0  0.0  0.0  0.0  0.0  0.0  0.0  \n",
       "3685  0.0  0.0  0.0  0.0  0.0  0.0  0.0  0.0  0.0  0.0  \n",
       "3753  0.0  0.0  0.0  0.0  0.0  0.0  0.0  0.0  0.0  0.0  \n",
       "3845  0.0  0.0  0.0  0.0  0.0  0.0  0.0  0.0  0.0  0.0  \n",
       "\n",
       "[150 rows x 93 columns]"
      ],
      "text/html": "<div>\n<style scoped>\n    .dataframe tbody tr th:only-of-type {\n        vertical-align: middle;\n    }\n\n    .dataframe tbody tr th {\n        vertical-align: top;\n    }\n\n    .dataframe thead th {\n        text-align: right;\n    }\n</style>\n<table border=\"1\" class=\"dataframe\">\n  <thead>\n    <tr style=\"text-align: right;\">\n      <th></th>\n      <th>order</th>\n      <th>id</th>\n      <th>NormalizedName-sp</th>\n      <th>aclaration</th>\n      <th>variants</th>\n      <th>comments</th>\n      <th>book</th>\n      <th>cert</th>\n      <th>wikidata id</th>\n      <th>cert_wikidata</th>\n      <th>...</th>\n      <th>PHM</th>\n      <th>HEB</th>\n      <th>JAM</th>\n      <th>1PE</th>\n      <th>2PE</th>\n      <th>1JO</th>\n      <th>2JO</th>\n      <th>3JO</th>\n      <th>JUD</th>\n      <th>REV</th>\n    </tr>\n  </thead>\n  <tbody>\n    <tr>\n      <th>2901</th>\n      <td>2903</td>\n      <td>#pla1</td>\n      <td>Belén</td>\n      <td>NaN</td>\n      <td>NaN</td>\n      <td>NaN</td>\n      <td>NaN</td>\n      <td>NaN</td>\n      <td>https://www.wikidata.org/wiki/Special:EntityPa...</td>\n      <td>NaN</td>\n      <td>...</td>\n      <td>0.0</td>\n      <td>0.0</td>\n      <td>0.0</td>\n      <td>0.0</td>\n      <td>0.0</td>\n      <td>0.0</td>\n      <td>0.0</td>\n      <td>0.0</td>\n      <td>0.0</td>\n      <td>0.0</td>\n    </tr>\n    <tr>\n      <th>2902</th>\n      <td>2904</td>\n      <td>#pla2</td>\n      <td>Judea</td>\n      <td>NaN</td>\n      <td>Judá</td>\n      <td>Es lo mismo que Judá?</td>\n      <td>NaN</td>\n      <td>NaN</td>\n      <td>Q104028</td>\n      <td>NaN</td>\n      <td>...</td>\n      <td>0.0</td>\n      <td>2.0</td>\n      <td>0.0</td>\n      <td>0.0</td>\n      <td>0.0</td>\n      <td>0.0</td>\n      <td>0.0</td>\n      <td>0.0</td>\n      <td>0.0</td>\n      <td>0.0</td>\n    </tr>\n    <tr>\n      <th>2903</th>\n      <td>2905</td>\n      <td>#pla3</td>\n      <td>Jerusalén</td>\n      <td>NaN</td>\n      <td>NaN</td>\n      <td>Ciudad de David? Llamada Aholiba  en EZE 23</td>\n      <td>NaN</td>\n      <td>NaN</td>\n      <td>Q1218</td>\n      <td>NaN</td>\n      <td>...</td>\n      <td>0.0</td>\n      <td>0.0</td>\n      <td>0.0</td>\n      <td>0.0</td>\n      <td>0.0</td>\n      <td>0.0</td>\n      <td>0.0</td>\n      <td>0.0</td>\n      <td>0.0</td>\n      <td>4.0</td>\n    </tr>\n    <tr>\n      <th>2904</th>\n      <td>2906</td>\n      <td>#pla4</td>\n      <td>Israel</td>\n      <td>NaN</td>\n      <td>NaN</td>\n      <td>NaN</td>\n      <td>NaN</td>\n      <td>NaN</td>\n      <td>Q3185305</td>\n      <td>NaN</td>\n      <td>...</td>\n      <td>0.0</td>\n      <td>6.0</td>\n      <td>0.0</td>\n      <td>0.0</td>\n      <td>0.0</td>\n      <td>0.0</td>\n      <td>0.0</td>\n      <td>0.0</td>\n      <td>0.0</td>\n      <td>3.0</td>\n    </tr>\n    <tr>\n      <th>2905</th>\n      <td>2907</td>\n      <td>#pla5</td>\n      <td>Egipto</td>\n      <td>NaN</td>\n      <td>Cam</td>\n      <td>NaN</td>\n      <td>NaN</td>\n      <td>NaN</td>\n      <td>Q79</td>\n      <td>NaN</td>\n      <td>...</td>\n      <td>0.0</td>\n      <td>4.0</td>\n      <td>0.0</td>\n      <td>0.0</td>\n      <td>0.0</td>\n      <td>0.0</td>\n      <td>0.0</td>\n      <td>0.0</td>\n      <td>1.0</td>\n      <td>1.0</td>\n    </tr>\n    <tr>\n      <th>...</th>\n      <td>...</td>\n      <td>...</td>\n      <td>...</td>\n      <td>...</td>\n      <td>...</td>\n      <td>...</td>\n      <td>...</td>\n      <td>...</td>\n      <td>...</td>\n      <td>...</td>\n      <td>...</td>\n      <td>...</td>\n      <td>...</td>\n      <td>...</td>\n      <td>...</td>\n      <td>...</td>\n      <td>...</td>\n      <td>...</td>\n      <td>...</td>\n      <td>...</td>\n      <td>...</td>\n    </tr>\n    <tr>\n      <th>3641</th>\n      <td>3643</td>\n      <td>#pla741</td>\n      <td>Susa</td>\n      <td>NaN</td>\n      <td>NaN</td>\n      <td>NaN</td>\n      <td>NaN</td>\n      <td>NaN</td>\n      <td>0</td>\n      <td>NaN</td>\n      <td>...</td>\n      <td>0.0</td>\n      <td>0.0</td>\n      <td>0.0</td>\n      <td>0.0</td>\n      <td>0.0</td>\n      <td>0.0</td>\n      <td>0.0</td>\n      <td>0.0</td>\n      <td>0.0</td>\n      <td>0.0</td>\n    </tr>\n    <tr>\n      <th>3676</th>\n      <td>3678</td>\n      <td>#pla776</td>\n      <td>tierra de los amorreos</td>\n      <td>NaN</td>\n      <td>NaN</td>\n      <td>NaN</td>\n      <td>NaN</td>\n      <td>NaN</td>\n      <td>0</td>\n      <td>NaN</td>\n      <td>...</td>\n      <td>0.0</td>\n      <td>0.0</td>\n      <td>0.0</td>\n      <td>0.0</td>\n      <td>0.0</td>\n      <td>0.0</td>\n      <td>0.0</td>\n      <td>0.0</td>\n      <td>0.0</td>\n      <td>0.0</td>\n    </tr>\n    <tr>\n      <th>3685</th>\n      <td>3687</td>\n      <td>#pla785</td>\n      <td>Lais</td>\n      <td>NaN</td>\n      <td>la rebautizan como Dan</td>\n      <td>NaN</td>\n      <td>NaN</td>\n      <td>medium</td>\n      <td>0</td>\n      <td>NaN</td>\n      <td>...</td>\n      <td>0.0</td>\n      <td>0.0</td>\n      <td>0.0</td>\n      <td>0.0</td>\n      <td>0.0</td>\n      <td>0.0</td>\n      <td>0.0</td>\n      <td>0.0</td>\n      <td>0.0</td>\n      <td>0.0</td>\n    </tr>\n    <tr>\n      <th>3753</th>\n      <td>3755</td>\n      <td>#pla853</td>\n      <td>Askenaz</td>\n      <td>NaN</td>\n      <td>NaN</td>\n      <td>NaN</td>\n      <td>NaN</td>\n      <td>NaN</td>\n      <td>0</td>\n      <td>NaN</td>\n      <td>...</td>\n      <td>0.0</td>\n      <td>0.0</td>\n      <td>0.0</td>\n      <td>0.0</td>\n      <td>0.0</td>\n      <td>0.0</td>\n      <td>0.0</td>\n      <td>0.0</td>\n      <td>0.0</td>\n      <td>0.0</td>\n    </tr>\n    <tr>\n      <th>3845</th>\n      <td>3847</td>\n      <td>#pla945</td>\n      <td>Hor</td>\n      <td>NaN</td>\n      <td>NaN</td>\n      <td>podría ser que con este nombre se referencien ...</td>\n      <td>NaN</td>\n      <td>medium</td>\n      <td>0</td>\n      <td>NaN</td>\n      <td>...</td>\n      <td>0.0</td>\n      <td>0.0</td>\n      <td>0.0</td>\n      <td>0.0</td>\n      <td>0.0</td>\n      <td>0.0</td>\n      <td>0.0</td>\n      <td>0.0</td>\n      <td>0.0</td>\n      <td>0.0</td>\n    </tr>\n  </tbody>\n</table>\n<p>150 rows × 93 columns</p>\n</div>"
     },
     "metadata": {},
     "execution_count": 17
    }
   ],
   "source": [
    "entities.loc[entities[\"geo_cert\"].isin([\"medium\", \"high\"])]"
   ]
  },
  {
   "cell_type": "code",
   "execution_count": 65,
   "metadata": {},
   "outputs": [],
   "source": [
    "verses_places_longitude_latitude = pd.merge(results_df, entities.loc[entities[\"geo_cert\"].isin([\"medium\", \"high\"])][[\"id\", \"NormalizedName-sp\", \"longitude\", \"latitude\"]], left_on=\"geolocation_id\", right_on=\"id\", how=\"left\")"
   ]
  },
  {
   "cell_type": "code",
   "execution_count": 66,
   "metadata": {},
   "outputs": [
    {
     "output_type": "execute_result",
     "data": {
      "text/plain": [
       "               verse geolocation_id      id NormalizedName-sp  longitude  \\\n",
       "0      b.GEN.001.001         #pla41  #pla41            tierra        0.0   \n",
       "1      b.GEN.001.002         #pla41  #pla41            tierra        0.0   \n",
       "2      b.GEN.001.003                    NaN               NaN        NaN   \n",
       "3      b.GEN.001.004                    NaN               NaN        NaN   \n",
       "4      b.GEN.001.005                    NaN               NaN        NaN   \n",
       "...              ...            ...     ...               ...        ...   \n",
       "35858  b.REV.022.017                    NaN               NaN        NaN   \n",
       "35859  b.REV.022.018                    NaN               NaN        NaN   \n",
       "35860  b.REV.022.019         #pla71     NaN               NaN        NaN   \n",
       "35861  b.REV.022.020                    NaN               NaN        NaN   \n",
       "35862  b.REV.022.021                    NaN               NaN        NaN   \n",
       "\n",
       "       latitude  \n",
       "0         -90.0  \n",
       "1         -90.0  \n",
       "2           NaN  \n",
       "3           NaN  \n",
       "4           NaN  \n",
       "...         ...  \n",
       "35858       NaN  \n",
       "35859       NaN  \n",
       "35860       NaN  \n",
       "35861       NaN  \n",
       "35862       NaN  \n",
       "\n",
       "[35863 rows x 6 columns]"
      ],
      "text/html": "<div>\n<style scoped>\n    .dataframe tbody tr th:only-of-type {\n        vertical-align: middle;\n    }\n\n    .dataframe tbody tr th {\n        vertical-align: top;\n    }\n\n    .dataframe thead th {\n        text-align: right;\n    }\n</style>\n<table border=\"1\" class=\"dataframe\">\n  <thead>\n    <tr style=\"text-align: right;\">\n      <th></th>\n      <th>verse</th>\n      <th>geolocation_id</th>\n      <th>id</th>\n      <th>NormalizedName-sp</th>\n      <th>longitude</th>\n      <th>latitude</th>\n    </tr>\n  </thead>\n  <tbody>\n    <tr>\n      <th>0</th>\n      <td>b.GEN.001.001</td>\n      <td>#pla41</td>\n      <td>#pla41</td>\n      <td>tierra</td>\n      <td>0.0</td>\n      <td>-90.0</td>\n    </tr>\n    <tr>\n      <th>1</th>\n      <td>b.GEN.001.002</td>\n      <td>#pla41</td>\n      <td>#pla41</td>\n      <td>tierra</td>\n      <td>0.0</td>\n      <td>-90.0</td>\n    </tr>\n    <tr>\n      <th>2</th>\n      <td>b.GEN.001.003</td>\n      <td></td>\n      <td>NaN</td>\n      <td>NaN</td>\n      <td>NaN</td>\n      <td>NaN</td>\n    </tr>\n    <tr>\n      <th>3</th>\n      <td>b.GEN.001.004</td>\n      <td></td>\n      <td>NaN</td>\n      <td>NaN</td>\n      <td>NaN</td>\n      <td>NaN</td>\n    </tr>\n    <tr>\n      <th>4</th>\n      <td>b.GEN.001.005</td>\n      <td></td>\n      <td>NaN</td>\n      <td>NaN</td>\n      <td>NaN</td>\n      <td>NaN</td>\n    </tr>\n    <tr>\n      <th>...</th>\n      <td>...</td>\n      <td>...</td>\n      <td>...</td>\n      <td>...</td>\n      <td>...</td>\n      <td>...</td>\n    </tr>\n    <tr>\n      <th>35858</th>\n      <td>b.REV.022.017</td>\n      <td></td>\n      <td>NaN</td>\n      <td>NaN</td>\n      <td>NaN</td>\n      <td>NaN</td>\n    </tr>\n    <tr>\n      <th>35859</th>\n      <td>b.REV.022.018</td>\n      <td></td>\n      <td>NaN</td>\n      <td>NaN</td>\n      <td>NaN</td>\n      <td>NaN</td>\n    </tr>\n    <tr>\n      <th>35860</th>\n      <td>b.REV.022.019</td>\n      <td>#pla71</td>\n      <td>NaN</td>\n      <td>NaN</td>\n      <td>NaN</td>\n      <td>NaN</td>\n    </tr>\n    <tr>\n      <th>35861</th>\n      <td>b.REV.022.020</td>\n      <td></td>\n      <td>NaN</td>\n      <td>NaN</td>\n      <td>NaN</td>\n      <td>NaN</td>\n    </tr>\n    <tr>\n      <th>35862</th>\n      <td>b.REV.022.021</td>\n      <td></td>\n      <td>NaN</td>\n      <td>NaN</td>\n      <td>NaN</td>\n      <td>NaN</td>\n    </tr>\n  </tbody>\n</table>\n<p>35863 rows × 6 columns</p>\n</div>"
     },
     "metadata": {},
     "execution_count": 66
    }
   ],
   "source": [
    "verses_places_longitude_latitude"
   ]
  },
  {
   "cell_type": "code",
   "execution_count": 67,
   "metadata": {},
   "outputs": [],
   "source": [
    "verses_places_longitude_latitude[\"id\"] = verses_places_longitude_latitude.index"
   ]
  },
  {
   "cell_type": "code",
   "execution_count": 68,
   "metadata": {},
   "outputs": [],
   "source": [
    "verses_places_longitude_latitude[\"book\"] = verses_places_longitude_latitude[\"verse\"].str.extract(r\"b\\.(...).+$\")"
   ]
  },
  {
   "cell_type": "code",
   "execution_count": null,
   "metadata": {},
   "outputs": [],
   "source": []
  },
  {
   "cell_type": "code",
   "execution_count": 69,
   "metadata": {},
   "outputs": [
    {
     "output_type": "execute_result",
     "data": {
      "text/plain": [
       "            verse geolocation_id  id NormalizedName-sp  longitude  latitude  \\\n",
       "0   b.GEN.001.001         #pla41   0            tierra        0.0     -90.0   \n",
       "1   b.GEN.001.002         #pla41   1            tierra        0.0     -90.0   \n",
       "2   b.GEN.001.003                  2               NaN        NaN       NaN   \n",
       "3   b.GEN.001.004                  3               NaN        NaN       NaN   \n",
       "4   b.GEN.001.005                  4               NaN        NaN       NaN   \n",
       "5   b.GEN.001.006                  5               NaN        NaN       NaN   \n",
       "6   b.GEN.001.007                  6               NaN        NaN       NaN   \n",
       "7   b.GEN.001.008                  7               NaN        NaN       NaN   \n",
       "8   b.GEN.001.009                  8               NaN        NaN       NaN   \n",
       "9   b.GEN.001.010                  9               NaN        NaN       NaN   \n",
       "10  b.GEN.001.011         #pla41  10            tierra        0.0     -90.0   \n",
       "11  b.GEN.001.012         #pla41  11            tierra        0.0     -90.0   \n",
       "12  b.GEN.001.013                 12               NaN        NaN       NaN   \n",
       "13  b.GEN.001.014                 13               NaN        NaN       NaN   \n",
       "14  b.GEN.001.015         #pla41  14            tierra        0.0     -90.0   \n",
       "15  b.GEN.001.016                 15               NaN        NaN       NaN   \n",
       "16  b.GEN.001.017         #pla41  16            tierra        0.0     -90.0   \n",
       "17  b.GEN.001.018                 17               NaN        NaN       NaN   \n",
       "18  b.GEN.001.019                 18               NaN        NaN       NaN   \n",
       "19  b.GEN.001.020         #pla41  19            tierra        0.0     -90.0   \n",
       "20  b.GEN.001.021                 20               NaN        NaN       NaN   \n",
       "21  b.GEN.001.022         #pla41  21            tierra        0.0     -90.0   \n",
       "22  b.GEN.001.023                 22               NaN        NaN       NaN   \n",
       "23  b.GEN.001.024         #pla41  23            tierra        0.0     -90.0   \n",
       "24  b.GEN.001.025         #pla41  24            tierra        0.0     -90.0   \n",
       "25  b.GEN.001.026         #pla41  25            tierra        0.0     -90.0   \n",
       "26  b.GEN.001.027                 26               NaN        NaN       NaN   \n",
       "27  b.GEN.001.028         #pla41  27            tierra        0.0     -90.0   \n",
       "28  b.GEN.001.029         #pla41  28            tierra        0.0     -90.0   \n",
       "29  b.GEN.001.030         #pla41  29            tierra        0.0     -90.0   \n",
       "30  b.GEN.001.031                 30               NaN        NaN       NaN   \n",
       "31  b.GEN.002.001         #pla41  31            tierra        0.0     -90.0   \n",
       "32  b.GEN.002.002                 32               NaN        NaN       NaN   \n",
       "33  b.GEN.002.003                 33               NaN        NaN       NaN   \n",
       "34  b.GEN.002.004         #pla41  34            tierra        0.0     -90.0   \n",
       "35  b.GEN.002.005         #pla41  35            tierra        0.0     -90.0   \n",
       "36  b.GEN.002.006         #pla41  36            tierra        0.0     -90.0   \n",
       "37  b.GEN.002.007         #pla41  37            tierra        0.0     -90.0   \n",
       "38  b.GEN.002.008         #pla77  38               NaN        NaN       NaN   \n",
       "39  b.GEN.002.008         #pla39  39               NaN        NaN       NaN   \n",
       "40  b.GEN.002.009         #pla41  40            tierra        0.0     -90.0   \n",
       "41  b.GEN.002.009         #pla77  41               NaN        NaN       NaN   \n",
       "42  b.GEN.002.010         #pla77  42               NaN        NaN       NaN   \n",
       "43  b.GEN.002.011         #pla85  43               NaN        NaN       NaN   \n",
       "44  b.GEN.002.011         #pla86  44               NaN        NaN       NaN   \n",
       "45  b.GEN.002.012         #pla86  45               NaN        NaN       NaN   \n",
       "46  b.GEN.002.013         #pla87  46               NaN        NaN       NaN   \n",
       "47  b.GEN.002.013         #pla88  47               NaN        NaN       NaN   \n",
       "48  b.GEN.002.014         #pla39  48               NaN        NaN       NaN   \n",
       "49  b.GEN.002.014         #pla89  49               NaN        NaN       NaN   \n",
       "\n",
       "   book  \n",
       "0   GEN  \n",
       "1   GEN  \n",
       "2   GEN  \n",
       "3   GEN  \n",
       "4   GEN  \n",
       "5   GEN  \n",
       "6   GEN  \n",
       "7   GEN  \n",
       "8   GEN  \n",
       "9   GEN  \n",
       "10  GEN  \n",
       "11  GEN  \n",
       "12  GEN  \n",
       "13  GEN  \n",
       "14  GEN  \n",
       "15  GEN  \n",
       "16  GEN  \n",
       "17  GEN  \n",
       "18  GEN  \n",
       "19  GEN  \n",
       "20  GEN  \n",
       "21  GEN  \n",
       "22  GEN  \n",
       "23  GEN  \n",
       "24  GEN  \n",
       "25  GEN  \n",
       "26  GEN  \n",
       "27  GEN  \n",
       "28  GEN  \n",
       "29  GEN  \n",
       "30  GEN  \n",
       "31  GEN  \n",
       "32  GEN  \n",
       "33  GEN  \n",
       "34  GEN  \n",
       "35  GEN  \n",
       "36  GEN  \n",
       "37  GEN  \n",
       "38  GEN  \n",
       "39  GEN  \n",
       "40  GEN  \n",
       "41  GEN  \n",
       "42  GEN  \n",
       "43  GEN  \n",
       "44  GEN  \n",
       "45  GEN  \n",
       "46  GEN  \n",
       "47  GEN  \n",
       "48  GEN  \n",
       "49  GEN  "
      ],
      "text/html": "<div>\n<style scoped>\n    .dataframe tbody tr th:only-of-type {\n        vertical-align: middle;\n    }\n\n    .dataframe tbody tr th {\n        vertical-align: top;\n    }\n\n    .dataframe thead th {\n        text-align: right;\n    }\n</style>\n<table border=\"1\" class=\"dataframe\">\n  <thead>\n    <tr style=\"text-align: right;\">\n      <th></th>\n      <th>verse</th>\n      <th>geolocation_id</th>\n      <th>id</th>\n      <th>NormalizedName-sp</th>\n      <th>longitude</th>\n      <th>latitude</th>\n      <th>book</th>\n    </tr>\n  </thead>\n  <tbody>\n    <tr>\n      <th>0</th>\n      <td>b.GEN.001.001</td>\n      <td>#pla41</td>\n      <td>0</td>\n      <td>tierra</td>\n      <td>0.0</td>\n      <td>-90.0</td>\n      <td>GEN</td>\n    </tr>\n    <tr>\n      <th>1</th>\n      <td>b.GEN.001.002</td>\n      <td>#pla41</td>\n      <td>1</td>\n      <td>tierra</td>\n      <td>0.0</td>\n      <td>-90.0</td>\n      <td>GEN</td>\n    </tr>\n    <tr>\n      <th>2</th>\n      <td>b.GEN.001.003</td>\n      <td></td>\n      <td>2</td>\n      <td>NaN</td>\n      <td>NaN</td>\n      <td>NaN</td>\n      <td>GEN</td>\n    </tr>\n    <tr>\n      <th>3</th>\n      <td>b.GEN.001.004</td>\n      <td></td>\n      <td>3</td>\n      <td>NaN</td>\n      <td>NaN</td>\n      <td>NaN</td>\n      <td>GEN</td>\n    </tr>\n    <tr>\n      <th>4</th>\n      <td>b.GEN.001.005</td>\n      <td></td>\n      <td>4</td>\n      <td>NaN</td>\n      <td>NaN</td>\n      <td>NaN</td>\n      <td>GEN</td>\n    </tr>\n    <tr>\n      <th>5</th>\n      <td>b.GEN.001.006</td>\n      <td></td>\n      <td>5</td>\n      <td>NaN</td>\n      <td>NaN</td>\n      <td>NaN</td>\n      <td>GEN</td>\n    </tr>\n    <tr>\n      <th>6</th>\n      <td>b.GEN.001.007</td>\n      <td></td>\n      <td>6</td>\n      <td>NaN</td>\n      <td>NaN</td>\n      <td>NaN</td>\n      <td>GEN</td>\n    </tr>\n    <tr>\n      <th>7</th>\n      <td>b.GEN.001.008</td>\n      <td></td>\n      <td>7</td>\n      <td>NaN</td>\n      <td>NaN</td>\n      <td>NaN</td>\n      <td>GEN</td>\n    </tr>\n    <tr>\n      <th>8</th>\n      <td>b.GEN.001.009</td>\n      <td></td>\n      <td>8</td>\n      <td>NaN</td>\n      <td>NaN</td>\n      <td>NaN</td>\n      <td>GEN</td>\n    </tr>\n    <tr>\n      <th>9</th>\n      <td>b.GEN.001.010</td>\n      <td></td>\n      <td>9</td>\n      <td>NaN</td>\n      <td>NaN</td>\n      <td>NaN</td>\n      <td>GEN</td>\n    </tr>\n    <tr>\n      <th>10</th>\n      <td>b.GEN.001.011</td>\n      <td>#pla41</td>\n      <td>10</td>\n      <td>tierra</td>\n      <td>0.0</td>\n      <td>-90.0</td>\n      <td>GEN</td>\n    </tr>\n    <tr>\n      <th>11</th>\n      <td>b.GEN.001.012</td>\n      <td>#pla41</td>\n      <td>11</td>\n      <td>tierra</td>\n      <td>0.0</td>\n      <td>-90.0</td>\n      <td>GEN</td>\n    </tr>\n    <tr>\n      <th>12</th>\n      <td>b.GEN.001.013</td>\n      <td></td>\n      <td>12</td>\n      <td>NaN</td>\n      <td>NaN</td>\n      <td>NaN</td>\n      <td>GEN</td>\n    </tr>\n    <tr>\n      <th>13</th>\n      <td>b.GEN.001.014</td>\n      <td></td>\n      <td>13</td>\n      <td>NaN</td>\n      <td>NaN</td>\n      <td>NaN</td>\n      <td>GEN</td>\n    </tr>\n    <tr>\n      <th>14</th>\n      <td>b.GEN.001.015</td>\n      <td>#pla41</td>\n      <td>14</td>\n      <td>tierra</td>\n      <td>0.0</td>\n      <td>-90.0</td>\n      <td>GEN</td>\n    </tr>\n    <tr>\n      <th>15</th>\n      <td>b.GEN.001.016</td>\n      <td></td>\n      <td>15</td>\n      <td>NaN</td>\n      <td>NaN</td>\n      <td>NaN</td>\n      <td>GEN</td>\n    </tr>\n    <tr>\n      <th>16</th>\n      <td>b.GEN.001.017</td>\n      <td>#pla41</td>\n      <td>16</td>\n      <td>tierra</td>\n      <td>0.0</td>\n      <td>-90.0</td>\n      <td>GEN</td>\n    </tr>\n    <tr>\n      <th>17</th>\n      <td>b.GEN.001.018</td>\n      <td></td>\n      <td>17</td>\n      <td>NaN</td>\n      <td>NaN</td>\n      <td>NaN</td>\n      <td>GEN</td>\n    </tr>\n    <tr>\n      <th>18</th>\n      <td>b.GEN.001.019</td>\n      <td></td>\n      <td>18</td>\n      <td>NaN</td>\n      <td>NaN</td>\n      <td>NaN</td>\n      <td>GEN</td>\n    </tr>\n    <tr>\n      <th>19</th>\n      <td>b.GEN.001.020</td>\n      <td>#pla41</td>\n      <td>19</td>\n      <td>tierra</td>\n      <td>0.0</td>\n      <td>-90.0</td>\n      <td>GEN</td>\n    </tr>\n    <tr>\n      <th>20</th>\n      <td>b.GEN.001.021</td>\n      <td></td>\n      <td>20</td>\n      <td>NaN</td>\n      <td>NaN</td>\n      <td>NaN</td>\n      <td>GEN</td>\n    </tr>\n    <tr>\n      <th>21</th>\n      <td>b.GEN.001.022</td>\n      <td>#pla41</td>\n      <td>21</td>\n      <td>tierra</td>\n      <td>0.0</td>\n      <td>-90.0</td>\n      <td>GEN</td>\n    </tr>\n    <tr>\n      <th>22</th>\n      <td>b.GEN.001.023</td>\n      <td></td>\n      <td>22</td>\n      <td>NaN</td>\n      <td>NaN</td>\n      <td>NaN</td>\n      <td>GEN</td>\n    </tr>\n    <tr>\n      <th>23</th>\n      <td>b.GEN.001.024</td>\n      <td>#pla41</td>\n      <td>23</td>\n      <td>tierra</td>\n      <td>0.0</td>\n      <td>-90.0</td>\n      <td>GEN</td>\n    </tr>\n    <tr>\n      <th>24</th>\n      <td>b.GEN.001.025</td>\n      <td>#pla41</td>\n      <td>24</td>\n      <td>tierra</td>\n      <td>0.0</td>\n      <td>-90.0</td>\n      <td>GEN</td>\n    </tr>\n    <tr>\n      <th>25</th>\n      <td>b.GEN.001.026</td>\n      <td>#pla41</td>\n      <td>25</td>\n      <td>tierra</td>\n      <td>0.0</td>\n      <td>-90.0</td>\n      <td>GEN</td>\n    </tr>\n    <tr>\n      <th>26</th>\n      <td>b.GEN.001.027</td>\n      <td></td>\n      <td>26</td>\n      <td>NaN</td>\n      <td>NaN</td>\n      <td>NaN</td>\n      <td>GEN</td>\n    </tr>\n    <tr>\n      <th>27</th>\n      <td>b.GEN.001.028</td>\n      <td>#pla41</td>\n      <td>27</td>\n      <td>tierra</td>\n      <td>0.0</td>\n      <td>-90.0</td>\n      <td>GEN</td>\n    </tr>\n    <tr>\n      <th>28</th>\n      <td>b.GEN.001.029</td>\n      <td>#pla41</td>\n      <td>28</td>\n      <td>tierra</td>\n      <td>0.0</td>\n      <td>-90.0</td>\n      <td>GEN</td>\n    </tr>\n    <tr>\n      <th>29</th>\n      <td>b.GEN.001.030</td>\n      <td>#pla41</td>\n      <td>29</td>\n      <td>tierra</td>\n      <td>0.0</td>\n      <td>-90.0</td>\n      <td>GEN</td>\n    </tr>\n    <tr>\n      <th>30</th>\n      <td>b.GEN.001.031</td>\n      <td></td>\n      <td>30</td>\n      <td>NaN</td>\n      <td>NaN</td>\n      <td>NaN</td>\n      <td>GEN</td>\n    </tr>\n    <tr>\n      <th>31</th>\n      <td>b.GEN.002.001</td>\n      <td>#pla41</td>\n      <td>31</td>\n      <td>tierra</td>\n      <td>0.0</td>\n      <td>-90.0</td>\n      <td>GEN</td>\n    </tr>\n    <tr>\n      <th>32</th>\n      <td>b.GEN.002.002</td>\n      <td></td>\n      <td>32</td>\n      <td>NaN</td>\n      <td>NaN</td>\n      <td>NaN</td>\n      <td>GEN</td>\n    </tr>\n    <tr>\n      <th>33</th>\n      <td>b.GEN.002.003</td>\n      <td></td>\n      <td>33</td>\n      <td>NaN</td>\n      <td>NaN</td>\n      <td>NaN</td>\n      <td>GEN</td>\n    </tr>\n    <tr>\n      <th>34</th>\n      <td>b.GEN.002.004</td>\n      <td>#pla41</td>\n      <td>34</td>\n      <td>tierra</td>\n      <td>0.0</td>\n      <td>-90.0</td>\n      <td>GEN</td>\n    </tr>\n    <tr>\n      <th>35</th>\n      <td>b.GEN.002.005</td>\n      <td>#pla41</td>\n      <td>35</td>\n      <td>tierra</td>\n      <td>0.0</td>\n      <td>-90.0</td>\n      <td>GEN</td>\n    </tr>\n    <tr>\n      <th>36</th>\n      <td>b.GEN.002.006</td>\n      <td>#pla41</td>\n      <td>36</td>\n      <td>tierra</td>\n      <td>0.0</td>\n      <td>-90.0</td>\n      <td>GEN</td>\n    </tr>\n    <tr>\n      <th>37</th>\n      <td>b.GEN.002.007</td>\n      <td>#pla41</td>\n      <td>37</td>\n      <td>tierra</td>\n      <td>0.0</td>\n      <td>-90.0</td>\n      <td>GEN</td>\n    </tr>\n    <tr>\n      <th>38</th>\n      <td>b.GEN.002.008</td>\n      <td>#pla77</td>\n      <td>38</td>\n      <td>NaN</td>\n      <td>NaN</td>\n      <td>NaN</td>\n      <td>GEN</td>\n    </tr>\n    <tr>\n      <th>39</th>\n      <td>b.GEN.002.008</td>\n      <td>#pla39</td>\n      <td>39</td>\n      <td>NaN</td>\n      <td>NaN</td>\n      <td>NaN</td>\n      <td>GEN</td>\n    </tr>\n    <tr>\n      <th>40</th>\n      <td>b.GEN.002.009</td>\n      <td>#pla41</td>\n      <td>40</td>\n      <td>tierra</td>\n      <td>0.0</td>\n      <td>-90.0</td>\n      <td>GEN</td>\n    </tr>\n    <tr>\n      <th>41</th>\n      <td>b.GEN.002.009</td>\n      <td>#pla77</td>\n      <td>41</td>\n      <td>NaN</td>\n      <td>NaN</td>\n      <td>NaN</td>\n      <td>GEN</td>\n    </tr>\n    <tr>\n      <th>42</th>\n      <td>b.GEN.002.010</td>\n      <td>#pla77</td>\n      <td>42</td>\n      <td>NaN</td>\n      <td>NaN</td>\n      <td>NaN</td>\n      <td>GEN</td>\n    </tr>\n    <tr>\n      <th>43</th>\n      <td>b.GEN.002.011</td>\n      <td>#pla85</td>\n      <td>43</td>\n      <td>NaN</td>\n      <td>NaN</td>\n      <td>NaN</td>\n      <td>GEN</td>\n    </tr>\n    <tr>\n      <th>44</th>\n      <td>b.GEN.002.011</td>\n      <td>#pla86</td>\n      <td>44</td>\n      <td>NaN</td>\n      <td>NaN</td>\n      <td>NaN</td>\n      <td>GEN</td>\n    </tr>\n    <tr>\n      <th>45</th>\n      <td>b.GEN.002.012</td>\n      <td>#pla86</td>\n      <td>45</td>\n      <td>NaN</td>\n      <td>NaN</td>\n      <td>NaN</td>\n      <td>GEN</td>\n    </tr>\n    <tr>\n      <th>46</th>\n      <td>b.GEN.002.013</td>\n      <td>#pla87</td>\n      <td>46</td>\n      <td>NaN</td>\n      <td>NaN</td>\n      <td>NaN</td>\n      <td>GEN</td>\n    </tr>\n    <tr>\n      <th>47</th>\n      <td>b.GEN.002.013</td>\n      <td>#pla88</td>\n      <td>47</td>\n      <td>NaN</td>\n      <td>NaN</td>\n      <td>NaN</td>\n      <td>GEN</td>\n    </tr>\n    <tr>\n      <th>48</th>\n      <td>b.GEN.002.014</td>\n      <td>#pla39</td>\n      <td>48</td>\n      <td>NaN</td>\n      <td>NaN</td>\n      <td>NaN</td>\n      <td>GEN</td>\n    </tr>\n    <tr>\n      <th>49</th>\n      <td>b.GEN.002.014</td>\n      <td>#pla89</td>\n      <td>49</td>\n      <td>NaN</td>\n      <td>NaN</td>\n      <td>NaN</td>\n      <td>GEN</td>\n    </tr>\n  </tbody>\n</table>\n</div>"
     },
     "metadata": {},
     "execution_count": 69
    }
   ],
   "source": [
    "verses_places_longitude_latitude.head(50)"
   ]
  },
  {
   "cell_type": "code",
   "execution_count": 70,
   "metadata": {},
   "outputs": [],
   "source": [
    "verses_places_longitude_latitude.to_csv(outdir + \"/verses_places_longitude_latitude.tsv\", sep=\"\\t\")"
   ]
  },
  {
   "cell_type": "code",
   "execution_count": 71,
   "metadata": {},
   "outputs": [],
   "source": [
    "verses_places_longitude_latitude.to_csv(outdir + \"/verses_places_longitude_latitude.csv\")"
   ]
  },
  {
   "cell_type": "code",
   "execution_count": 72,
   "metadata": {},
   "outputs": [
    {
     "output_type": "execute_result",
     "data": {
      "text/plain": [
       "               verse geolocation_id     id NormalizedName-sp  longitude  \\\n",
       "0      b.GEN.001.001         #pla41      0            tierra        0.0   \n",
       "1      b.GEN.001.002         #pla41      1            tierra        0.0   \n",
       "2      b.GEN.001.003                     2               NaN        NaN   \n",
       "3      b.GEN.001.004                     3               NaN        NaN   \n",
       "4      b.GEN.001.005                     4               NaN        NaN   \n",
       "...              ...            ...    ...               ...        ...   \n",
       "35858  b.REV.022.017                 35858               NaN        NaN   \n",
       "35859  b.REV.022.018                 35859               NaN        NaN   \n",
       "35860  b.REV.022.019         #pla71  35860               NaN        NaN   \n",
       "35861  b.REV.022.020                 35861               NaN        NaN   \n",
       "35862  b.REV.022.021                 35862               NaN        NaN   \n",
       "\n",
       "       latitude book  \n",
       "0         -90.0  GEN  \n",
       "1         -90.0  GEN  \n",
       "2           NaN  GEN  \n",
       "3           NaN  GEN  \n",
       "4           NaN  GEN  \n",
       "...         ...  ...  \n",
       "35858       NaN  REV  \n",
       "35859       NaN  REV  \n",
       "35860       NaN  REV  \n",
       "35861       NaN  REV  \n",
       "35862       NaN  REV  \n",
       "\n",
       "[35863 rows x 7 columns]"
      ],
      "text/html": "<div>\n<style scoped>\n    .dataframe tbody tr th:only-of-type {\n        vertical-align: middle;\n    }\n\n    .dataframe tbody tr th {\n        vertical-align: top;\n    }\n\n    .dataframe thead th {\n        text-align: right;\n    }\n</style>\n<table border=\"1\" class=\"dataframe\">\n  <thead>\n    <tr style=\"text-align: right;\">\n      <th></th>\n      <th>verse</th>\n      <th>geolocation_id</th>\n      <th>id</th>\n      <th>NormalizedName-sp</th>\n      <th>longitude</th>\n      <th>latitude</th>\n      <th>book</th>\n    </tr>\n  </thead>\n  <tbody>\n    <tr>\n      <th>0</th>\n      <td>b.GEN.001.001</td>\n      <td>#pla41</td>\n      <td>0</td>\n      <td>tierra</td>\n      <td>0.0</td>\n      <td>-90.0</td>\n      <td>GEN</td>\n    </tr>\n    <tr>\n      <th>1</th>\n      <td>b.GEN.001.002</td>\n      <td>#pla41</td>\n      <td>1</td>\n      <td>tierra</td>\n      <td>0.0</td>\n      <td>-90.0</td>\n      <td>GEN</td>\n    </tr>\n    <tr>\n      <th>2</th>\n      <td>b.GEN.001.003</td>\n      <td></td>\n      <td>2</td>\n      <td>NaN</td>\n      <td>NaN</td>\n      <td>NaN</td>\n      <td>GEN</td>\n    </tr>\n    <tr>\n      <th>3</th>\n      <td>b.GEN.001.004</td>\n      <td></td>\n      <td>3</td>\n      <td>NaN</td>\n      <td>NaN</td>\n      <td>NaN</td>\n      <td>GEN</td>\n    </tr>\n    <tr>\n      <th>4</th>\n      <td>b.GEN.001.005</td>\n      <td></td>\n      <td>4</td>\n      <td>NaN</td>\n      <td>NaN</td>\n      <td>NaN</td>\n      <td>GEN</td>\n    </tr>\n    <tr>\n      <th>...</th>\n      <td>...</td>\n      <td>...</td>\n      <td>...</td>\n      <td>...</td>\n      <td>...</td>\n      <td>...</td>\n      <td>...</td>\n    </tr>\n    <tr>\n      <th>35858</th>\n      <td>b.REV.022.017</td>\n      <td></td>\n      <td>35858</td>\n      <td>NaN</td>\n      <td>NaN</td>\n      <td>NaN</td>\n      <td>REV</td>\n    </tr>\n    <tr>\n      <th>35859</th>\n      <td>b.REV.022.018</td>\n      <td></td>\n      <td>35859</td>\n      <td>NaN</td>\n      <td>NaN</td>\n      <td>NaN</td>\n      <td>REV</td>\n    </tr>\n    <tr>\n      <th>35860</th>\n      <td>b.REV.022.019</td>\n      <td>#pla71</td>\n      <td>35860</td>\n      <td>NaN</td>\n      <td>NaN</td>\n      <td>NaN</td>\n      <td>REV</td>\n    </tr>\n    <tr>\n      <th>35861</th>\n      <td>b.REV.022.020</td>\n      <td></td>\n      <td>35861</td>\n      <td>NaN</td>\n      <td>NaN</td>\n      <td>NaN</td>\n      <td>REV</td>\n    </tr>\n    <tr>\n      <th>35862</th>\n      <td>b.REV.022.021</td>\n      <td></td>\n      <td>35862</td>\n      <td>NaN</td>\n      <td>NaN</td>\n      <td>NaN</td>\n      <td>REV</td>\n    </tr>\n  </tbody>\n</table>\n<p>35863 rows × 7 columns</p>\n</div>"
     },
     "metadata": {},
     "execution_count": 72
    }
   ],
   "source": [
    "verses_places_longitude_latitude"
   ]
  },
  {
   "cell_type": "code",
   "execution_count": 73,
   "metadata": {},
   "outputs": [],
   "source": [
    "verses_places_longitude_latitude[\"Name\"] = verses_places_longitude_latitude[\"NormalizedName-sp\"]"
   ]
  },
  {
   "cell_type": "code",
   "execution_count": 74,
   "metadata": {},
   "outputs": [],
   "source": [
    "verses_places_longitude_latitude[\"Address\"] = verses_places_longitude_latitude[\"NormalizedName-sp\"]"
   ]
  },
  {
   "cell_type": "code",
   "execution_count": 75,
   "metadata": {},
   "outputs": [],
   "source": [
    "verses_places_longitude_latitude[\"Description\"] = verses_places_longitude_latitude[\"verse\"]"
   ]
  },
  {
   "cell_type": "code",
   "execution_count": 76,
   "metadata": {},
   "outputs": [],
   "source": [
    "verses_places_longitude_latitude[\"Longitude\"] = verses_places_longitude_latitude[\"longitude\"]"
   ]
  },
  {
   "cell_type": "code",
   "execution_count": 77,
   "metadata": {},
   "outputs": [],
   "source": [
    "verses_places_longitude_latitude[\"Latitude\"] = verses_places_longitude_latitude[\"latitude\"]"
   ]
  },
  {
   "cell_type": "code",
   "execution_count": 78,
   "metadata": {},
   "outputs": [],
   "source": [
    "verses_places_longitude_latitude[\"TimeStamp\"] = verses_places_longitude_latitude[\"id\"]"
   ]
  },
  {
   "cell_type": "code",
   "execution_count": 79,
   "metadata": {},
   "outputs": [],
   "source": [
    "verses_places_longitude_latitude[\"TimeSpan:begin\"] = \"\""
   ]
  },
  {
   "cell_type": "code",
   "execution_count": 80,
   "metadata": {},
   "outputs": [],
   "source": [
    "verses_places_longitude_latitude[\"TimeSpan:end\"] = \"\""
   ]
  },
  {
   "cell_type": "code",
   "execution_count": 81,
   "metadata": {},
   "outputs": [],
   "source": [
    "verses_places_longitude_latitude[\"GettyID\"] = \"\""
   ]
  },
  {
   "cell_type": "code",
   "execution_count": 82,
   "metadata": {},
   "outputs": [],
   "source": [
    "selected_columns = [\"Name\",\"Address\",\"Description\",\"Longitude\",\"Latitude\",\"TimeStamp\",\"TimeSpan:begin\",\"TimeSpan:end\",\"GettyID\"]\n",
    "\n",
    "\n"
   ]
  },
  {
   "cell_type": "code",
   "execution_count": 84,
   "metadata": {},
   "outputs": [],
   "source": [
    "verses_places_longitude_latitude[selected_columns].to_csv(outdir + \"/verses_places_selected_columns.csv\")"
   ]
  },
  {
   "cell_type": "code",
   "execution_count": 85,
   "metadata": {},
   "outputs": [],
   "source": [
    "verses_places_longitude_latitude.index = verses_places_longitude_latitude[\"verse\"]"
   ]
  },
  {
   "cell_type": "code",
   "execution_count": 86,
   "metadata": {},
   "outputs": [
    {
     "output_type": "execute_result",
     "data": {
      "text/plain": [
       "                       verse geolocation_id  id NormalizedName-sp  longitude  \\\n",
       "verse                                                                          \n",
       "b.GEN.001.001  b.GEN.001.001         #pla41   0            tierra        0.0   \n",
       "b.GEN.001.002  b.GEN.001.002         #pla41   1            tierra        0.0   \n",
       "b.GEN.001.003  b.GEN.001.003                  2               NaN        NaN   \n",
       "b.GEN.001.004  b.GEN.001.004                  3               NaN        NaN   \n",
       "b.GEN.001.005  b.GEN.001.005                  4               NaN        NaN   \n",
       "\n",
       "               latitude book    Name Address    Description  Longitude  \\\n",
       "verse                                                                    \n",
       "b.GEN.001.001     -90.0  GEN  tierra  tierra  b.GEN.001.001        0.0   \n",
       "b.GEN.001.002     -90.0  GEN  tierra  tierra  b.GEN.001.002        0.0   \n",
       "b.GEN.001.003       NaN  GEN     NaN     NaN  b.GEN.001.003        NaN   \n",
       "b.GEN.001.004       NaN  GEN     NaN     NaN  b.GEN.001.004        NaN   \n",
       "b.GEN.001.005       NaN  GEN     NaN     NaN  b.GEN.001.005        NaN   \n",
       "\n",
       "               Latitude  TimeStamp TimeSpan:begin TimeSpan:end GettyID  \n",
       "verse                                                                   \n",
       "b.GEN.001.001     -90.0          0                                      \n",
       "b.GEN.001.002     -90.0          1                                      \n",
       "b.GEN.001.003       NaN          2                                      \n",
       "b.GEN.001.004       NaN          3                                      \n",
       "b.GEN.001.005       NaN          4                                      "
      ],
      "text/html": "<div>\n<style scoped>\n    .dataframe tbody tr th:only-of-type {\n        vertical-align: middle;\n    }\n\n    .dataframe tbody tr th {\n        vertical-align: top;\n    }\n\n    .dataframe thead th {\n        text-align: right;\n    }\n</style>\n<table border=\"1\" class=\"dataframe\">\n  <thead>\n    <tr style=\"text-align: right;\">\n      <th></th>\n      <th>verse</th>\n      <th>geolocation_id</th>\n      <th>id</th>\n      <th>NormalizedName-sp</th>\n      <th>longitude</th>\n      <th>latitude</th>\n      <th>book</th>\n      <th>Name</th>\n      <th>Address</th>\n      <th>Description</th>\n      <th>Longitude</th>\n      <th>Latitude</th>\n      <th>TimeStamp</th>\n      <th>TimeSpan:begin</th>\n      <th>TimeSpan:end</th>\n      <th>GettyID</th>\n    </tr>\n    <tr>\n      <th>verse</th>\n      <th></th>\n      <th></th>\n      <th></th>\n      <th></th>\n      <th></th>\n      <th></th>\n      <th></th>\n      <th></th>\n      <th></th>\n      <th></th>\n      <th></th>\n      <th></th>\n      <th></th>\n      <th></th>\n      <th></th>\n      <th></th>\n    </tr>\n  </thead>\n  <tbody>\n    <tr>\n      <th>b.GEN.001.001</th>\n      <td>b.GEN.001.001</td>\n      <td>#pla41</td>\n      <td>0</td>\n      <td>tierra</td>\n      <td>0.0</td>\n      <td>-90.0</td>\n      <td>GEN</td>\n      <td>tierra</td>\n      <td>tierra</td>\n      <td>b.GEN.001.001</td>\n      <td>0.0</td>\n      <td>-90.0</td>\n      <td>0</td>\n      <td></td>\n      <td></td>\n      <td></td>\n    </tr>\n    <tr>\n      <th>b.GEN.001.002</th>\n      <td>b.GEN.001.002</td>\n      <td>#pla41</td>\n      <td>1</td>\n      <td>tierra</td>\n      <td>0.0</td>\n      <td>-90.0</td>\n      <td>GEN</td>\n      <td>tierra</td>\n      <td>tierra</td>\n      <td>b.GEN.001.002</td>\n      <td>0.0</td>\n      <td>-90.0</td>\n      <td>1</td>\n      <td></td>\n      <td></td>\n      <td></td>\n    </tr>\n    <tr>\n      <th>b.GEN.001.003</th>\n      <td>b.GEN.001.003</td>\n      <td></td>\n      <td>2</td>\n      <td>NaN</td>\n      <td>NaN</td>\n      <td>NaN</td>\n      <td>GEN</td>\n      <td>NaN</td>\n      <td>NaN</td>\n      <td>b.GEN.001.003</td>\n      <td>NaN</td>\n      <td>NaN</td>\n      <td>2</td>\n      <td></td>\n      <td></td>\n      <td></td>\n    </tr>\n    <tr>\n      <th>b.GEN.001.004</th>\n      <td>b.GEN.001.004</td>\n      <td></td>\n      <td>3</td>\n      <td>NaN</td>\n      <td>NaN</td>\n      <td>NaN</td>\n      <td>GEN</td>\n      <td>NaN</td>\n      <td>NaN</td>\n      <td>b.GEN.001.004</td>\n      <td>NaN</td>\n      <td>NaN</td>\n      <td>3</td>\n      <td></td>\n      <td></td>\n      <td></td>\n    </tr>\n    <tr>\n      <th>b.GEN.001.005</th>\n      <td>b.GEN.001.005</td>\n      <td></td>\n      <td>4</td>\n      <td>NaN</td>\n      <td>NaN</td>\n      <td>NaN</td>\n      <td>GEN</td>\n      <td>NaN</td>\n      <td>NaN</td>\n      <td>b.GEN.001.005</td>\n      <td>NaN</td>\n      <td>NaN</td>\n      <td>4</td>\n      <td></td>\n      <td></td>\n      <td></td>\n    </tr>\n  </tbody>\n</table>\n</div>"
     },
     "metadata": {},
     "execution_count": 86
    }
   ],
   "source": [
    "verses_places_longitude_latitude.head()"
   ]
  },
  {
   "cell_type": "code",
   "execution_count": 107,
   "metadata": {},
   "outputs": [],
   "source": [
    "verses_places_longitude_latitude.dropna()[selected_columns+[\"id\"]].to_csv(outdir + \"/verses_places_selected_columns_without_na.csv\")"
   ]
  },
  {
   "cell_type": "code",
   "execution_count": 88,
   "metadata": {},
   "outputs": [],
   "source": [
    "books = pd.read_excel(\"../../../documentation/books.xlsx\")"
   ]
  },
  {
   "cell_type": "code",
   "execution_count": 95,
   "metadata": {},
   "outputs": [
    {
     "output_type": "execute_result",
     "data": {
      "text/plain": [
       "    Unnamed: 0  bible  id title_Spanish testament  encoded title_English  \\\n",
       "0            0  bible   1       Génesis       old        1       Genesis   \n",
       "1            1  bible   2         Éxodo       old        1        Exodus   \n",
       "2            2  bible   3      Levítico       old        1     Leviticus   \n",
       "3            3  bible   4       Números       old        1       Numbers   \n",
       "4            4  bible   5  Deuteronomio       old        1   Deuteronomy   \n",
       "..         ...    ...  ..           ...       ...      ...           ...   \n",
       "61          61  bible  62        1 Juan       new        1        1 John   \n",
       "62          62  bible  63        2 Juan       new        1        2 John   \n",
       "63          63  bible  64        3 Juan       new        1        3 John   \n",
       "64          64  bible  65         Judas       new        1          Jude   \n",
       "65          65  bible  66   Apocalipsis       new        1    Revelation   \n",
       "\n",
       "   codebook  chaptersc        genre   latitude  longitude topical bible  \\\n",
       "0       GEN         50   historical  32.615687  36.793083           Gen   \n",
       "1       EXO         40   historical  30.469969  33.843280          Exod   \n",
       "2       LEV         27          law  30.521765  34.112561           Lev   \n",
       "3       NUM         36          law  31.221618  34.841433           Num   \n",
       "4       DEU         34          law  31.506106  35.735247          Deut   \n",
       "..      ...        ...          ...        ...        ...           ...   \n",
       "61      1JO          5       letter        NaN        NaN         1John   \n",
       "62      2JO          1       letter        NaN        NaN         2John   \n",
       "63      3JO          1       letter        NaN        NaN         3John   \n",
       "64      JUD          1       letter  26.820553  30.802498          Jude   \n",
       "65      REV         22  apocalyptic  34.707841  33.514733           Rev   \n",
       "\n",
       "      wikid  sexual_annotation  \n",
       "0     Q9184                1.0  \n",
       "1     Q9190                NaN  \n",
       "2    Q41490                NaN  \n",
       "3    Q43099                NaN  \n",
       "4    Q42614                NaN  \n",
       "..      ...                ...  \n",
       "61  Q131101                NaN  \n",
       "62  Q131453                NaN  \n",
       "63  Q131462                NaN  \n",
       "64  Q131466                NaN  \n",
       "65   Q42040                1.0  \n",
       "\n",
       "[66 rows x 15 columns]"
      ],
      "text/html": "<div>\n<style scoped>\n    .dataframe tbody tr th:only-of-type {\n        vertical-align: middle;\n    }\n\n    .dataframe tbody tr th {\n        vertical-align: top;\n    }\n\n    .dataframe thead th {\n        text-align: right;\n    }\n</style>\n<table border=\"1\" class=\"dataframe\">\n  <thead>\n    <tr style=\"text-align: right;\">\n      <th></th>\n      <th>Unnamed: 0</th>\n      <th>bible</th>\n      <th>id</th>\n      <th>title_Spanish</th>\n      <th>testament</th>\n      <th>encoded</th>\n      <th>title_English</th>\n      <th>codebook</th>\n      <th>chaptersc</th>\n      <th>genre</th>\n      <th>latitude</th>\n      <th>longitude</th>\n      <th>topical bible</th>\n      <th>wikid</th>\n      <th>sexual_annotation</th>\n    </tr>\n  </thead>\n  <tbody>\n    <tr>\n      <th>0</th>\n      <td>0</td>\n      <td>bible</td>\n      <td>1</td>\n      <td>Génesis</td>\n      <td>old</td>\n      <td>1</td>\n      <td>Genesis</td>\n      <td>GEN</td>\n      <td>50</td>\n      <td>historical</td>\n      <td>32.615687</td>\n      <td>36.793083</td>\n      <td>Gen</td>\n      <td>Q9184</td>\n      <td>1.0</td>\n    </tr>\n    <tr>\n      <th>1</th>\n      <td>1</td>\n      <td>bible</td>\n      <td>2</td>\n      <td>Éxodo</td>\n      <td>old</td>\n      <td>1</td>\n      <td>Exodus</td>\n      <td>EXO</td>\n      <td>40</td>\n      <td>historical</td>\n      <td>30.469969</td>\n      <td>33.843280</td>\n      <td>Exod</td>\n      <td>Q9190</td>\n      <td>NaN</td>\n    </tr>\n    <tr>\n      <th>2</th>\n      <td>2</td>\n      <td>bible</td>\n      <td>3</td>\n      <td>Levítico</td>\n      <td>old</td>\n      <td>1</td>\n      <td>Leviticus</td>\n      <td>LEV</td>\n      <td>27</td>\n      <td>law</td>\n      <td>30.521765</td>\n      <td>34.112561</td>\n      <td>Lev</td>\n      <td>Q41490</td>\n      <td>NaN</td>\n    </tr>\n    <tr>\n      <th>3</th>\n      <td>3</td>\n      <td>bible</td>\n      <td>4</td>\n      <td>Números</td>\n      <td>old</td>\n      <td>1</td>\n      <td>Numbers</td>\n      <td>NUM</td>\n      <td>36</td>\n      <td>law</td>\n      <td>31.221618</td>\n      <td>34.841433</td>\n      <td>Num</td>\n      <td>Q43099</td>\n      <td>NaN</td>\n    </tr>\n    <tr>\n      <th>4</th>\n      <td>4</td>\n      <td>bible</td>\n      <td>5</td>\n      <td>Deuteronomio</td>\n      <td>old</td>\n      <td>1</td>\n      <td>Deuteronomy</td>\n      <td>DEU</td>\n      <td>34</td>\n      <td>law</td>\n      <td>31.506106</td>\n      <td>35.735247</td>\n      <td>Deut</td>\n      <td>Q42614</td>\n      <td>NaN</td>\n    </tr>\n    <tr>\n      <th>...</th>\n      <td>...</td>\n      <td>...</td>\n      <td>...</td>\n      <td>...</td>\n      <td>...</td>\n      <td>...</td>\n      <td>...</td>\n      <td>...</td>\n      <td>...</td>\n      <td>...</td>\n      <td>...</td>\n      <td>...</td>\n      <td>...</td>\n      <td>...</td>\n      <td>...</td>\n    </tr>\n    <tr>\n      <th>61</th>\n      <td>61</td>\n      <td>bible</td>\n      <td>62</td>\n      <td>1 Juan</td>\n      <td>new</td>\n      <td>1</td>\n      <td>1 John</td>\n      <td>1JO</td>\n      <td>5</td>\n      <td>letter</td>\n      <td>NaN</td>\n      <td>NaN</td>\n      <td>1John</td>\n      <td>Q131101</td>\n      <td>NaN</td>\n    </tr>\n    <tr>\n      <th>62</th>\n      <td>62</td>\n      <td>bible</td>\n      <td>63</td>\n      <td>2 Juan</td>\n      <td>new</td>\n      <td>1</td>\n      <td>2 John</td>\n      <td>2JO</td>\n      <td>1</td>\n      <td>letter</td>\n      <td>NaN</td>\n      <td>NaN</td>\n      <td>2John</td>\n      <td>Q131453</td>\n      <td>NaN</td>\n    </tr>\n    <tr>\n      <th>63</th>\n      <td>63</td>\n      <td>bible</td>\n      <td>64</td>\n      <td>3 Juan</td>\n      <td>new</td>\n      <td>1</td>\n      <td>3 John</td>\n      <td>3JO</td>\n      <td>1</td>\n      <td>letter</td>\n      <td>NaN</td>\n      <td>NaN</td>\n      <td>3John</td>\n      <td>Q131462</td>\n      <td>NaN</td>\n    </tr>\n    <tr>\n      <th>64</th>\n      <td>64</td>\n      <td>bible</td>\n      <td>65</td>\n      <td>Judas</td>\n      <td>new</td>\n      <td>1</td>\n      <td>Jude</td>\n      <td>JUD</td>\n      <td>1</td>\n      <td>letter</td>\n      <td>26.820553</td>\n      <td>30.802498</td>\n      <td>Jude</td>\n      <td>Q131466</td>\n      <td>NaN</td>\n    </tr>\n    <tr>\n      <th>65</th>\n      <td>65</td>\n      <td>bible</td>\n      <td>66</td>\n      <td>Apocalipsis</td>\n      <td>new</td>\n      <td>1</td>\n      <td>Revelation</td>\n      <td>REV</td>\n      <td>22</td>\n      <td>apocalyptic</td>\n      <td>34.707841</td>\n      <td>33.514733</td>\n      <td>Rev</td>\n      <td>Q42040</td>\n      <td>1.0</td>\n    </tr>\n  </tbody>\n</table>\n<p>66 rows × 15 columns</p>\n</div>"
     },
     "metadata": {},
     "execution_count": 95
    }
   ],
   "source": [
    "books"
   ]
  },
  {
   "cell_type": "code",
   "execution_count": 102,
   "metadata": {},
   "outputs": [],
   "source": [
    "verses_places_longitude_latitude = pd.merge(verses_places_longitude_latitude, books[[\"genre\", \"codebook\"]], left_on=\"book\", right_on=\"codebook\", how=\"left\")\n"
   ]
  },
  {
   "cell_type": "code",
   "execution_count": 103,
   "metadata": {},
   "outputs": [
    {
     "output_type": "execute_result",
     "data": {
      "text/plain": [
       "               verse geolocation_id     id NormalizedName-sp  longitude  \\\n",
       "0      b.GEN.001.001         #pla41      0            tierra        0.0   \n",
       "1      b.GEN.001.002         #pla41      1            tierra        0.0   \n",
       "2      b.GEN.001.003                     2               NaN        NaN   \n",
       "3      b.GEN.001.004                     3               NaN        NaN   \n",
       "4      b.GEN.001.005                     4               NaN        NaN   \n",
       "...              ...            ...    ...               ...        ...   \n",
       "35858  b.REV.022.017                 35858               NaN        NaN   \n",
       "35859  b.REV.022.018                 35859               NaN        NaN   \n",
       "35860  b.REV.022.019         #pla71  35860               NaN        NaN   \n",
       "35861  b.REV.022.020                 35861               NaN        NaN   \n",
       "35862  b.REV.022.021                 35862               NaN        NaN   \n",
       "\n",
       "       latitude book    Name Address    Description  Longitude  Latitude  \\\n",
       "0         -90.0  GEN  tierra  tierra  b.GEN.001.001        0.0     -90.0   \n",
       "1         -90.0  GEN  tierra  tierra  b.GEN.001.002        0.0     -90.0   \n",
       "2           NaN  GEN     NaN     NaN  b.GEN.001.003        NaN       NaN   \n",
       "3           NaN  GEN     NaN     NaN  b.GEN.001.004        NaN       NaN   \n",
       "4           NaN  GEN     NaN     NaN  b.GEN.001.005        NaN       NaN   \n",
       "...         ...  ...     ...     ...            ...        ...       ...   \n",
       "35858       NaN  REV     NaN     NaN  b.REV.022.017        NaN       NaN   \n",
       "35859       NaN  REV     NaN     NaN  b.REV.022.018        NaN       NaN   \n",
       "35860       NaN  REV     NaN     NaN  b.REV.022.019        NaN       NaN   \n",
       "35861       NaN  REV     NaN     NaN  b.REV.022.020        NaN       NaN   \n",
       "35862       NaN  REV     NaN     NaN  b.REV.022.021        NaN       NaN   \n",
       "\n",
       "       TimeStamp TimeSpan:begin TimeSpan:end GettyID        genre codebook  \n",
       "0              0                                       historical      GEN  \n",
       "1              1                                       historical      GEN  \n",
       "2              2                                       historical      GEN  \n",
       "3              3                                       historical      GEN  \n",
       "4              4                                       historical      GEN  \n",
       "...          ...            ...          ...     ...          ...      ...  \n",
       "35858      35858                                      apocalyptic      REV  \n",
       "35859      35859                                      apocalyptic      REV  \n",
       "35860      35860                                      apocalyptic      REV  \n",
       "35861      35861                                      apocalyptic      REV  \n",
       "35862      35862                                      apocalyptic      REV  \n",
       "\n",
       "[35863 rows x 18 columns]"
      ],
      "text/html": "<div>\n<style scoped>\n    .dataframe tbody tr th:only-of-type {\n        vertical-align: middle;\n    }\n\n    .dataframe tbody tr th {\n        vertical-align: top;\n    }\n\n    .dataframe thead th {\n        text-align: right;\n    }\n</style>\n<table border=\"1\" class=\"dataframe\">\n  <thead>\n    <tr style=\"text-align: right;\">\n      <th></th>\n      <th>verse</th>\n      <th>geolocation_id</th>\n      <th>id</th>\n      <th>NormalizedName-sp</th>\n      <th>longitude</th>\n      <th>latitude</th>\n      <th>book</th>\n      <th>Name</th>\n      <th>Address</th>\n      <th>Description</th>\n      <th>Longitude</th>\n      <th>Latitude</th>\n      <th>TimeStamp</th>\n      <th>TimeSpan:begin</th>\n      <th>TimeSpan:end</th>\n      <th>GettyID</th>\n      <th>genre</th>\n      <th>codebook</th>\n    </tr>\n  </thead>\n  <tbody>\n    <tr>\n      <th>0</th>\n      <td>b.GEN.001.001</td>\n      <td>#pla41</td>\n      <td>0</td>\n      <td>tierra</td>\n      <td>0.0</td>\n      <td>-90.0</td>\n      <td>GEN</td>\n      <td>tierra</td>\n      <td>tierra</td>\n      <td>b.GEN.001.001</td>\n      <td>0.0</td>\n      <td>-90.0</td>\n      <td>0</td>\n      <td></td>\n      <td></td>\n      <td></td>\n      <td>historical</td>\n      <td>GEN</td>\n    </tr>\n    <tr>\n      <th>1</th>\n      <td>b.GEN.001.002</td>\n      <td>#pla41</td>\n      <td>1</td>\n      <td>tierra</td>\n      <td>0.0</td>\n      <td>-90.0</td>\n      <td>GEN</td>\n      <td>tierra</td>\n      <td>tierra</td>\n      <td>b.GEN.001.002</td>\n      <td>0.0</td>\n      <td>-90.0</td>\n      <td>1</td>\n      <td></td>\n      <td></td>\n      <td></td>\n      <td>historical</td>\n      <td>GEN</td>\n    </tr>\n    <tr>\n      <th>2</th>\n      <td>b.GEN.001.003</td>\n      <td></td>\n      <td>2</td>\n      <td>NaN</td>\n      <td>NaN</td>\n      <td>NaN</td>\n      <td>GEN</td>\n      <td>NaN</td>\n      <td>NaN</td>\n      <td>b.GEN.001.003</td>\n      <td>NaN</td>\n      <td>NaN</td>\n      <td>2</td>\n      <td></td>\n      <td></td>\n      <td></td>\n      <td>historical</td>\n      <td>GEN</td>\n    </tr>\n    <tr>\n      <th>3</th>\n      <td>b.GEN.001.004</td>\n      <td></td>\n      <td>3</td>\n      <td>NaN</td>\n      <td>NaN</td>\n      <td>NaN</td>\n      <td>GEN</td>\n      <td>NaN</td>\n      <td>NaN</td>\n      <td>b.GEN.001.004</td>\n      <td>NaN</td>\n      <td>NaN</td>\n      <td>3</td>\n      <td></td>\n      <td></td>\n      <td></td>\n      <td>historical</td>\n      <td>GEN</td>\n    </tr>\n    <tr>\n      <th>4</th>\n      <td>b.GEN.001.005</td>\n      <td></td>\n      <td>4</td>\n      <td>NaN</td>\n      <td>NaN</td>\n      <td>NaN</td>\n      <td>GEN</td>\n      <td>NaN</td>\n      <td>NaN</td>\n      <td>b.GEN.001.005</td>\n      <td>NaN</td>\n      <td>NaN</td>\n      <td>4</td>\n      <td></td>\n      <td></td>\n      <td></td>\n      <td>historical</td>\n      <td>GEN</td>\n    </tr>\n    <tr>\n      <th>...</th>\n      <td>...</td>\n      <td>...</td>\n      <td>...</td>\n      <td>...</td>\n      <td>...</td>\n      <td>...</td>\n      <td>...</td>\n      <td>...</td>\n      <td>...</td>\n      <td>...</td>\n      <td>...</td>\n      <td>...</td>\n      <td>...</td>\n      <td>...</td>\n      <td>...</td>\n      <td>...</td>\n      <td>...</td>\n      <td>...</td>\n    </tr>\n    <tr>\n      <th>35858</th>\n      <td>b.REV.022.017</td>\n      <td></td>\n      <td>35858</td>\n      <td>NaN</td>\n      <td>NaN</td>\n      <td>NaN</td>\n      <td>REV</td>\n      <td>NaN</td>\n      <td>NaN</td>\n      <td>b.REV.022.017</td>\n      <td>NaN</td>\n      <td>NaN</td>\n      <td>35858</td>\n      <td></td>\n      <td></td>\n      <td></td>\n      <td>apocalyptic</td>\n      <td>REV</td>\n    </tr>\n    <tr>\n      <th>35859</th>\n      <td>b.REV.022.018</td>\n      <td></td>\n      <td>35859</td>\n      <td>NaN</td>\n      <td>NaN</td>\n      <td>NaN</td>\n      <td>REV</td>\n      <td>NaN</td>\n      <td>NaN</td>\n      <td>b.REV.022.018</td>\n      <td>NaN</td>\n      <td>NaN</td>\n      <td>35859</td>\n      <td></td>\n      <td></td>\n      <td></td>\n      <td>apocalyptic</td>\n      <td>REV</td>\n    </tr>\n    <tr>\n      <th>35860</th>\n      <td>b.REV.022.019</td>\n      <td>#pla71</td>\n      <td>35860</td>\n      <td>NaN</td>\n      <td>NaN</td>\n      <td>NaN</td>\n      <td>REV</td>\n      <td>NaN</td>\n      <td>NaN</td>\n      <td>b.REV.022.019</td>\n      <td>NaN</td>\n      <td>NaN</td>\n      <td>35860</td>\n      <td></td>\n      <td></td>\n      <td></td>\n      <td>apocalyptic</td>\n      <td>REV</td>\n    </tr>\n    <tr>\n      <th>35861</th>\n      <td>b.REV.022.020</td>\n      <td></td>\n      <td>35861</td>\n      <td>NaN</td>\n      <td>NaN</td>\n      <td>NaN</td>\n      <td>REV</td>\n      <td>NaN</td>\n      <td>NaN</td>\n      <td>b.REV.022.020</td>\n      <td>NaN</td>\n      <td>NaN</td>\n      <td>35861</td>\n      <td></td>\n      <td></td>\n      <td></td>\n      <td>apocalyptic</td>\n      <td>REV</td>\n    </tr>\n    <tr>\n      <th>35862</th>\n      <td>b.REV.022.021</td>\n      <td></td>\n      <td>35862</td>\n      <td>NaN</td>\n      <td>NaN</td>\n      <td>NaN</td>\n      <td>REV</td>\n      <td>NaN</td>\n      <td>NaN</td>\n      <td>b.REV.022.021</td>\n      <td>NaN</td>\n      <td>NaN</td>\n      <td>35862</td>\n      <td></td>\n      <td></td>\n      <td></td>\n      <td>apocalyptic</td>\n      <td>REV</td>\n    </tr>\n  </tbody>\n</table>\n<p>35863 rows × 18 columns</p>\n</div>"
     },
     "metadata": {},
     "execution_count": 103
    }
   ],
   "source": [
    "verses_places_longitude_latitude"
   ]
  },
  {
   "cell_type": "code",
   "execution_count": 108,
   "metadata": {},
   "outputs": [],
   "source": [
    "for genre in verses_places_longitude_latitude.genre.unique():\n",
    "    verses_places_longitude_latitude.loc[verses_places_longitude_latitude[\"genre\"] == genre].dropna()[selected_columns+[\"id\"]].to_csv(outdir + \"/verses_places_selected_columns_without_na_\" + genre + \".csv\")"
   ]
  },
  {
   "cell_type": "code",
   "execution_count": null,
   "metadata": {},
   "outputs": [],
   "source": []
  }
 ]
}