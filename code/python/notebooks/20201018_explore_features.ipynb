{
 "metadata": {
  "language_info": {
   "codemirror_mode": {
    "name": "ipython",
    "version": 3
   },
   "file_extension": ".py",
   "mimetype": "text/x-python",
   "name": "python",
   "nbconvert_exporter": "python",
   "pygments_lexer": "ipython3",
   "version": "3.7.6-final"
  },
  "orig_nbformat": 2,
  "kernelspec": {
   "name": "python3",
   "display_name": "Python 3.7.6 64-bit (conda)",
   "metadata": {
    "interpreter": {
     "hash": "960f4d658457e0296618a96ff118bd2cbd6b6fed4373572a098ed4ec5a9be4c3"
    }
   }
  }
 },
 "nbformat": 4,
 "nbformat_minor": 2,
 "cells": [
  {
   "cell_type": "code",
   "execution_count": 1,
   "metadata": {},
   "outputs": [],
   "source": [
    "from lxml import etree\n",
    "import pandas as pd\n",
    "from collections import Counter\n",
    "import os\n",
    "import glob\n",
    "import re\n",
    "import matplotlib.pyplot as plt\n",
    "import numpy as np\n",
    "from collections import Counter\n",
    "from numpy import array\n",
    "import numpy as np\n",
    "import matplotlib.pyplot as plt\n",
    "%matplotlib inline\n",
    "\n",
    "\n",
    "wdir = \"../../../resulting data/\"\n"
   ]
  },
  {
   "cell_type": "code",
   "execution_count": 2,
   "metadata": {},
   "outputs": [],
   "source": [
    "verses_features = pd.read_parquet(wdir +  \"verses_features.parquet\")"
   ]
  },
  {
   "cell_type": "code",
   "execution_count": 3,
   "metadata": {},
   "outputs": [
    {
     "output_type": "execute_result",
     "data": {
      "text/plain": [
       "      bible_identifier bible_book bible_chapter bible_book_chapter  \\\n",
       "0        b.GEN.001.001        GEN           001            GEN.001   \n",
       "1        b.GEN.001.002        GEN           001            GEN.001   \n",
       "2        b.GEN.001.003        GEN           001            GEN.001   \n",
       "3        b.GEN.001.004        GEN           001            GEN.001   \n",
       "4        b.GEN.001.005        GEN           001            GEN.001   \n",
       "...                ...        ...           ...                ...   \n",
       "31060    b.REV.022.017        REV           022            REV.022   \n",
       "31061    b.REV.022.018        REV           022            REV.022   \n",
       "31062    b.REV.022.019        REV           022            REV.022   \n",
       "31063    b.REV.022.020        REV           022            REV.022   \n",
       "31064    b.REV.022.021        REV           022            REV.022   \n",
       "\n",
       "             genre  twitter_freq_sum_2014_2015  twitter_freq_2014  \\\n",
       "0       historical                       49268              26376   \n",
       "1       historical                        8601               3693   \n",
       "2       historical                       20970               8816   \n",
       "3       historical                        4222               2286   \n",
       "4       historical                        3208               1666   \n",
       "...            ...                         ...                ...   \n",
       "31060  apocalyptic                        8693               4633   \n",
       "31061  apocalyptic                        4396               1939   \n",
       "31062  apocalyptic                        3947               1952   \n",
       "31063  apocalyptic                       11981               6014   \n",
       "31064  apocalyptic                       10466               3780   \n",
       "\n",
       "       twitter_freq_2015  relations  monogamy  ...  #org52  #per129  pla15  \\\n",
       "0                  22892          0         0  ...     0.0      0.0    0.0   \n",
       "1                   4908          0         0  ...     0.0      0.0    0.0   \n",
       "2                  12154          0         0  ...     0.0      0.0    0.0   \n",
       "3                   1936          0         0  ...     0.0      0.0    0.0   \n",
       "4                   1542          0         0  ...     0.0      0.0    0.0   \n",
       "...                  ...        ...       ...  ...     ...      ...    ...   \n",
       "31060               4060          0         0  ...     0.0      0.0    0.0   \n",
       "31061               2457          0         0  ...     0.0      0.0    0.0   \n",
       "31062               1995          0         0  ...     0.0      0.0    0.0   \n",
       "31063               5967          0         0  ...     0.0      0.0    0.0   \n",
       "31064               6686          0         0  ...     0.0      0.0    0.0   \n",
       "\n",
       "       #pla74  pla69  org435  org297  org183  org102  #pla75  \n",
       "0         0.0    0.0     0.0     0.0     0.0     0.0     0.0  \n",
       "1         0.0    0.0     0.0     0.0     0.0     0.0     0.0  \n",
       "2         0.0    0.0     0.0     0.0     0.0     0.0     0.0  \n",
       "3         0.0    0.0     0.0     0.0     0.0     0.0     0.0  \n",
       "4         0.0    0.0     0.0     0.0     0.0     0.0     0.0  \n",
       "...       ...    ...     ...     ...     ...     ...     ...  \n",
       "31060     0.0    0.0     0.0     0.0     0.0     0.0     0.0  \n",
       "31061     0.0    0.0     0.0     0.0     0.0     0.0     0.0  \n",
       "31062     0.0    0.0     0.0     0.0     0.0     0.0     0.0  \n",
       "31063     0.0    0.0     0.0     0.0     0.0     0.0     0.0  \n",
       "31064     0.0    0.0     0.0     0.0     0.0     0.0     0.0  \n",
       "\n",
       "[31065 rows x 4228 columns]"
      ],
      "text/html": "<div>\n<style scoped>\n    .dataframe tbody tr th:only-of-type {\n        vertical-align: middle;\n    }\n\n    .dataframe tbody tr th {\n        vertical-align: top;\n    }\n\n    .dataframe thead th {\n        text-align: right;\n    }\n</style>\n<table border=\"1\" class=\"dataframe\">\n  <thead>\n    <tr style=\"text-align: right;\">\n      <th></th>\n      <th>bible_identifier</th>\n      <th>bible_book</th>\n      <th>bible_chapter</th>\n      <th>bible_book_chapter</th>\n      <th>genre</th>\n      <th>twitter_freq_sum_2014_2015</th>\n      <th>twitter_freq_2014</th>\n      <th>twitter_freq_2015</th>\n      <th>relations</th>\n      <th>monogamy</th>\n      <th>...</th>\n      <th>#org52</th>\n      <th>#per129</th>\n      <th>pla15</th>\n      <th>#pla74</th>\n      <th>pla69</th>\n      <th>org435</th>\n      <th>org297</th>\n      <th>org183</th>\n      <th>org102</th>\n      <th>#pla75</th>\n    </tr>\n  </thead>\n  <tbody>\n    <tr>\n      <th>0</th>\n      <td>b.GEN.001.001</td>\n      <td>GEN</td>\n      <td>001</td>\n      <td>GEN.001</td>\n      <td>historical</td>\n      <td>49268</td>\n      <td>26376</td>\n      <td>22892</td>\n      <td>0</td>\n      <td>0</td>\n      <td>...</td>\n      <td>0.0</td>\n      <td>0.0</td>\n      <td>0.0</td>\n      <td>0.0</td>\n      <td>0.0</td>\n      <td>0.0</td>\n      <td>0.0</td>\n      <td>0.0</td>\n      <td>0.0</td>\n      <td>0.0</td>\n    </tr>\n    <tr>\n      <th>1</th>\n      <td>b.GEN.001.002</td>\n      <td>GEN</td>\n      <td>001</td>\n      <td>GEN.001</td>\n      <td>historical</td>\n      <td>8601</td>\n      <td>3693</td>\n      <td>4908</td>\n      <td>0</td>\n      <td>0</td>\n      <td>...</td>\n      <td>0.0</td>\n      <td>0.0</td>\n      <td>0.0</td>\n      <td>0.0</td>\n      <td>0.0</td>\n      <td>0.0</td>\n      <td>0.0</td>\n      <td>0.0</td>\n      <td>0.0</td>\n      <td>0.0</td>\n    </tr>\n    <tr>\n      <th>2</th>\n      <td>b.GEN.001.003</td>\n      <td>GEN</td>\n      <td>001</td>\n      <td>GEN.001</td>\n      <td>historical</td>\n      <td>20970</td>\n      <td>8816</td>\n      <td>12154</td>\n      <td>0</td>\n      <td>0</td>\n      <td>...</td>\n      <td>0.0</td>\n      <td>0.0</td>\n      <td>0.0</td>\n      <td>0.0</td>\n      <td>0.0</td>\n      <td>0.0</td>\n      <td>0.0</td>\n      <td>0.0</td>\n      <td>0.0</td>\n      <td>0.0</td>\n    </tr>\n    <tr>\n      <th>3</th>\n      <td>b.GEN.001.004</td>\n      <td>GEN</td>\n      <td>001</td>\n      <td>GEN.001</td>\n      <td>historical</td>\n      <td>4222</td>\n      <td>2286</td>\n      <td>1936</td>\n      <td>0</td>\n      <td>0</td>\n      <td>...</td>\n      <td>0.0</td>\n      <td>0.0</td>\n      <td>0.0</td>\n      <td>0.0</td>\n      <td>0.0</td>\n      <td>0.0</td>\n      <td>0.0</td>\n      <td>0.0</td>\n      <td>0.0</td>\n      <td>0.0</td>\n    </tr>\n    <tr>\n      <th>4</th>\n      <td>b.GEN.001.005</td>\n      <td>GEN</td>\n      <td>001</td>\n      <td>GEN.001</td>\n      <td>historical</td>\n      <td>3208</td>\n      <td>1666</td>\n      <td>1542</td>\n      <td>0</td>\n      <td>0</td>\n      <td>...</td>\n      <td>0.0</td>\n      <td>0.0</td>\n      <td>0.0</td>\n      <td>0.0</td>\n      <td>0.0</td>\n      <td>0.0</td>\n      <td>0.0</td>\n      <td>0.0</td>\n      <td>0.0</td>\n      <td>0.0</td>\n    </tr>\n    <tr>\n      <th>...</th>\n      <td>...</td>\n      <td>...</td>\n      <td>...</td>\n      <td>...</td>\n      <td>...</td>\n      <td>...</td>\n      <td>...</td>\n      <td>...</td>\n      <td>...</td>\n      <td>...</td>\n      <td>...</td>\n      <td>...</td>\n      <td>...</td>\n      <td>...</td>\n      <td>...</td>\n      <td>...</td>\n      <td>...</td>\n      <td>...</td>\n      <td>...</td>\n      <td>...</td>\n      <td>...</td>\n    </tr>\n    <tr>\n      <th>31060</th>\n      <td>b.REV.022.017</td>\n      <td>REV</td>\n      <td>022</td>\n      <td>REV.022</td>\n      <td>apocalyptic</td>\n      <td>8693</td>\n      <td>4633</td>\n      <td>4060</td>\n      <td>0</td>\n      <td>0</td>\n      <td>...</td>\n      <td>0.0</td>\n      <td>0.0</td>\n      <td>0.0</td>\n      <td>0.0</td>\n      <td>0.0</td>\n      <td>0.0</td>\n      <td>0.0</td>\n      <td>0.0</td>\n      <td>0.0</td>\n      <td>0.0</td>\n    </tr>\n    <tr>\n      <th>31061</th>\n      <td>b.REV.022.018</td>\n      <td>REV</td>\n      <td>022</td>\n      <td>REV.022</td>\n      <td>apocalyptic</td>\n      <td>4396</td>\n      <td>1939</td>\n      <td>2457</td>\n      <td>0</td>\n      <td>0</td>\n      <td>...</td>\n      <td>0.0</td>\n      <td>0.0</td>\n      <td>0.0</td>\n      <td>0.0</td>\n      <td>0.0</td>\n      <td>0.0</td>\n      <td>0.0</td>\n      <td>0.0</td>\n      <td>0.0</td>\n      <td>0.0</td>\n    </tr>\n    <tr>\n      <th>31062</th>\n      <td>b.REV.022.019</td>\n      <td>REV</td>\n      <td>022</td>\n      <td>REV.022</td>\n      <td>apocalyptic</td>\n      <td>3947</td>\n      <td>1952</td>\n      <td>1995</td>\n      <td>0</td>\n      <td>0</td>\n      <td>...</td>\n      <td>0.0</td>\n      <td>0.0</td>\n      <td>0.0</td>\n      <td>0.0</td>\n      <td>0.0</td>\n      <td>0.0</td>\n      <td>0.0</td>\n      <td>0.0</td>\n      <td>0.0</td>\n      <td>0.0</td>\n    </tr>\n    <tr>\n      <th>31063</th>\n      <td>b.REV.022.020</td>\n      <td>REV</td>\n      <td>022</td>\n      <td>REV.022</td>\n      <td>apocalyptic</td>\n      <td>11981</td>\n      <td>6014</td>\n      <td>5967</td>\n      <td>0</td>\n      <td>0</td>\n      <td>...</td>\n      <td>0.0</td>\n      <td>0.0</td>\n      <td>0.0</td>\n      <td>0.0</td>\n      <td>0.0</td>\n      <td>0.0</td>\n      <td>0.0</td>\n      <td>0.0</td>\n      <td>0.0</td>\n      <td>0.0</td>\n    </tr>\n    <tr>\n      <th>31064</th>\n      <td>b.REV.022.021</td>\n      <td>REV</td>\n      <td>022</td>\n      <td>REV.022</td>\n      <td>apocalyptic</td>\n      <td>10466</td>\n      <td>3780</td>\n      <td>6686</td>\n      <td>0</td>\n      <td>0</td>\n      <td>...</td>\n      <td>0.0</td>\n      <td>0.0</td>\n      <td>0.0</td>\n      <td>0.0</td>\n      <td>0.0</td>\n      <td>0.0</td>\n      <td>0.0</td>\n      <td>0.0</td>\n      <td>0.0</td>\n      <td>0.0</td>\n    </tr>\n  </tbody>\n</table>\n<p>31065 rows × 4228 columns</p>\n</div>"
     },
     "metadata": {},
     "execution_count": 3
    }
   ],
   "source": [
    "verses_features"
   ]
  },
  {
   "cell_type": "code",
   "execution_count": 4,
   "metadata": {},
   "outputs": [
    {
     "output_type": "execute_result",
     "data": {
      "text/plain": [
       "  bible_identifier bible_book bible_chapter bible_book_chapter       genre  \\\n",
       "0    b.GEN.001.001        GEN           001            GEN.001  historical   \n",
       "1    b.GEN.001.002        GEN           001            GEN.001  historical   \n",
       "2    b.GEN.001.003        GEN           001            GEN.001  historical   \n",
       "3    b.GEN.001.004        GEN           001            GEN.001  historical   \n",
       "4    b.GEN.001.005        GEN           001            GEN.001  historical   \n",
       "\n",
       "   twitter_freq_sum_2014_2015  twitter_freq_2014  twitter_freq_2015  \\\n",
       "0                       49268              26376              22892   \n",
       "1                        8601               3693               4908   \n",
       "2                       20970               8816              12154   \n",
       "3                        4222               2286               1936   \n",
       "4                        3208               1666               1542   \n",
       "\n",
       "   relations  monogamy  ...  #org52  #per129  pla15  #pla74  pla69  org435  \\\n",
       "0          0         0  ...     0.0      0.0    0.0     0.0    0.0     0.0   \n",
       "1          0         0  ...     0.0      0.0    0.0     0.0    0.0     0.0   \n",
       "2          0         0  ...     0.0      0.0    0.0     0.0    0.0     0.0   \n",
       "3          0         0  ...     0.0      0.0    0.0     0.0    0.0     0.0   \n",
       "4          0         0  ...     0.0      0.0    0.0     0.0    0.0     0.0   \n",
       "\n",
       "   org297  org183  org102  #pla75  \n",
       "0     0.0     0.0     0.0     0.0  \n",
       "1     0.0     0.0     0.0     0.0  \n",
       "2     0.0     0.0     0.0     0.0  \n",
       "3     0.0     0.0     0.0     0.0  \n",
       "4     0.0     0.0     0.0     0.0  \n",
       "\n",
       "[5 rows x 4228 columns]"
      ],
      "text/html": "<div>\n<style scoped>\n    .dataframe tbody tr th:only-of-type {\n        vertical-align: middle;\n    }\n\n    .dataframe tbody tr th {\n        vertical-align: top;\n    }\n\n    .dataframe thead th {\n        text-align: right;\n    }\n</style>\n<table border=\"1\" class=\"dataframe\">\n  <thead>\n    <tr style=\"text-align: right;\">\n      <th></th>\n      <th>bible_identifier</th>\n      <th>bible_book</th>\n      <th>bible_chapter</th>\n      <th>bible_book_chapter</th>\n      <th>genre</th>\n      <th>twitter_freq_sum_2014_2015</th>\n      <th>twitter_freq_2014</th>\n      <th>twitter_freq_2015</th>\n      <th>relations</th>\n      <th>monogamy</th>\n      <th>...</th>\n      <th>#org52</th>\n      <th>#per129</th>\n      <th>pla15</th>\n      <th>#pla74</th>\n      <th>pla69</th>\n      <th>org435</th>\n      <th>org297</th>\n      <th>org183</th>\n      <th>org102</th>\n      <th>#pla75</th>\n    </tr>\n  </thead>\n  <tbody>\n    <tr>\n      <th>0</th>\n      <td>b.GEN.001.001</td>\n      <td>GEN</td>\n      <td>001</td>\n      <td>GEN.001</td>\n      <td>historical</td>\n      <td>49268</td>\n      <td>26376</td>\n      <td>22892</td>\n      <td>0</td>\n      <td>0</td>\n      <td>...</td>\n      <td>0.0</td>\n      <td>0.0</td>\n      <td>0.0</td>\n      <td>0.0</td>\n      <td>0.0</td>\n      <td>0.0</td>\n      <td>0.0</td>\n      <td>0.0</td>\n      <td>0.0</td>\n      <td>0.0</td>\n    </tr>\n    <tr>\n      <th>1</th>\n      <td>b.GEN.001.002</td>\n      <td>GEN</td>\n      <td>001</td>\n      <td>GEN.001</td>\n      <td>historical</td>\n      <td>8601</td>\n      <td>3693</td>\n      <td>4908</td>\n      <td>0</td>\n      <td>0</td>\n      <td>...</td>\n      <td>0.0</td>\n      <td>0.0</td>\n      <td>0.0</td>\n      <td>0.0</td>\n      <td>0.0</td>\n      <td>0.0</td>\n      <td>0.0</td>\n      <td>0.0</td>\n      <td>0.0</td>\n      <td>0.0</td>\n    </tr>\n    <tr>\n      <th>2</th>\n      <td>b.GEN.001.003</td>\n      <td>GEN</td>\n      <td>001</td>\n      <td>GEN.001</td>\n      <td>historical</td>\n      <td>20970</td>\n      <td>8816</td>\n      <td>12154</td>\n      <td>0</td>\n      <td>0</td>\n      <td>...</td>\n      <td>0.0</td>\n      <td>0.0</td>\n      <td>0.0</td>\n      <td>0.0</td>\n      <td>0.0</td>\n      <td>0.0</td>\n      <td>0.0</td>\n      <td>0.0</td>\n      <td>0.0</td>\n      <td>0.0</td>\n    </tr>\n    <tr>\n      <th>3</th>\n      <td>b.GEN.001.004</td>\n      <td>GEN</td>\n      <td>001</td>\n      <td>GEN.001</td>\n      <td>historical</td>\n      <td>4222</td>\n      <td>2286</td>\n      <td>1936</td>\n      <td>0</td>\n      <td>0</td>\n      <td>...</td>\n      <td>0.0</td>\n      <td>0.0</td>\n      <td>0.0</td>\n      <td>0.0</td>\n      <td>0.0</td>\n      <td>0.0</td>\n      <td>0.0</td>\n      <td>0.0</td>\n      <td>0.0</td>\n      <td>0.0</td>\n    </tr>\n    <tr>\n      <th>4</th>\n      <td>b.GEN.001.005</td>\n      <td>GEN</td>\n      <td>001</td>\n      <td>GEN.001</td>\n      <td>historical</td>\n      <td>3208</td>\n      <td>1666</td>\n      <td>1542</td>\n      <td>0</td>\n      <td>0</td>\n      <td>...</td>\n      <td>0.0</td>\n      <td>0.0</td>\n      <td>0.0</td>\n      <td>0.0</td>\n      <td>0.0</td>\n      <td>0.0</td>\n      <td>0.0</td>\n      <td>0.0</td>\n      <td>0.0</td>\n      <td>0.0</td>\n    </tr>\n  </tbody>\n</table>\n<p>5 rows × 4228 columns</p>\n</div>"
     },
     "metadata": {},
     "execution_count": 4
    }
   ],
   "source": [
    "verses_features.head()"
   ]
  },
  {
   "cell_type": "code",
   "execution_count": 18,
   "metadata": {},
   "outputs": [
    {
     "output_type": "execute_result",
     "data": {
      "text/plain": [
       "40"
      ]
     },
     "metadata": {},
     "execution_count": 18
    }
   ],
   "source": [
    "len(['#tim3',\n",
    " '#per14',\n",
    " '#pla41',\n",
    " 'number of entities referred',\n",
    " 'number of different entities referred',\n",
    " 'people',\n",
    " 'number of different people',\n",
    " 'number of different groups',\n",
    " 'number of different places',\n",
    " 'times',\n",
    " 'number of different times',\n",
    " 'works',\n",
    " 'number of different works',\n",
    " 'number of 1st level quotations',\n",
    " 'number of 2nd level quotations',\n",
    " 'number of 3rd level quotations',\n",
    " 'number of 4th level quotations',\n",
    " 'number of 5th level quotations',\n",
    " 'number of 6th level quotations',\n",
    " 'number of 7th level quotations',\n",
    " 'number of quotations',\n",
    " 'number of entities communicating',\n",
    " 'number of different entities communicating',\n",
    " 'number of entities receiving communication',\n",
    " 'number of different entities receiving communication',\n",
    " 'number of oral quotations',\n",
    " 'number of dream quotations',\n",
    " 'number of praying quotations',\n",
    " 'number of oath quotations',\n",
    " 'number of written quotations',\n",
    " 'number of song quotations',\n",
    " 'number of soCalled quotations',\n",
    " 'number of idea quotations',\n",
    " '#per17',\n",
    " '#org0',\n",
    " '#per145',\n",
    " '#per241',\n",
    " '#pla77',\n",
    " '#pla39',\n",
    " '#pla85'])"
   ]
  },
  {
   "cell_type": "code",
   "execution_count": 20,
   "metadata": {},
   "outputs": [],
   "source": [
    "sexual_categories = verses_features.columns.tolist()[8:260]"
   ]
  },
  {
   "cell_type": "code",
   "execution_count": 28,
   "metadata": {},
   "outputs": [
    {
     "output_type": "execute_result",
     "data": {
      "text/plain": [
       "['relations',\n",
       " 'monogamy',\n",
       " 'poligamy',\n",
       " 'marriage',\n",
       " 'second-marriage',\n",
       " 'second-marriage-divorce',\n",
       " 'second-marriage-widow',\n",
       " 'interfaith-marriage',\n",
       " 'interfaith-relation',\n",
       " 'non-marital-relation',\n",
       " 'marital-relation-political-family',\n",
       " 'lord-servant-relation',\n",
       " 'marital-relation-direct-family',\n",
       " 'arranged-marriage',\n",
       " 'divorce',\n",
       " 'engaged',\n",
       " 'love',\n",
       " 'jealousy',\n",
       " 'ascendant-descendant',\n",
       " 'indirect-ascendant-descendant',\n",
       " 'acts',\n",
       " 'social-related-act',\n",
       " 'wedding',\n",
       " 'body-related-act',\n",
       " 'massage',\n",
       " 'kiss',\n",
       " 'hug',\n",
       " 'dance',\n",
       " 'abortion',\n",
       " 'circumcision',\n",
       " 'breast-feeding',\n",
       " 'sexual-act',\n",
       " 'sexual-act-stage',\n",
       " 'seduction',\n",
       " 'erotic-time',\n",
       " 'initation-sexual-act',\n",
       " 'orgasm',\n",
       " 'ejaculation',\n",
       " 'time-after-sex',\n",
       " 'sexual-act-type',\n",
       " 'coitus',\n",
       " 'first-sexual-act',\n",
       " 'coitus-interruptus',\n",
       " 'self-masturbation',\n",
       " 'masturbation',\n",
       " 'oral-sex',\n",
       " 'anal-sex',\n",
       " 'non-penetrative-sex',\n",
       " 'female-rape',\n",
       " 'male-rape',\n",
       " 'sexual-assault',\n",
       " 'female-sexual-assault',\n",
       " 'male-sexual-assault',\n",
       " 'sexual-deception',\n",
       " 'sexual-drive',\n",
       " 'sexual-desire',\n",
       " 'sex-for-goods',\n",
       " 'other-sexual-act',\n",
       " 'sexual-act-situation',\n",
       " 'sex-in-marriage',\n",
       " 'sex-before-marriage',\n",
       " 'sex-outside-marriage',\n",
       " 'sex-outside',\n",
       " 'sexual-act-participants',\n",
       " 'heterosexual-sex',\n",
       " 'homosexual-sex',\n",
       " 'gay-sex',\n",
       " 'lesbian-sex',\n",
       " 'prostitution-sex',\n",
       " 'religous-sex',\n",
       " 'parents-children-sex',\n",
       " 'sibling-sex',\n",
       " 'greater-family-sex',\n",
       " 'angel-human-sex',\n",
       " 'animal-human-sex',\n",
       " 'animal-sex',\n",
       " 'groupal-sex',\n",
       " 'lord-servant-sex',\n",
       " 'states',\n",
       " 'single-life',\n",
       " 'virginity',\n",
       " 'celibacy',\n",
       " 'infertility',\n",
       " 'nudity',\n",
       " 'semi-nudity',\n",
       " 'pregnancy',\n",
       " 'beauty',\n",
       " 'dishonor',\n",
       " 'body',\n",
       " 'body-by-gender',\n",
       " 'female-body',\n",
       " 'male-body',\n",
       " 'body-part',\n",
       " 'genitalia',\n",
       " 'female-genitalia',\n",
       " 'male-genitalia',\n",
       " 'prepuce',\n",
       " 'gluteus-anus',\n",
       " 'female-breast',\n",
       " 'male-chest',\n",
       " 'ovaries',\n",
       " 'semen',\n",
       " 'head',\n",
       " 'eye',\n",
       " 'nose',\n",
       " 'cheek',\n",
       " 'mouth',\n",
       " 'lips',\n",
       " 'tongue',\n",
       " 'tooth',\n",
       " 'hair',\n",
       " 'thigh',\n",
       " 'neck',\n",
       " 'hand',\n",
       " 'skin',\n",
       " 'foot',\n",
       " 'waist',\n",
       " 'heart',\n",
       " 'navel',\n",
       " 'belly',\n",
       " 'leg',\n",
       " 'arm',\n",
       " 'rib',\n",
       " 'lubrication',\n",
       " 'face',\n",
       " 'body-function',\n",
       " 'birth',\n",
       " 'fertilization',\n",
       " 'misscarriage',\n",
       " 'erection',\n",
       " 'menstruation',\n",
       " 'sleep',\n",
       " 'diseases',\n",
       " 'menstrual-disorder',\n",
       " 'senses',\n",
       " 'smell',\n",
       " 'things',\n",
       " 'clothes',\n",
       " 'belt',\n",
       " 'veil',\n",
       " 'perfume',\n",
       " 'juwels',\n",
       " 'earrings',\n",
       " 'piercing',\n",
       " 'collar',\n",
       " 'bracelet',\n",
       " 'food-and-related',\n",
       " 'drink',\n",
       " 'water',\n",
       " 'milk',\n",
       " 'wine',\n",
       " 'alcohol',\n",
       " 'glass',\n",
       " 'spices',\n",
       " 'wheat',\n",
       " 'honey',\n",
       " 'fruits',\n",
       " 'pomegranate',\n",
       " 'grapes',\n",
       " 'raisin',\n",
       " 'apples',\n",
       " 'figs',\n",
       " 'carriage',\n",
       " 'weapons',\n",
       " 'sword',\n",
       " 'shield',\n",
       " 'money',\n",
       " 'metal',\n",
       " 'silver',\n",
       " 'gold',\n",
       " 'fountain',\n",
       " 'well',\n",
       " 'pitcher',\n",
       " 'environment',\n",
       " 'moon',\n",
       " 'sun',\n",
       " 'rain',\n",
       " 'wind',\n",
       " 'places',\n",
       " 'interior-spaces',\n",
       " 'bedroom',\n",
       " 'bed',\n",
       " 'door',\n",
       " 'wall',\n",
       " 'house',\n",
       " 'tower',\n",
       " 'exterior-spaces',\n",
       " 'garden',\n",
       " 'vineyard',\n",
       " 'spring',\n",
       " 'desert',\n",
       " 'river',\n",
       " 'field',\n",
       " 'lake',\n",
       " 'groups',\n",
       " 'based-on-gender',\n",
       " 'women',\n",
       " 'men',\n",
       " 'third-sexual-group',\n",
       " 'eunuchs',\n",
       " 'based-on-orientation',\n",
       " 'heterosexuals',\n",
       " 'homosexuals',\n",
       " 'male-homosexuals',\n",
       " 'female-homosexuals',\n",
       " 'by-state',\n",
       " 'single',\n",
       " 'married',\n",
       " 'widow-widower',\n",
       " 'widow',\n",
       " 'widower',\n",
       " 'virgin',\n",
       " 'by-profession',\n",
       " 'prostitutes',\n",
       " 'female-prostitutes',\n",
       " 'male-prostitutes',\n",
       " 'sexual-priests',\n",
       " 'concubine',\n",
       " 'by-corporal-traits',\n",
       " 'circumcised',\n",
       " 'uncircumcised',\n",
       " 'valorations',\n",
       " 'blessed-aspect',\n",
       " 'positive-aspect',\n",
       " 'neutral-aspect',\n",
       " 'negative-aspect',\n",
       " 'condemned-aspect',\n",
       " 'animals',\n",
       " 'gazelle',\n",
       " 'deer',\n",
       " 'dove',\n",
       " 'fox',\n",
       " 'goat',\n",
       " 'sheep',\n",
       " 'leopard',\n",
       " 'lion',\n",
       " 'crow',\n",
       " 'turtledove',\n",
       " 'horse',\n",
       " 'donkey',\n",
       " 'cow',\n",
       " 'camel',\n",
       " 'plants',\n",
       " 'flowers',\n",
       " 'trees',\n",
       " 'palms',\n",
       " 'time',\n",
       " 'part-of-the-day',\n",
       " 'night',\n",
       " 'sunrise',\n",
       " 'seasons',\n",
       " 'winter']"
      ]
     },
     "metadata": {},
     "execution_count": 28
    }
   ],
   "source": [
    "verses_features.columns.tolist()[8:260]"
   ]
  },
  {
   "cell_type": "code",
   "execution_count": 5,
   "metadata": {},
   "outputs": [],
   "source": [
    "verses_features.fillna(0, inplace=True)"
   ]
  },
  {
   "cell_type": "code",
   "execution_count": 6,
   "metadata": {},
   "outputs": [
    {
     "output_type": "execute_result",
     "data": {
      "text/plain": [
       "  bible_identifier bible_book bible_chapter bible_book_chapter       genre  \\\n",
       "0    b.GEN.001.001        GEN           001            GEN.001  historical   \n",
       "1    b.GEN.001.002        GEN           001            GEN.001  historical   \n",
       "2    b.GEN.001.003        GEN           001            GEN.001  historical   \n",
       "3    b.GEN.001.004        GEN           001            GEN.001  historical   \n",
       "4    b.GEN.001.005        GEN           001            GEN.001  historical   \n",
       "\n",
       "   twitter_freq_sum_2014_2015  twitter_freq_2014  twitter_freq_2015  \\\n",
       "0                       49268              26376              22892   \n",
       "1                        8601               3693               4908   \n",
       "2                       20970               8816              12154   \n",
       "3                        4222               2286               1936   \n",
       "4                        3208               1666               1542   \n",
       "\n",
       "   relations  monogamy  ...  #org52  #per129  pla15  #pla74  pla69  org435  \\\n",
       "0          0         0  ...     0.0      0.0    0.0     0.0    0.0     0.0   \n",
       "1          0         0  ...     0.0      0.0    0.0     0.0    0.0     0.0   \n",
       "2          0         0  ...     0.0      0.0    0.0     0.0    0.0     0.0   \n",
       "3          0         0  ...     0.0      0.0    0.0     0.0    0.0     0.0   \n",
       "4          0         0  ...     0.0      0.0    0.0     0.0    0.0     0.0   \n",
       "\n",
       "   org297  org183  org102  #pla75  \n",
       "0     0.0     0.0     0.0     0.0  \n",
       "1     0.0     0.0     0.0     0.0  \n",
       "2     0.0     0.0     0.0     0.0  \n",
       "3     0.0     0.0     0.0     0.0  \n",
       "4     0.0     0.0     0.0     0.0  \n",
       "\n",
       "[5 rows x 4228 columns]"
      ],
      "text/html": "<div>\n<style scoped>\n    .dataframe tbody tr th:only-of-type {\n        vertical-align: middle;\n    }\n\n    .dataframe tbody tr th {\n        vertical-align: top;\n    }\n\n    .dataframe thead th {\n        text-align: right;\n    }\n</style>\n<table border=\"1\" class=\"dataframe\">\n  <thead>\n    <tr style=\"text-align: right;\">\n      <th></th>\n      <th>bible_identifier</th>\n      <th>bible_book</th>\n      <th>bible_chapter</th>\n      <th>bible_book_chapter</th>\n      <th>genre</th>\n      <th>twitter_freq_sum_2014_2015</th>\n      <th>twitter_freq_2014</th>\n      <th>twitter_freq_2015</th>\n      <th>relations</th>\n      <th>monogamy</th>\n      <th>...</th>\n      <th>#org52</th>\n      <th>#per129</th>\n      <th>pla15</th>\n      <th>#pla74</th>\n      <th>pla69</th>\n      <th>org435</th>\n      <th>org297</th>\n      <th>org183</th>\n      <th>org102</th>\n      <th>#pla75</th>\n    </tr>\n  </thead>\n  <tbody>\n    <tr>\n      <th>0</th>\n      <td>b.GEN.001.001</td>\n      <td>GEN</td>\n      <td>001</td>\n      <td>GEN.001</td>\n      <td>historical</td>\n      <td>49268</td>\n      <td>26376</td>\n      <td>22892</td>\n      <td>0</td>\n      <td>0</td>\n      <td>...</td>\n      <td>0.0</td>\n      <td>0.0</td>\n      <td>0.0</td>\n      <td>0.0</td>\n      <td>0.0</td>\n      <td>0.0</td>\n      <td>0.0</td>\n      <td>0.0</td>\n      <td>0.0</td>\n      <td>0.0</td>\n    </tr>\n    <tr>\n      <th>1</th>\n      <td>b.GEN.001.002</td>\n      <td>GEN</td>\n      <td>001</td>\n      <td>GEN.001</td>\n      <td>historical</td>\n      <td>8601</td>\n      <td>3693</td>\n      <td>4908</td>\n      <td>0</td>\n      <td>0</td>\n      <td>...</td>\n      <td>0.0</td>\n      <td>0.0</td>\n      <td>0.0</td>\n      <td>0.0</td>\n      <td>0.0</td>\n      <td>0.0</td>\n      <td>0.0</td>\n      <td>0.0</td>\n      <td>0.0</td>\n      <td>0.0</td>\n    </tr>\n    <tr>\n      <th>2</th>\n      <td>b.GEN.001.003</td>\n      <td>GEN</td>\n      <td>001</td>\n      <td>GEN.001</td>\n      <td>historical</td>\n      <td>20970</td>\n      <td>8816</td>\n      <td>12154</td>\n      <td>0</td>\n      <td>0</td>\n      <td>...</td>\n      <td>0.0</td>\n      <td>0.0</td>\n      <td>0.0</td>\n      <td>0.0</td>\n      <td>0.0</td>\n      <td>0.0</td>\n      <td>0.0</td>\n      <td>0.0</td>\n      <td>0.0</td>\n      <td>0.0</td>\n    </tr>\n    <tr>\n      <th>3</th>\n      <td>b.GEN.001.004</td>\n      <td>GEN</td>\n      <td>001</td>\n      <td>GEN.001</td>\n      <td>historical</td>\n      <td>4222</td>\n      <td>2286</td>\n      <td>1936</td>\n      <td>0</td>\n      <td>0</td>\n      <td>...</td>\n      <td>0.0</td>\n      <td>0.0</td>\n      <td>0.0</td>\n      <td>0.0</td>\n      <td>0.0</td>\n      <td>0.0</td>\n      <td>0.0</td>\n      <td>0.0</td>\n      <td>0.0</td>\n      <td>0.0</td>\n    </tr>\n    <tr>\n      <th>4</th>\n      <td>b.GEN.001.005</td>\n      <td>GEN</td>\n      <td>001</td>\n      <td>GEN.001</td>\n      <td>historical</td>\n      <td>3208</td>\n      <td>1666</td>\n      <td>1542</td>\n      <td>0</td>\n      <td>0</td>\n      <td>...</td>\n      <td>0.0</td>\n      <td>0.0</td>\n      <td>0.0</td>\n      <td>0.0</td>\n      <td>0.0</td>\n      <td>0.0</td>\n      <td>0.0</td>\n      <td>0.0</td>\n      <td>0.0</td>\n      <td>0.0</td>\n    </tr>\n  </tbody>\n</table>\n<p>5 rows × 4228 columns</p>\n</div>"
     },
     "metadata": {},
     "execution_count": 6
    }
   ],
   "source": [
    "verses_features.head()"
   ]
  },
  {
   "cell_type": "code",
   "execution_count": 7,
   "metadata": {},
   "outputs": [
    {
     "output_type": "execute_result",
     "data": {
      "text/plain": [
       "['b.GEN.004.001',\n",
       " 'b.GEN.004.017',\n",
       " 'b.GEN.004.025',\n",
       " 'b.GEN.016.002',\n",
       " 'b.GEN.016.003',\n",
       " 'b.GEN.016.004',\n",
       " 'b.GEN.020.004',\n",
       " 'b.GEN.024.016',\n",
       " 'b.GEN.024.067',\n",
       " 'b.GEN.026.010',\n",
       " 'b.GEN.029.023',\n",
       " 'b.GEN.029.030',\n",
       " 'b.GEN.030.003',\n",
       " 'b.GEN.030.004',\n",
       " 'b.GEN.030.016',\n",
       " 'b.GEN.034.002',\n",
       " 'b.GEN.034.007',\n",
       " 'b.GEN.035.022',\n",
       " 'b.GEN.038.002',\n",
       " 'b.GEN.038.016',\n",
       " 'b.GEN.038.018',\n",
       " 'b.GEN.039.007',\n",
       " 'b.GEN.039.010',\n",
       " 'b.GEN.039.012',\n",
       " 'b.GEN.039.014',\n",
       " 'b.GEN.039.015',\n",
       " 'b.GEN.039.017',\n",
       " 'b.GEN.039.018',\n",
       " 'b.GEN.049.004',\n",
       " 'b.RUT.004.013',\n",
       " 'b.MAT.001.025',\n",
       " 'b.MAT.019.005',\n",
       " 'b.MAT.019.006']"
      ]
     },
     "metadata": {},
     "execution_count": 7
    }
   ],
   "source": [
    "verses_features[verses_features[\"coitus\"] > 0 ][\"bible_identifier\"].values.tolist()"
   ]
  },
  {
   "cell_type": "code",
   "execution_count": 8,
   "metadata": {},
   "outputs": [
    {
     "output_type": "execute_result",
     "data": {
      "text/plain": [
       "18816.0"
      ]
     },
     "metadata": {},
     "execution_count": 8
    }
   ],
   "source": [
    "verses_features[\"number of 1st level quotations\"].sum()"
   ]
  },
  {
   "cell_type": "code",
   "execution_count": 23,
   "metadata": {},
   "outputs": [
    {
     "output_type": "execute_result",
     "data": {
      "text/plain": [
       "<matplotlib.axes._subplots.AxesSubplot at 0x1103c505e08>"
      ]
     },
     "metadata": {},
     "execution_count": 23
    },
    {
     "output_type": "display_data",
     "data": {
      "text/plain": "<Figure size 432x288 with 1 Axes>",
      "image/svg+xml": "<?xml version=\"1.0\" encoding=\"utf-8\" standalone=\"no\"?>\r\n<!DOCTYPE svg PUBLIC \"-//W3C//DTD SVG 1.1//EN\"\r\n  \"http://www.w3.org/Graphics/SVG/1.1/DTD/svg11.dtd\">\r\n<!-- Created with matplotlib (https://matplotlib.org/) -->\r\n<svg height=\"248.518125pt\" version=\"1.1\" viewBox=\"0 0 381.65 248.518125\" width=\"381.65pt\" xmlns=\"http://www.w3.org/2000/svg\" xmlns:xlink=\"http://www.w3.org/1999/xlink\">\r\n <defs>\r\n  <style type=\"text/css\">\r\n*{stroke-linecap:butt;stroke-linejoin:round;}\r\n  </style>\r\n </defs>\r\n <g id=\"figure_1\">\r\n  <g id=\"patch_1\">\r\n   <path d=\"M -0 248.518125 \r\nL 381.65 248.518125 \r\nL 381.65 0 \r\nL -0 0 \r\nz\r\n\" style=\"fill:none;\"/>\r\n  </g>\r\n  <g id=\"axes_1\">\r\n   <g id=\"patch_2\">\r\n    <path d=\"M 39.65 224.64 \r\nL 374.45 224.64 \r\nL 374.45 7.2 \r\nL 39.65 7.2 \r\nz\r\n\" style=\"fill:#ffffff;\"/>\r\n   </g>\r\n   <g id=\"matplotlib.axis_1\">\r\n    <g id=\"xtick_1\">\r\n     <g id=\"line2d_1\">\r\n      <path clip-path=\"url(#p1623a25c1b)\" d=\"M 73.13 224.64 \r\nL 73.13 7.2 \r\n\" style=\"fill:none;stroke:#b0b0b0;stroke-linecap:square;stroke-width:0.8;\"/>\r\n     </g>\r\n     <g id=\"line2d_2\">\r\n      <defs>\r\n       <path d=\"M 0 0 \r\nL 0 3.5 \r\n\" id=\"mf517f22ca2\" style=\"stroke:#000000;stroke-width:0.8;\"/>\r\n      </defs>\r\n      <g>\r\n       <use style=\"stroke:#000000;stroke-width:0.8;\" x=\"73.13\" xlink:href=\"#mf517f22ca2\" y=\"224.64\"/>\r\n      </g>\r\n     </g>\r\n     <g id=\"text_1\">\r\n      <!-- GEN -->\r\n      <defs>\r\n       <path d=\"M 59.515625 10.40625 \r\nL 59.515625 29.984375 \r\nL 43.40625 29.984375 \r\nL 43.40625 38.09375 \r\nL 69.28125 38.09375 \r\nL 69.28125 6.78125 \r\nQ 63.578125 2.734375 56.6875 0.65625 \r\nQ 49.8125 -1.421875 42 -1.421875 \r\nQ 24.90625 -1.421875 15.25 8.5625 \r\nQ 5.609375 18.5625 5.609375 36.375 \r\nQ 5.609375 54.25 15.25 64.234375 \r\nQ 24.90625 74.21875 42 74.21875 \r\nQ 49.125 74.21875 55.546875 72.453125 \r\nQ 61.96875 70.703125 67.390625 67.28125 \r\nL 67.390625 56.78125 \r\nQ 61.921875 61.421875 55.765625 63.765625 \r\nQ 49.609375 66.109375 42.828125 66.109375 \r\nQ 29.4375 66.109375 22.71875 58.640625 \r\nQ 16.015625 51.171875 16.015625 36.375 \r\nQ 16.015625 21.625 22.71875 14.15625 \r\nQ 29.4375 6.6875 42.828125 6.6875 \r\nQ 48.046875 6.6875 52.140625 7.59375 \r\nQ 56.25 8.5 59.515625 10.40625 \r\nz\r\n\" id=\"DejaVuSans-71\"/>\r\n       <path d=\"M 9.8125 72.90625 \r\nL 55.90625 72.90625 \r\nL 55.90625 64.59375 \r\nL 19.671875 64.59375 \r\nL 19.671875 43.015625 \r\nL 54.390625 43.015625 \r\nL 54.390625 34.71875 \r\nL 19.671875 34.71875 \r\nL 19.671875 8.296875 \r\nL 56.78125 8.296875 \r\nL 56.78125 0 \r\nL 9.8125 0 \r\nz\r\n\" id=\"DejaVuSans-69\"/>\r\n       <path d=\"M 9.8125 72.90625 \r\nL 23.09375 72.90625 \r\nL 55.421875 11.921875 \r\nL 55.421875 72.90625 \r\nL 64.984375 72.90625 \r\nL 64.984375 0 \r\nL 51.703125 0 \r\nL 19.390625 60.984375 \r\nL 19.390625 0 \r\nL 9.8125 0 \r\nz\r\n\" id=\"DejaVuSans-78\"/>\r\n      </defs>\r\n      <g transform=\"translate(62.355781 239.238437)scale(0.1 -0.1)\">\r\n       <use xlink:href=\"#DejaVuSans-71\"/>\r\n       <use x=\"77.490234\" xlink:href=\"#DejaVuSans-69\"/>\r\n       <use x=\"140.673828\" xlink:href=\"#DejaVuSans-78\"/>\r\n      </g>\r\n     </g>\r\n    </g>\r\n    <g id=\"xtick_2\">\r\n     <g id=\"line2d_3\">\r\n      <path clip-path=\"url(#p1623a25c1b)\" d=\"M 140.09 224.64 \r\nL 140.09 7.2 \r\n\" style=\"fill:none;stroke:#b0b0b0;stroke-linecap:square;stroke-width:0.8;\"/>\r\n     </g>\r\n     <g id=\"line2d_4\">\r\n      <g>\r\n       <use style=\"stroke:#000000;stroke-width:0.8;\" x=\"140.09\" xlink:href=\"#mf517f22ca2\" y=\"224.64\"/>\r\n      </g>\r\n     </g>\r\n     <g id=\"text_2\">\r\n      <!-- SON -->\r\n      <defs>\r\n       <path d=\"M 53.515625 70.515625 \r\nL 53.515625 60.890625 \r\nQ 47.90625 63.578125 42.921875 64.890625 \r\nQ 37.9375 66.21875 33.296875 66.21875 \r\nQ 25.25 66.21875 20.875 63.09375 \r\nQ 16.5 59.96875 16.5 54.203125 \r\nQ 16.5 49.359375 19.40625 46.890625 \r\nQ 22.3125 44.4375 30.421875 42.921875 \r\nL 36.375 41.703125 \r\nQ 47.40625 39.59375 52.65625 34.296875 \r\nQ 57.90625 29 57.90625 20.125 \r\nQ 57.90625 9.515625 50.796875 4.046875 \r\nQ 43.703125 -1.421875 29.984375 -1.421875 \r\nQ 24.8125 -1.421875 18.96875 -0.25 \r\nQ 13.140625 0.921875 6.890625 3.21875 \r\nL 6.890625 13.375 \r\nQ 12.890625 10.015625 18.65625 8.296875 \r\nQ 24.421875 6.59375 29.984375 6.59375 \r\nQ 38.421875 6.59375 43.015625 9.90625 \r\nQ 47.609375 13.234375 47.609375 19.390625 \r\nQ 47.609375 24.75 44.3125 27.78125 \r\nQ 41.015625 30.8125 33.5 32.328125 \r\nL 27.484375 33.5 \r\nQ 16.453125 35.6875 11.515625 40.375 \r\nQ 6.59375 45.0625 6.59375 53.421875 \r\nQ 6.59375 63.09375 13.40625 68.65625 \r\nQ 20.21875 74.21875 32.171875 74.21875 \r\nQ 37.3125 74.21875 42.625 73.28125 \r\nQ 47.953125 72.359375 53.515625 70.515625 \r\nz\r\n\" id=\"DejaVuSans-83\"/>\r\n       <path d=\"M 39.40625 66.21875 \r\nQ 28.65625 66.21875 22.328125 58.203125 \r\nQ 16.015625 50.203125 16.015625 36.375 \r\nQ 16.015625 22.609375 22.328125 14.59375 \r\nQ 28.65625 6.59375 39.40625 6.59375 \r\nQ 50.140625 6.59375 56.421875 14.59375 \r\nQ 62.703125 22.609375 62.703125 36.375 \r\nQ 62.703125 50.203125 56.421875 58.203125 \r\nQ 50.140625 66.21875 39.40625 66.21875 \r\nz\r\nM 39.40625 74.21875 \r\nQ 54.734375 74.21875 63.90625 63.9375 \r\nQ 73.09375 53.65625 73.09375 36.375 \r\nQ 73.09375 19.140625 63.90625 8.859375 \r\nQ 54.734375 -1.421875 39.40625 -1.421875 \r\nQ 24.03125 -1.421875 14.8125 8.828125 \r\nQ 5.609375 19.09375 5.609375 36.375 \r\nQ 5.609375 53.65625 14.8125 63.9375 \r\nQ 24.03125 74.21875 39.40625 74.21875 \r\nz\r\n\" id=\"DejaVuSans-79\"/>\r\n      </defs>\r\n      <g transform=\"translate(129.239219 239.238437)scale(0.1 -0.1)\">\r\n       <use xlink:href=\"#DejaVuSans-83\"/>\r\n       <use x=\"63.476562\" xlink:href=\"#DejaVuSans-79\"/>\r\n       <use x=\"142.1875\" xlink:href=\"#DejaVuSans-78\"/>\r\n      </g>\r\n     </g>\r\n    </g>\r\n    <g id=\"xtick_3\">\r\n     <g id=\"line2d_5\">\r\n      <path clip-path=\"url(#p1623a25c1b)\" d=\"M 207.05 224.64 \r\nL 207.05 7.2 \r\n\" style=\"fill:none;stroke:#b0b0b0;stroke-linecap:square;stroke-width:0.8;\"/>\r\n     </g>\r\n     <g id=\"line2d_6\">\r\n      <g>\r\n       <use style=\"stroke:#000000;stroke-width:0.8;\" x=\"207.05\" xlink:href=\"#mf517f22ca2\" y=\"224.64\"/>\r\n      </g>\r\n     </g>\r\n     <g id=\"text_3\">\r\n      <!-- MAT -->\r\n      <defs>\r\n       <path d=\"M 9.8125 72.90625 \r\nL 24.515625 72.90625 \r\nL 43.109375 23.296875 \r\nL 61.8125 72.90625 \r\nL 76.515625 72.90625 \r\nL 76.515625 0 \r\nL 66.890625 0 \r\nL 66.890625 64.015625 \r\nL 48.09375 14.015625 \r\nL 38.1875 14.015625 \r\nL 19.390625 64.015625 \r\nL 19.390625 0 \r\nL 9.8125 0 \r\nz\r\n\" id=\"DejaVuSans-77\"/>\r\n       <path d=\"M 34.1875 63.1875 \r\nL 20.796875 26.90625 \r\nL 47.609375 26.90625 \r\nz\r\nM 28.609375 72.90625 \r\nL 39.796875 72.90625 \r\nL 67.578125 0 \r\nL 57.328125 0 \r\nL 50.6875 18.703125 \r\nL 17.828125 18.703125 \r\nL 11.1875 0 \r\nL 0.78125 0 \r\nz\r\n\" id=\"DejaVuSans-65\"/>\r\n       <path d=\"M -0.296875 72.90625 \r\nL 61.375 72.90625 \r\nL 61.375 64.59375 \r\nL 35.5 64.59375 \r\nL 35.5 0 \r\nL 25.59375 0 \r\nL 25.59375 64.59375 \r\nL -0.296875 64.59375 \r\nz\r\n\" id=\"DejaVuSans-84\"/>\r\n      </defs>\r\n      <g transform=\"translate(196.267188 239.238437)scale(0.1 -0.1)\">\r\n       <use xlink:href=\"#DejaVuSans-77\"/>\r\n       <use x=\"86.279297\" xlink:href=\"#DejaVuSans-65\"/>\r\n       <use x=\"154.578125\" xlink:href=\"#DejaVuSans-84\"/>\r\n      </g>\r\n     </g>\r\n    </g>\r\n    <g id=\"xtick_4\">\r\n     <g id=\"line2d_7\">\r\n      <path clip-path=\"url(#p1623a25c1b)\" d=\"M 274.01 224.64 \r\nL 274.01 7.2 \r\n\" style=\"fill:none;stroke:#b0b0b0;stroke-linecap:square;stroke-width:0.8;\"/>\r\n     </g>\r\n     <g id=\"line2d_8\">\r\n      <g>\r\n       <use style=\"stroke:#000000;stroke-width:0.8;\" x=\"274.01\" xlink:href=\"#mf517f22ca2\" y=\"224.64\"/>\r\n      </g>\r\n     </g>\r\n     <g id=\"text_4\">\r\n      <!-- 1CO -->\r\n      <defs>\r\n       <path d=\"M 12.40625 8.296875 \r\nL 28.515625 8.296875 \r\nL 28.515625 63.921875 \r\nL 10.984375 60.40625 \r\nL 10.984375 69.390625 \r\nL 28.421875 72.90625 \r\nL 38.28125 72.90625 \r\nL 38.28125 8.296875 \r\nL 54.390625 8.296875 \r\nL 54.390625 0 \r\nL 12.40625 0 \r\nz\r\n\" id=\"DejaVuSans-49\"/>\r\n       <path d=\"M 64.40625 67.28125 \r\nL 64.40625 56.890625 \r\nQ 59.421875 61.53125 53.78125 63.8125 \r\nQ 48.140625 66.109375 41.796875 66.109375 \r\nQ 29.296875 66.109375 22.65625 58.46875 \r\nQ 16.015625 50.828125 16.015625 36.375 \r\nQ 16.015625 21.96875 22.65625 14.328125 \r\nQ 29.296875 6.6875 41.796875 6.6875 \r\nQ 48.140625 6.6875 53.78125 8.984375 \r\nQ 59.421875 11.28125 64.40625 15.921875 \r\nL 64.40625 5.609375 \r\nQ 59.234375 2.09375 53.4375 0.328125 \r\nQ 47.65625 -1.421875 41.21875 -1.421875 \r\nQ 24.65625 -1.421875 15.125 8.703125 \r\nQ 5.609375 18.84375 5.609375 36.375 \r\nQ 5.609375 53.953125 15.125 64.078125 \r\nQ 24.65625 74.21875 41.21875 74.21875 \r\nQ 47.75 74.21875 53.53125 72.484375 \r\nQ 59.328125 70.75 64.40625 67.28125 \r\nz\r\n\" id=\"DejaVuSans-67\"/>\r\n      </defs>\r\n      <g transform=\"translate(263.401406 239.238437)scale(0.1 -0.1)\">\r\n       <use xlink:href=\"#DejaVuSans-49\"/>\r\n       <use x=\"63.623047\" xlink:href=\"#DejaVuSans-67\"/>\r\n       <use x=\"133.447266\" xlink:href=\"#DejaVuSans-79\"/>\r\n      </g>\r\n     </g>\r\n    </g>\r\n    <g id=\"xtick_5\">\r\n     <g id=\"line2d_9\">\r\n      <path clip-path=\"url(#p1623a25c1b)\" d=\"M 340.97 224.64 \r\nL 340.97 7.2 \r\n\" style=\"fill:none;stroke:#b0b0b0;stroke-linecap:square;stroke-width:0.8;\"/>\r\n     </g>\r\n     <g id=\"line2d_10\">\r\n      <g>\r\n       <use style=\"stroke:#000000;stroke-width:0.8;\" x=\"340.97\" xlink:href=\"#mf517f22ca2\" y=\"224.64\"/>\r\n      </g>\r\n     </g>\r\n     <g id=\"text_5\">\r\n      <!-- REV -->\r\n      <defs>\r\n       <path d=\"M 44.390625 34.1875 \r\nQ 47.5625 33.109375 50.5625 29.59375 \r\nQ 53.5625 26.078125 56.59375 19.921875 \r\nL 66.609375 0 \r\nL 56 0 \r\nL 46.6875 18.703125 \r\nQ 43.0625 26.03125 39.671875 28.421875 \r\nQ 36.28125 30.8125 30.421875 30.8125 \r\nL 19.671875 30.8125 \r\nL 19.671875 0 \r\nL 9.8125 0 \r\nL 9.8125 72.90625 \r\nL 32.078125 72.90625 \r\nQ 44.578125 72.90625 50.734375 67.671875 \r\nQ 56.890625 62.453125 56.890625 51.90625 \r\nQ 56.890625 45.015625 53.6875 40.46875 \r\nQ 50.484375 35.9375 44.390625 34.1875 \r\nz\r\nM 19.671875 64.796875 \r\nL 19.671875 38.921875 \r\nL 32.078125 38.921875 \r\nQ 39.203125 38.921875 42.84375 42.21875 \r\nQ 46.484375 45.515625 46.484375 51.90625 \r\nQ 46.484375 58.296875 42.84375 61.546875 \r\nQ 39.203125 64.796875 32.078125 64.796875 \r\nz\r\n\" id=\"DejaVuSans-82\"/>\r\n       <path d=\"M 28.609375 0 \r\nL 0.78125 72.90625 \r\nL 11.078125 72.90625 \r\nL 34.1875 11.53125 \r\nL 57.328125 72.90625 \r\nL 67.578125 72.90625 \r\nL 39.796875 0 \r\nz\r\n\" id=\"DejaVuSans-86\"/>\r\n      </defs>\r\n      <g transform=\"translate(330.916094 239.238437)scale(0.1 -0.1)\">\r\n       <use xlink:href=\"#DejaVuSans-82\"/>\r\n       <use x=\"69.482422\" xlink:href=\"#DejaVuSans-69\"/>\r\n       <use x=\"132.666016\" xlink:href=\"#DejaVuSans-86\"/>\r\n      </g>\r\n     </g>\r\n    </g>\r\n   </g>\r\n   <g id=\"matplotlib.axis_2\">\r\n    <g id=\"ytick_1\">\r\n     <g id=\"line2d_11\">\r\n      <path clip-path=\"url(#p1623a25c1b)\" d=\"M 39.65 214.756364 \r\nL 374.45 214.756364 \r\n\" style=\"fill:none;stroke:#b0b0b0;stroke-linecap:square;stroke-width:0.8;\"/>\r\n     </g>\r\n     <g id=\"line2d_12\">\r\n      <defs>\r\n       <path d=\"M 0 0 \r\nL -3.5 0 \r\n\" id=\"m985877843b\" style=\"stroke:#000000;stroke-width:0.8;\"/>\r\n      </defs>\r\n      <g>\r\n       <use style=\"stroke:#000000;stroke-width:0.8;\" x=\"39.65\" xlink:href=\"#m985877843b\" y=\"214.756364\"/>\r\n      </g>\r\n     </g>\r\n     <g id=\"text_6\">\r\n      <!-- 0 -->\r\n      <defs>\r\n       <path d=\"M 31.78125 66.40625 \r\nQ 24.171875 66.40625 20.328125 58.90625 \r\nQ 16.5 51.421875 16.5 36.375 \r\nQ 16.5 21.390625 20.328125 13.890625 \r\nQ 24.171875 6.390625 31.78125 6.390625 \r\nQ 39.453125 6.390625 43.28125 13.890625 \r\nQ 47.125 21.390625 47.125 36.375 \r\nQ 47.125 51.421875 43.28125 58.90625 \r\nQ 39.453125 66.40625 31.78125 66.40625 \r\nz\r\nM 31.78125 74.21875 \r\nQ 44.046875 74.21875 50.515625 64.515625 \r\nQ 56.984375 54.828125 56.984375 36.375 \r\nQ 56.984375 17.96875 50.515625 8.265625 \r\nQ 44.046875 -1.421875 31.78125 -1.421875 \r\nQ 19.53125 -1.421875 13.0625 8.265625 \r\nQ 6.59375 17.96875 6.59375 36.375 \r\nQ 6.59375 54.828125 13.0625 64.515625 \r\nQ 19.53125 74.21875 31.78125 74.21875 \r\nz\r\n\" id=\"DejaVuSans-48\"/>\r\n      </defs>\r\n      <g transform=\"translate(26.2875 218.555582)scale(0.1 -0.1)\">\r\n       <use xlink:href=\"#DejaVuSans-48\"/>\r\n      </g>\r\n     </g>\r\n    </g>\r\n    <g id=\"ytick_2\">\r\n     <g id=\"line2d_13\">\r\n      <path clip-path=\"url(#p1623a25c1b)\" d=\"M 39.65 167.646562 \r\nL 374.45 167.646562 \r\n\" style=\"fill:none;stroke:#b0b0b0;stroke-linecap:square;stroke-width:0.8;\"/>\r\n     </g>\r\n     <g id=\"line2d_14\">\r\n      <g>\r\n       <use style=\"stroke:#000000;stroke-width:0.8;\" x=\"39.65\" xlink:href=\"#m985877843b\" y=\"167.646562\"/>\r\n      </g>\r\n     </g>\r\n     <g id=\"text_7\">\r\n      <!-- 500 -->\r\n      <defs>\r\n       <path d=\"M 10.796875 72.90625 \r\nL 49.515625 72.90625 \r\nL 49.515625 64.59375 \r\nL 19.828125 64.59375 \r\nL 19.828125 46.734375 \r\nQ 21.96875 47.46875 24.109375 47.828125 \r\nQ 26.265625 48.1875 28.421875 48.1875 \r\nQ 40.625 48.1875 47.75 41.5 \r\nQ 54.890625 34.8125 54.890625 23.390625 \r\nQ 54.890625 11.625 47.5625 5.09375 \r\nQ 40.234375 -1.421875 26.90625 -1.421875 \r\nQ 22.3125 -1.421875 17.546875 -0.640625 \r\nQ 12.796875 0.140625 7.71875 1.703125 \r\nL 7.71875 11.625 \r\nQ 12.109375 9.234375 16.796875 8.0625 \r\nQ 21.484375 6.890625 26.703125 6.890625 \r\nQ 35.15625 6.890625 40.078125 11.328125 \r\nQ 45.015625 15.765625 45.015625 23.390625 \r\nQ 45.015625 31 40.078125 35.4375 \r\nQ 35.15625 39.890625 26.703125 39.890625 \r\nQ 22.75 39.890625 18.8125 39.015625 \r\nQ 14.890625 38.140625 10.796875 36.28125 \r\nz\r\n\" id=\"DejaVuSans-53\"/>\r\n      </defs>\r\n      <g transform=\"translate(13.5625 171.445781)scale(0.1 -0.1)\">\r\n       <use xlink:href=\"#DejaVuSans-53\"/>\r\n       <use x=\"63.623047\" xlink:href=\"#DejaVuSans-48\"/>\r\n       <use x=\"127.246094\" xlink:href=\"#DejaVuSans-48\"/>\r\n      </g>\r\n     </g>\r\n    </g>\r\n    <g id=\"ytick_3\">\r\n     <g id=\"line2d_15\">\r\n      <path clip-path=\"url(#p1623a25c1b)\" d=\"M 39.65 120.536761 \r\nL 374.45 120.536761 \r\n\" style=\"fill:none;stroke:#b0b0b0;stroke-linecap:square;stroke-width:0.8;\"/>\r\n     </g>\r\n     <g id=\"line2d_16\">\r\n      <g>\r\n       <use style=\"stroke:#000000;stroke-width:0.8;\" x=\"39.65\" xlink:href=\"#m985877843b\" y=\"120.536761\"/>\r\n      </g>\r\n     </g>\r\n     <g id=\"text_8\">\r\n      <!-- 1000 -->\r\n      <g transform=\"translate(7.2 124.335979)scale(0.1 -0.1)\">\r\n       <use xlink:href=\"#DejaVuSans-49\"/>\r\n       <use x=\"63.623047\" xlink:href=\"#DejaVuSans-48\"/>\r\n       <use x=\"127.246094\" xlink:href=\"#DejaVuSans-48\"/>\r\n       <use x=\"190.869141\" xlink:href=\"#DejaVuSans-48\"/>\r\n      </g>\r\n     </g>\r\n    </g>\r\n    <g id=\"ytick_4\">\r\n     <g id=\"line2d_17\">\r\n      <path clip-path=\"url(#p1623a25c1b)\" d=\"M 39.65 73.426959 \r\nL 374.45 73.426959 \r\n\" style=\"fill:none;stroke:#b0b0b0;stroke-linecap:square;stroke-width:0.8;\"/>\r\n     </g>\r\n     <g id=\"line2d_18\">\r\n      <g>\r\n       <use style=\"stroke:#000000;stroke-width:0.8;\" x=\"39.65\" xlink:href=\"#m985877843b\" y=\"73.426959\"/>\r\n      </g>\r\n     </g>\r\n     <g id=\"text_9\">\r\n      <!-- 1500 -->\r\n      <g transform=\"translate(7.2 77.226178)scale(0.1 -0.1)\">\r\n       <use xlink:href=\"#DejaVuSans-49\"/>\r\n       <use x=\"63.623047\" xlink:href=\"#DejaVuSans-53\"/>\r\n       <use x=\"127.246094\" xlink:href=\"#DejaVuSans-48\"/>\r\n       <use x=\"190.869141\" xlink:href=\"#DejaVuSans-48\"/>\r\n      </g>\r\n     </g>\r\n    </g>\r\n    <g id=\"ytick_5\">\r\n     <g id=\"line2d_19\">\r\n      <path clip-path=\"url(#p1623a25c1b)\" d=\"M 39.65 26.317157 \r\nL 374.45 26.317157 \r\n\" style=\"fill:none;stroke:#b0b0b0;stroke-linecap:square;stroke-width:0.8;\"/>\r\n     </g>\r\n     <g id=\"line2d_20\">\r\n      <g>\r\n       <use style=\"stroke:#000000;stroke-width:0.8;\" x=\"39.65\" xlink:href=\"#m985877843b\" y=\"26.317157\"/>\r\n      </g>\r\n     </g>\r\n     <g id=\"text_10\">\r\n      <!-- 2000 -->\r\n      <defs>\r\n       <path d=\"M 19.1875 8.296875 \r\nL 53.609375 8.296875 \r\nL 53.609375 0 \r\nL 7.328125 0 \r\nL 7.328125 8.296875 \r\nQ 12.9375 14.109375 22.625 23.890625 \r\nQ 32.328125 33.6875 34.8125 36.53125 \r\nQ 39.546875 41.84375 41.421875 45.53125 \r\nQ 43.3125 49.21875 43.3125 52.78125 \r\nQ 43.3125 58.59375 39.234375 62.25 \r\nQ 35.15625 65.921875 28.609375 65.921875 \r\nQ 23.96875 65.921875 18.8125 64.3125 \r\nQ 13.671875 62.703125 7.8125 59.421875 \r\nL 7.8125 69.390625 \r\nQ 13.765625 71.78125 18.9375 73 \r\nQ 24.125 74.21875 28.421875 74.21875 \r\nQ 39.75 74.21875 46.484375 68.546875 \r\nQ 53.21875 62.890625 53.21875 53.421875 \r\nQ 53.21875 48.921875 51.53125 44.890625 \r\nQ 49.859375 40.875 45.40625 35.40625 \r\nQ 44.1875 33.984375 37.640625 27.21875 \r\nQ 31.109375 20.453125 19.1875 8.296875 \r\nz\r\n\" id=\"DejaVuSans-50\"/>\r\n      </defs>\r\n      <g transform=\"translate(7.2 30.116376)scale(0.1 -0.1)\">\r\n       <use xlink:href=\"#DejaVuSans-50\"/>\r\n       <use x=\"63.623047\" xlink:href=\"#DejaVuSans-48\"/>\r\n       <use x=\"127.246094\" xlink:href=\"#DejaVuSans-48\"/>\r\n       <use x=\"190.869141\" xlink:href=\"#DejaVuSans-48\"/>\r\n      </g>\r\n     </g>\r\n    </g>\r\n   </g>\r\n   <g id=\"line2d_21\">\r\n    <path clip-path=\"url(#p1623a25c1b)\" d=\"M 56.39 214.756364 \r\nL 89.87 214.756364 \r\nL 89.87 214.567924 \r\nL 56.39 214.567924 \r\nL 56.39 214.756364 \r\n\" style=\"fill:none;stroke:#1f77b4;stroke-linecap:square;\"/>\r\n   </g>\r\n   <g id=\"line2d_22\">\r\n    <path clip-path=\"url(#p1623a25c1b)\" d=\"M 73.13 214.756364 \r\nL 73.13 214.756364 \r\n\" style=\"fill:none;stroke:#1f77b4;stroke-linecap:square;\"/>\r\n   </g>\r\n   <g id=\"line2d_23\">\r\n    <path clip-path=\"url(#p1623a25c1b)\" d=\"M 73.13 214.567924 \r\nL 73.13 214.285266 \r\n\" style=\"fill:none;stroke:#1f77b4;stroke-linecap:square;\"/>\r\n   </g>\r\n   <g id=\"line2d_24\">\r\n    <path clip-path=\"url(#p1623a25c1b)\" d=\"M 64.76 214.756364 \r\nL 81.5 214.756364 \r\n\" style=\"fill:none;stroke:#000000;stroke-linecap:square;\"/>\r\n   </g>\r\n   <g id=\"line2d_25\">\r\n    <path clip-path=\"url(#p1623a25c1b)\" d=\"M 64.76 214.285266 \r\nL 81.5 214.285266 \r\n\" style=\"fill:none;stroke:#000000;stroke-linecap:square;\"/>\r\n   </g>\r\n   <g id=\"line2d_26\">\r\n    <defs>\r\n     <path d=\"M 0 3 \r\nC 0.795609 3 1.55874 2.683901 2.12132 2.12132 \r\nC 2.683901 1.55874 3 0.795609 3 0 \r\nC 3 -0.795609 2.683901 -1.55874 2.12132 -2.12132 \r\nC 1.55874 -2.683901 0.795609 -3 0 -3 \r\nC -0.795609 -3 -1.55874 -2.683901 -2.12132 -2.12132 \r\nC -2.683901 -1.55874 -3 -0.795609 -3 0 \r\nC -3 0.795609 -2.683901 1.55874 -2.12132 2.12132 \r\nC -1.55874 2.683901 -0.795609 3 0 3 \r\nz\r\n\" id=\"m1eb212be20\" style=\"stroke:#000000;\"/>\r\n    </defs>\r\n    <g clip-path=\"url(#p1623a25c1b)\">\r\n     <use style=\"fill-opacity:0;stroke:#000000;\" x=\"73.13\" xlink:href=\"#m1eb212be20\" y=\"213.814168\"/>\r\n     <use style=\"fill-opacity:0;stroke:#000000;\" x=\"73.13\" xlink:href=\"#m1eb212be20\" y=\"213.060411\"/>\r\n     <use style=\"fill-opacity:0;stroke:#000000;\" x=\"73.13\" xlink:href=\"#m1eb212be20\" y=\"213.24885\"/>\r\n     <use style=\"fill-opacity:0;stroke:#000000;\" x=\"73.13\" xlink:href=\"#m1eb212be20\" y=\"212.777752\"/>\r\n     <use style=\"fill-opacity:0;stroke:#000000;\" x=\"73.13\" xlink:href=\"#m1eb212be20\" y=\"213.060411\"/>\r\n     <use style=\"fill-opacity:0;stroke:#000000;\" x=\"73.13\" xlink:href=\"#m1eb212be20\" y=\"192.991635\"/>\r\n     <use style=\"fill-opacity:0;stroke:#000000;\" x=\"73.13\" xlink:href=\"#m1eb212be20\" y=\"213.814168\"/>\r\n     <use style=\"fill-opacity:0;stroke:#000000;\" x=\"73.13\" xlink:href=\"#m1eb212be20\" y=\"213.34307\"/>\r\n     <use style=\"fill-opacity:0;stroke:#000000;\" x=\"73.13\" xlink:href=\"#m1eb212be20\" y=\"212.023995\"/>\r\n     <use style=\"fill-opacity:0;stroke:#000000;\" x=\"73.13\" xlink:href=\"#m1eb212be20\" y=\"214.191046\"/>\r\n     <use style=\"fill-opacity:0;stroke:#000000;\" x=\"73.13\" xlink:href=\"#m1eb212be20\" y=\"213.437289\"/>\r\n     <use style=\"fill-opacity:0;stroke:#000000;\" x=\"73.13\" xlink:href=\"#m1eb212be20\" y=\"213.814168\"/>\r\n     <use style=\"fill-opacity:0;stroke:#000000;\" x=\"73.13\" xlink:href=\"#m1eb212be20\" y=\"211.552897\"/>\r\n     <use style=\"fill-opacity:0;stroke:#000000;\" x=\"73.13\" xlink:href=\"#m1eb212be20\" y=\"212.118215\"/>\r\n     <use style=\"fill-opacity:0;stroke:#000000;\" x=\"73.13\" xlink:href=\"#m1eb212be20\" y=\"214.191046\"/>\r\n     <use style=\"fill-opacity:0;stroke:#000000;\" x=\"73.13\" xlink:href=\"#m1eb212be20\" y=\"214.002607\"/>\r\n     <use style=\"fill-opacity:0;stroke:#000000;\" x=\"73.13\" xlink:href=\"#m1eb212be20\" y=\"214.191046\"/>\r\n     <use style=\"fill-opacity:0;stroke:#000000;\" x=\"73.13\" xlink:href=\"#m1eb212be20\" y=\"213.719948\"/>\r\n     <use style=\"fill-opacity:0;stroke:#000000;\" x=\"73.13\" xlink:href=\"#m1eb212be20\" y=\"214.002607\"/>\r\n     <use style=\"fill-opacity:0;stroke:#000000;\" x=\"73.13\" xlink:href=\"#m1eb212be20\" y=\"214.096826\"/>\r\n     <use style=\"fill-opacity:0;stroke:#000000;\" x=\"73.13\" xlink:href=\"#m1eb212be20\" y=\"214.002607\"/>\r\n     <use style=\"fill-opacity:0;stroke:#000000;\" x=\"73.13\" xlink:href=\"#m1eb212be20\" y=\"213.908387\"/>\r\n     <use style=\"fill-opacity:0;stroke:#000000;\" x=\"73.13\" xlink:href=\"#m1eb212be20\" y=\"214.191046\"/>\r\n     <use style=\"fill-opacity:0;stroke:#000000;\" x=\"73.13\" xlink:href=\"#m1eb212be20\" y=\"209.856944\"/>\r\n     <use style=\"fill-opacity:0;stroke:#000000;\" x=\"73.13\" xlink:href=\"#m1eb212be20\" y=\"211.741336\"/>\r\n     <use style=\"fill-opacity:0;stroke:#000000;\" x=\"73.13\" xlink:href=\"#m1eb212be20\" y=\"213.625728\"/>\r\n     <use style=\"fill-opacity:0;stroke:#000000;\" x=\"73.13\" xlink:href=\"#m1eb212be20\" y=\"214.002607\"/>\r\n     <use style=\"fill-opacity:0;stroke:#000000;\" x=\"73.13\" xlink:href=\"#m1eb212be20\" y=\"213.814168\"/>\r\n     <use style=\"fill-opacity:0;stroke:#000000;\" x=\"73.13\" xlink:href=\"#m1eb212be20\" y=\"139.098022\"/>\r\n     <use style=\"fill-opacity:0;stroke:#000000;\" x=\"73.13\" xlink:href=\"#m1eb212be20\" y=\"115.731561\"/>\r\n     <use style=\"fill-opacity:0;stroke:#000000;\" x=\"73.13\" xlink:href=\"#m1eb212be20\" y=\"211.176019\"/>\r\n     <use style=\"fill-opacity:0;stroke:#000000;\" x=\"73.13\" xlink:href=\"#m1eb212be20\" y=\"209.856944\"/>\r\n     <use style=\"fill-opacity:0;stroke:#000000;\" x=\"73.13\" xlink:href=\"#m1eb212be20\" y=\"210.704921\"/>\r\n     <use style=\"fill-opacity:0;stroke:#000000;\" x=\"73.13\" xlink:href=\"#m1eb212be20\" y=\"210.422262\"/>\r\n     <use style=\"fill-opacity:0;stroke:#000000;\" x=\"73.13\" xlink:href=\"#m1eb212be20\" y=\"212.306654\"/>\r\n     <use style=\"fill-opacity:0;stroke:#000000;\" x=\"73.13\" xlink:href=\"#m1eb212be20\" y=\"213.814168\"/>\r\n    </g>\r\n   </g>\r\n   <g id=\"line2d_27\">\r\n    <path clip-path=\"url(#p1623a25c1b)\" d=\"M 123.35 214.756364 \r\nL 156.83 214.756364 \r\nL 156.83 214.567924 \r\nL 123.35 214.567924 \r\nL 123.35 214.756364 \r\n\" style=\"fill:none;stroke:#1f77b4;stroke-linecap:square;\"/>\r\n   </g>\r\n   <g id=\"line2d_28\">\r\n    <path clip-path=\"url(#p1623a25c1b)\" d=\"M 140.09 214.756364 \r\nL 140.09 214.756364 \r\n\" style=\"fill:none;stroke:#1f77b4;stroke-linecap:square;\"/>\r\n   </g>\r\n   <g id=\"line2d_29\">\r\n    <path clip-path=\"url(#p1623a25c1b)\" d=\"M 140.09 214.567924 \r\nL 140.09 214.285266 \r\n\" style=\"fill:none;stroke:#1f77b4;stroke-linecap:square;\"/>\r\n   </g>\r\n   <g id=\"line2d_30\">\r\n    <path clip-path=\"url(#p1623a25c1b)\" d=\"M 131.72 214.756364 \r\nL 148.46 214.756364 \r\n\" style=\"fill:none;stroke:#000000;stroke-linecap:square;\"/>\r\n   </g>\r\n   <g id=\"line2d_31\">\r\n    <path clip-path=\"url(#p1623a25c1b)\" d=\"M 131.72 214.285266 \r\nL 148.46 214.285266 \r\n\" style=\"fill:none;stroke:#000000;stroke-linecap:square;\"/>\r\n   </g>\r\n   <g id=\"line2d_32\">\r\n    <g clip-path=\"url(#p1623a25c1b)\">\r\n     <use style=\"fill-opacity:0;stroke:#000000;\" x=\"140.09\" xlink:href=\"#m1eb212be20\" y=\"206.08816\"/>\r\n     <use style=\"fill-opacity:0;stroke:#000000;\" x=\"140.09\" xlink:href=\"#m1eb212be20\" y=\"206.08816\"/>\r\n     <use style=\"fill-opacity:0;stroke:#000000;\" x=\"140.09\" xlink:href=\"#m1eb212be20\" y=\"212.777752\"/>\r\n     <use style=\"fill-opacity:0;stroke:#000000;\" x=\"140.09\" xlink:href=\"#m1eb212be20\" y=\"210.045383\"/>\r\n     <use style=\"fill-opacity:0;stroke:#000000;\" x=\"140.09\" xlink:href=\"#m1eb212be20\" y=\"213.908387\"/>\r\n     <use style=\"fill-opacity:0;stroke:#000000;\" x=\"140.09\" xlink:href=\"#m1eb212be20\" y=\"213.908387\"/>\r\n     <use style=\"fill-opacity:0;stroke:#000000;\" x=\"140.09\" xlink:href=\"#m1eb212be20\" y=\"214.002607\"/>\r\n     <use style=\"fill-opacity:0;stroke:#000000;\" x=\"140.09\" xlink:href=\"#m1eb212be20\" y=\"214.191046\"/>\r\n     <use style=\"fill-opacity:0;stroke:#000000;\" x=\"140.09\" xlink:href=\"#m1eb212be20\" y=\"214.191046\"/>\r\n     <use style=\"fill-opacity:0;stroke:#000000;\" x=\"140.09\" xlink:href=\"#m1eb212be20\" y=\"213.908387\"/>\r\n     <use style=\"fill-opacity:0;stroke:#000000;\" x=\"140.09\" xlink:href=\"#m1eb212be20\" y=\"214.191046\"/>\r\n     <use style=\"fill-opacity:0;stroke:#000000;\" x=\"140.09\" xlink:href=\"#m1eb212be20\" y=\"214.096826\"/>\r\n     <use style=\"fill-opacity:0;stroke:#000000;\" x=\"140.09\" xlink:href=\"#m1eb212be20\" y=\"210.98758\"/>\r\n     <use style=\"fill-opacity:0;stroke:#000000;\" x=\"140.09\" xlink:href=\"#m1eb212be20\" y=\"214.191046\"/>\r\n     <use style=\"fill-opacity:0;stroke:#000000;\" x=\"140.09\" xlink:href=\"#m1eb212be20\" y=\"214.002607\"/>\r\n     <use style=\"fill-opacity:0;stroke:#000000;\" x=\"140.09\" xlink:href=\"#m1eb212be20\" y=\"205.711282\"/>\r\n     <use style=\"fill-opacity:0;stroke:#000000;\" x=\"140.09\" xlink:href=\"#m1eb212be20\" y=\"205.428623\"/>\r\n     <use style=\"fill-opacity:0;stroke:#000000;\" x=\"140.09\" xlink:href=\"#m1eb212be20\" y=\"213.625728\"/>\r\n     <use style=\"fill-opacity:0;stroke:#000000;\" x=\"140.09\" xlink:href=\"#m1eb212be20\" y=\"214.096826\"/>\r\n     <use style=\"fill-opacity:0;stroke:#000000;\" x=\"140.09\" xlink:href=\"#m1eb212be20\" y=\"214.191046\"/>\r\n     <use style=\"fill-opacity:0;stroke:#000000;\" x=\"140.09\" xlink:href=\"#m1eb212be20\" y=\"213.625728\"/>\r\n    </g>\r\n   </g>\r\n   <g id=\"line2d_33\">\r\n    <path clip-path=\"url(#p1623a25c1b)\" d=\"M 190.31 214.756364 \r\nL 223.79 214.756364 \r\nL 223.79 214.756364 \r\nL 190.31 214.756364 \r\nL 190.31 214.756364 \r\n\" style=\"fill:none;stroke:#1f77b4;stroke-linecap:square;\"/>\r\n   </g>\r\n   <g id=\"line2d_34\">\r\n    <path clip-path=\"url(#p1623a25c1b)\" d=\"M 207.05 214.756364 \r\nL 207.05 214.756364 \r\n\" style=\"fill:none;stroke:#1f77b4;stroke-linecap:square;\"/>\r\n   </g>\r\n   <g id=\"line2d_35\">\r\n    <path clip-path=\"url(#p1623a25c1b)\" d=\"M 207.05 214.756364 \r\nL 207.05 214.756364 \r\n\" style=\"fill:none;stroke:#1f77b4;stroke-linecap:square;\"/>\r\n   </g>\r\n   <g id=\"line2d_36\">\r\n    <path clip-path=\"url(#p1623a25c1b)\" d=\"M 198.68 214.756364 \r\nL 215.42 214.756364 \r\n\" style=\"fill:none;stroke:#000000;stroke-linecap:square;\"/>\r\n   </g>\r\n   <g id=\"line2d_37\">\r\n    <path clip-path=\"url(#p1623a25c1b)\" d=\"M 198.68 214.756364 \r\nL 215.42 214.756364 \r\n\" style=\"fill:none;stroke:#000000;stroke-linecap:square;\"/>\r\n   </g>\r\n   <g id=\"line2d_38\">\r\n    <g clip-path=\"url(#p1623a25c1b)\">\r\n     <use style=\"fill-opacity:0;stroke:#000000;\" x=\"207.05\" xlink:href=\"#m1eb212be20\" y=\"214.473705\"/>\r\n     <use style=\"fill-opacity:0;stroke:#000000;\" x=\"207.05\" xlink:href=\"#m1eb212be20\" y=\"214.285266\"/>\r\n     <use style=\"fill-opacity:0;stroke:#000000;\" x=\"207.05\" xlink:href=\"#m1eb212be20\" y=\"213.908387\"/>\r\n     <use style=\"fill-opacity:0;stroke:#000000;\" x=\"207.05\" xlink:href=\"#m1eb212be20\" y=\"214.662144\"/>\r\n     <use style=\"fill-opacity:0;stroke:#000000;\" x=\"207.05\" xlink:href=\"#m1eb212be20\" y=\"214.096826\"/>\r\n     <use style=\"fill-opacity:0;stroke:#000000;\" x=\"207.05\" xlink:href=\"#m1eb212be20\" y=\"214.096826\"/>\r\n     <use style=\"fill-opacity:0;stroke:#000000;\" x=\"207.05\" xlink:href=\"#m1eb212be20\" y=\"214.002607\"/>\r\n     <use style=\"fill-opacity:0;stroke:#000000;\" x=\"207.05\" xlink:href=\"#m1eb212be20\" y=\"214.379485\"/>\r\n     <use style=\"fill-opacity:0;stroke:#000000;\" x=\"207.05\" xlink:href=\"#m1eb212be20\" y=\"213.814168\"/>\r\n     <use style=\"fill-opacity:0;stroke:#000000;\" x=\"207.05\" xlink:href=\"#m1eb212be20\" y=\"214.662144\"/>\r\n     <use style=\"fill-opacity:0;stroke:#000000;\" x=\"207.05\" xlink:href=\"#m1eb212be20\" y=\"214.662144\"/>\r\n     <use style=\"fill-opacity:0;stroke:#000000;\" x=\"207.05\" xlink:href=\"#m1eb212be20\" y=\"214.567924\"/>\r\n     <use style=\"fill-opacity:0;stroke:#000000;\" x=\"207.05\" xlink:href=\"#m1eb212be20\" y=\"214.662144\"/>\r\n     <use style=\"fill-opacity:0;stroke:#000000;\" x=\"207.05\" xlink:href=\"#m1eb212be20\" y=\"214.473705\"/>\r\n     <use style=\"fill-opacity:0;stroke:#000000;\" x=\"207.05\" xlink:href=\"#m1eb212be20\" y=\"214.662144\"/>\r\n     <use style=\"fill-opacity:0;stroke:#000000;\" x=\"207.05\" xlink:href=\"#m1eb212be20\" y=\"213.908387\"/>\r\n     <use style=\"fill-opacity:0;stroke:#000000;\" x=\"207.05\" xlink:href=\"#m1eb212be20\" y=\"214.473705\"/>\r\n     <use style=\"fill-opacity:0;stroke:#000000;\" x=\"207.05\" xlink:href=\"#m1eb212be20\" y=\"214.662144\"/>\r\n     <use style=\"fill-opacity:0;stroke:#000000;\" x=\"207.05\" xlink:href=\"#m1eb212be20\" y=\"214.191046\"/>\r\n     <use style=\"fill-opacity:0;stroke:#000000;\" x=\"207.05\" xlink:href=\"#m1eb212be20\" y=\"214.379485\"/>\r\n     <use style=\"fill-opacity:0;stroke:#000000;\" x=\"207.05\" xlink:href=\"#m1eb212be20\" y=\"213.437289\"/>\r\n     <use style=\"fill-opacity:0;stroke:#000000;\" x=\"207.05\" xlink:href=\"#m1eb212be20\" y=\"214.567924\"/>\r\n     <use style=\"fill-opacity:0;stroke:#000000;\" x=\"207.05\" xlink:href=\"#m1eb212be20\" y=\"214.285266\"/>\r\n     <use style=\"fill-opacity:0;stroke:#000000;\" x=\"207.05\" xlink:href=\"#m1eb212be20\" y=\"214.473705\"/>\r\n     <use style=\"fill-opacity:0;stroke:#000000;\" x=\"207.05\" xlink:href=\"#m1eb212be20\" y=\"213.908387\"/>\r\n     <use style=\"fill-opacity:0;stroke:#000000;\" x=\"207.05\" xlink:href=\"#m1eb212be20\" y=\"214.662144\"/>\r\n     <use style=\"fill-opacity:0;stroke:#000000;\" x=\"207.05\" xlink:href=\"#m1eb212be20\" y=\"214.662144\"/>\r\n     <use style=\"fill-opacity:0;stroke:#000000;\" x=\"207.05\" xlink:href=\"#m1eb212be20\" y=\"214.379485\"/>\r\n     <use style=\"fill-opacity:0;stroke:#000000;\" x=\"207.05\" xlink:href=\"#m1eb212be20\" y=\"214.662144\"/>\r\n     <use style=\"fill-opacity:0;stroke:#000000;\" x=\"207.05\" xlink:href=\"#m1eb212be20\" y=\"214.567924\"/>\r\n     <use style=\"fill-opacity:0;stroke:#000000;\" x=\"207.05\" xlink:href=\"#m1eb212be20\" y=\"214.662144\"/>\r\n     <use style=\"fill-opacity:0;stroke:#000000;\" x=\"207.05\" xlink:href=\"#m1eb212be20\" y=\"214.285266\"/>\r\n     <use style=\"fill-opacity:0;stroke:#000000;\" x=\"207.05\" xlink:href=\"#m1eb212be20\" y=\"214.662144\"/>\r\n     <use style=\"fill-opacity:0;stroke:#000000;\" x=\"207.05\" xlink:href=\"#m1eb212be20\" y=\"214.473705\"/>\r\n     <use style=\"fill-opacity:0;stroke:#000000;\" x=\"207.05\" xlink:href=\"#m1eb212be20\" y=\"214.473705\"/>\r\n     <use style=\"fill-opacity:0;stroke:#000000;\" x=\"207.05\" xlink:href=\"#m1eb212be20\" y=\"214.662144\"/>\r\n     <use style=\"fill-opacity:0;stroke:#000000;\" x=\"207.05\" xlink:href=\"#m1eb212be20\" y=\"214.662144\"/>\r\n     <use style=\"fill-opacity:0;stroke:#000000;\" x=\"207.05\" xlink:href=\"#m1eb212be20\" y=\"180.177769\"/>\r\n     <use style=\"fill-opacity:0;stroke:#000000;\" x=\"207.05\" xlink:href=\"#m1eb212be20\" y=\"17.083636\"/>\r\n     <use style=\"fill-opacity:0;stroke:#000000;\" x=\"207.05\" xlink:href=\"#m1eb212be20\" y=\"214.473705\"/>\r\n     <use style=\"fill-opacity:0;stroke:#000000;\" x=\"207.05\" xlink:href=\"#m1eb212be20\" y=\"214.473705\"/>\r\n     <use style=\"fill-opacity:0;stroke:#000000;\" x=\"207.05\" xlink:href=\"#m1eb212be20\" y=\"214.662144\"/>\r\n     <use style=\"fill-opacity:0;stroke:#000000;\" x=\"207.05\" xlink:href=\"#m1eb212be20\" y=\"214.662144\"/>\r\n     <use style=\"fill-opacity:0;stroke:#000000;\" x=\"207.05\" xlink:href=\"#m1eb212be20\" y=\"214.096826\"/>\r\n     <use style=\"fill-opacity:0;stroke:#000000;\" x=\"207.05\" xlink:href=\"#m1eb212be20\" y=\"214.567924\"/>\r\n     <use style=\"fill-opacity:0;stroke:#000000;\" x=\"207.05\" xlink:href=\"#m1eb212be20\" y=\"213.719948\"/>\r\n    </g>\r\n   </g>\r\n   <g id=\"line2d_39\">\r\n    <path clip-path=\"url(#p1623a25c1b)\" d=\"M 257.27 214.756364 \r\nL 290.75 214.756364 \r\nL 290.75 214.756364 \r\nL 257.27 214.756364 \r\nL 257.27 214.756364 \r\n\" style=\"fill:none;stroke:#1f77b4;stroke-linecap:square;\"/>\r\n   </g>\r\n   <g id=\"line2d_40\">\r\n    <path clip-path=\"url(#p1623a25c1b)\" d=\"M 274.01 214.756364 \r\nL 274.01 214.756364 \r\n\" style=\"fill:none;stroke:#1f77b4;stroke-linecap:square;\"/>\r\n   </g>\r\n   <g id=\"line2d_41\">\r\n    <path clip-path=\"url(#p1623a25c1b)\" d=\"M 274.01 214.756364 \r\nL 274.01 214.756364 \r\n\" style=\"fill:none;stroke:#1f77b4;stroke-linecap:square;\"/>\r\n   </g>\r\n   <g id=\"line2d_42\">\r\n    <path clip-path=\"url(#p1623a25c1b)\" d=\"M 265.64 214.756364 \r\nL 282.38 214.756364 \r\n\" style=\"fill:none;stroke:#000000;stroke-linecap:square;\"/>\r\n   </g>\r\n   <g id=\"line2d_43\">\r\n    <path clip-path=\"url(#p1623a25c1b)\" d=\"M 265.64 214.756364 \r\nL 282.38 214.756364 \r\n\" style=\"fill:none;stroke:#000000;stroke-linecap:square;\"/>\r\n   </g>\r\n   <g id=\"line2d_44\">\r\n    <g clip-path=\"url(#p1623a25c1b)\">\r\n     <use style=\"fill-opacity:0;stroke:#000000;\" x=\"274.01\" xlink:href=\"#m1eb212be20\" y=\"214.096826\"/>\r\n     <use style=\"fill-opacity:0;stroke:#000000;\" x=\"274.01\" xlink:href=\"#m1eb212be20\" y=\"213.24885\"/>\r\n     <use style=\"fill-opacity:0;stroke:#000000;\" x=\"274.01\" xlink:href=\"#m1eb212be20\" y=\"214.567924\"/>\r\n     <use style=\"fill-opacity:0;stroke:#000000;\" x=\"274.01\" xlink:href=\"#m1eb212be20\" y=\"214.662144\"/>\r\n     <use style=\"fill-opacity:0;stroke:#000000;\" x=\"274.01\" xlink:href=\"#m1eb212be20\" y=\"214.285266\"/>\r\n     <use style=\"fill-opacity:0;stroke:#000000;\" x=\"274.01\" xlink:href=\"#m1eb212be20\" y=\"214.002607\"/>\r\n     <use style=\"fill-opacity:0;stroke:#000000;\" x=\"274.01\" xlink:href=\"#m1eb212be20\" y=\"213.34307\"/>\r\n     <use style=\"fill-opacity:0;stroke:#000000;\" x=\"274.01\" xlink:href=\"#m1eb212be20\" y=\"214.473705\"/>\r\n     <use style=\"fill-opacity:0;stroke:#000000;\" x=\"274.01\" xlink:href=\"#m1eb212be20\" y=\"214.662144\"/>\r\n     <use style=\"fill-opacity:0;stroke:#000000;\" x=\"274.01\" xlink:href=\"#m1eb212be20\" y=\"214.662144\"/>\r\n     <use style=\"fill-opacity:0;stroke:#000000;\" x=\"274.01\" xlink:href=\"#m1eb212be20\" y=\"214.379485\"/>\r\n     <use style=\"fill-opacity:0;stroke:#000000;\" x=\"274.01\" xlink:href=\"#m1eb212be20\" y=\"214.662144\"/>\r\n     <use style=\"fill-opacity:0;stroke:#000000;\" x=\"274.01\" xlink:href=\"#m1eb212be20\" y=\"214.662144\"/>\r\n     <use style=\"fill-opacity:0;stroke:#000000;\" x=\"274.01\" xlink:href=\"#m1eb212be20\" y=\"214.473705\"/>\r\n     <use style=\"fill-opacity:0;stroke:#000000;\" x=\"274.01\" xlink:href=\"#m1eb212be20\" y=\"214.662144\"/>\r\n     <use style=\"fill-opacity:0;stroke:#000000;\" x=\"274.01\" xlink:href=\"#m1eb212be20\" y=\"213.34307\"/>\r\n     <use style=\"fill-opacity:0;stroke:#000000;\" x=\"274.01\" xlink:href=\"#m1eb212be20\" y=\"214.567924\"/>\r\n     <use style=\"fill-opacity:0;stroke:#000000;\" x=\"274.01\" xlink:href=\"#m1eb212be20\" y=\"214.662144\"/>\r\n     <use style=\"fill-opacity:0;stroke:#000000;\" x=\"274.01\" xlink:href=\"#m1eb212be20\" y=\"214.379485\"/>\r\n     <use style=\"fill-opacity:0;stroke:#000000;\" x=\"274.01\" xlink:href=\"#m1eb212be20\" y=\"213.531509\"/>\r\n     <use style=\"fill-opacity:0;stroke:#000000;\" x=\"274.01\" xlink:href=\"#m1eb212be20\" y=\"214.662144\"/>\r\n     <use style=\"fill-opacity:0;stroke:#000000;\" x=\"274.01\" xlink:href=\"#m1eb212be20\" y=\"210.79914\"/>\r\n     <use style=\"fill-opacity:0;stroke:#000000;\" x=\"274.01\" xlink:href=\"#m1eb212be20\" y=\"214.662144\"/>\r\n     <use style=\"fill-opacity:0;stroke:#000000;\" x=\"274.01\" xlink:href=\"#m1eb212be20\" y=\"214.002607\"/>\r\n     <use style=\"fill-opacity:0;stroke:#000000;\" x=\"274.01\" xlink:href=\"#m1eb212be20\" y=\"214.285266\"/>\r\n     <use style=\"fill-opacity:0;stroke:#000000;\" x=\"274.01\" xlink:href=\"#m1eb212be20\" y=\"214.473705\"/>\r\n     <use style=\"fill-opacity:0;stroke:#000000;\" x=\"274.01\" xlink:href=\"#m1eb212be20\" y=\"214.662144\"/>\r\n     <use style=\"fill-opacity:0;stroke:#000000;\" x=\"274.01\" xlink:href=\"#m1eb212be20\" y=\"212.495093\"/>\r\n     <use style=\"fill-opacity:0;stroke:#000000;\" x=\"274.01\" xlink:href=\"#m1eb212be20\" y=\"175.27835\"/>\r\n     <use style=\"fill-opacity:0;stroke:#000000;\" x=\"274.01\" xlink:href=\"#m1eb212be20\" y=\"213.437289\"/>\r\n     <use style=\"fill-opacity:0;stroke:#000000;\" x=\"274.01\" xlink:href=\"#m1eb212be20\" y=\"213.531509\"/>\r\n     <use style=\"fill-opacity:0;stroke:#000000;\" x=\"274.01\" xlink:href=\"#m1eb212be20\" y=\"214.662144\"/>\r\n     <use style=\"fill-opacity:0;stroke:#000000;\" x=\"274.01\" xlink:href=\"#m1eb212be20\" y=\"214.662144\"/>\r\n     <use style=\"fill-opacity:0;stroke:#000000;\" x=\"274.01\" xlink:href=\"#m1eb212be20\" y=\"214.191046\"/>\r\n     <use style=\"fill-opacity:0;stroke:#000000;\" x=\"274.01\" xlink:href=\"#m1eb212be20\" y=\"214.567924\"/>\r\n     <use style=\"fill-opacity:0;stroke:#000000;\" x=\"274.01\" xlink:href=\"#m1eb212be20\" y=\"214.662144\"/>\r\n     <use style=\"fill-opacity:0;stroke:#000000;\" x=\"274.01\" xlink:href=\"#m1eb212be20\" y=\"214.567924\"/>\r\n     <use style=\"fill-opacity:0;stroke:#000000;\" x=\"274.01\" xlink:href=\"#m1eb212be20\" y=\"214.379485\"/>\r\n     <use style=\"fill-opacity:0;stroke:#000000;\" x=\"274.01\" xlink:href=\"#m1eb212be20\" y=\"214.567924\"/>\r\n     <use style=\"fill-opacity:0;stroke:#000000;\" x=\"274.01\" xlink:href=\"#m1eb212be20\" y=\"214.567924\"/>\r\n     <use style=\"fill-opacity:0;stroke:#000000;\" x=\"274.01\" xlink:href=\"#m1eb212be20\" y=\"214.567924\"/>\r\n     <use style=\"fill-opacity:0;stroke:#000000;\" x=\"274.01\" xlink:href=\"#m1eb212be20\" y=\"214.379485\"/>\r\n     <use style=\"fill-opacity:0;stroke:#000000;\" x=\"274.01\" xlink:href=\"#m1eb212be20\" y=\"213.15463\"/>\r\n     <use style=\"fill-opacity:0;stroke:#000000;\" x=\"274.01\" xlink:href=\"#m1eb212be20\" y=\"214.662144\"/>\r\n     <use style=\"fill-opacity:0;stroke:#000000;\" x=\"274.01\" xlink:href=\"#m1eb212be20\" y=\"214.191046\"/>\r\n     <use style=\"fill-opacity:0;stroke:#000000;\" x=\"274.01\" xlink:href=\"#m1eb212be20\" y=\"213.060411\"/>\r\n    </g>\r\n   </g>\r\n   <g id=\"line2d_45\">\r\n    <path clip-path=\"url(#p1623a25c1b)\" d=\"M 324.23 214.756364 \r\nL 357.71 214.756364 \r\nL 357.71 214.756364 \r\nL 324.23 214.756364 \r\nL 324.23 214.756364 \r\n\" style=\"fill:none;stroke:#1f77b4;stroke-linecap:square;\"/>\r\n   </g>\r\n   <g id=\"line2d_46\">\r\n    <path clip-path=\"url(#p1623a25c1b)\" d=\"M 340.97 214.756364 \r\nL 340.97 214.756364 \r\n\" style=\"fill:none;stroke:#1f77b4;stroke-linecap:square;\"/>\r\n   </g>\r\n   <g id=\"line2d_47\">\r\n    <path clip-path=\"url(#p1623a25c1b)\" d=\"M 340.97 214.756364 \r\nL 340.97 214.756364 \r\n\" style=\"fill:none;stroke:#1f77b4;stroke-linecap:square;\"/>\r\n   </g>\r\n   <g id=\"line2d_48\">\r\n    <path clip-path=\"url(#p1623a25c1b)\" d=\"M 332.6 214.756364 \r\nL 349.34 214.756364 \r\n\" style=\"fill:none;stroke:#000000;stroke-linecap:square;\"/>\r\n   </g>\r\n   <g id=\"line2d_49\">\r\n    <path clip-path=\"url(#p1623a25c1b)\" d=\"M 332.6 214.756364 \r\nL 349.34 214.756364 \r\n\" style=\"fill:none;stroke:#000000;stroke-linecap:square;\"/>\r\n   </g>\r\n   <g id=\"line2d_50\">\r\n    <g clip-path=\"url(#p1623a25c1b)\">\r\n     <use style=\"fill-opacity:0;stroke:#000000;\" x=\"340.97\" xlink:href=\"#m1eb212be20\" y=\"214.662144\"/>\r\n     <use style=\"fill-opacity:0;stroke:#000000;\" x=\"340.97\" xlink:href=\"#m1eb212be20\" y=\"214.567924\"/>\r\n     <use style=\"fill-opacity:0;stroke:#000000;\" x=\"340.97\" xlink:href=\"#m1eb212be20\" y=\"214.285266\"/>\r\n     <use style=\"fill-opacity:0;stroke:#000000;\" x=\"340.97\" xlink:href=\"#m1eb212be20\" y=\"214.662144\"/>\r\n     <use style=\"fill-opacity:0;stroke:#000000;\" x=\"340.97\" xlink:href=\"#m1eb212be20\" y=\"213.437289\"/>\r\n     <use style=\"fill-opacity:0;stroke:#000000;\" x=\"340.97\" xlink:href=\"#m1eb212be20\" y=\"214.567924\"/>\r\n     <use style=\"fill-opacity:0;stroke:#000000;\" x=\"340.97\" xlink:href=\"#m1eb212be20\" y=\"214.662144\"/>\r\n     <use style=\"fill-opacity:0;stroke:#000000;\" x=\"340.97\" xlink:href=\"#m1eb212be20\" y=\"214.567924\"/>\r\n     <use style=\"fill-opacity:0;stroke:#000000;\" x=\"340.97\" xlink:href=\"#m1eb212be20\" y=\"214.567924\"/>\r\n     <use style=\"fill-opacity:0;stroke:#000000;\" x=\"340.97\" xlink:href=\"#m1eb212be20\" y=\"214.662144\"/>\r\n     <use style=\"fill-opacity:0;stroke:#000000;\" x=\"340.97\" xlink:href=\"#m1eb212be20\" y=\"214.473705\"/>\r\n     <use style=\"fill-opacity:0;stroke:#000000;\" x=\"340.97\" xlink:href=\"#m1eb212be20\" y=\"214.662144\"/>\r\n     <use style=\"fill-opacity:0;stroke:#000000;\" x=\"340.97\" xlink:href=\"#m1eb212be20\" y=\"214.473705\"/>\r\n     <use style=\"fill-opacity:0;stroke:#000000;\" x=\"340.97\" xlink:href=\"#m1eb212be20\" y=\"199.775447\"/>\r\n     <use style=\"fill-opacity:0;stroke:#000000;\" x=\"340.97\" xlink:href=\"#m1eb212be20\" y=\"214.662144\"/>\r\n     <use style=\"fill-opacity:0;stroke:#000000;\" x=\"340.97\" xlink:href=\"#m1eb212be20\" y=\"150.687034\"/>\r\n     <use style=\"fill-opacity:0;stroke:#000000;\" x=\"340.97\" xlink:href=\"#m1eb212be20\" y=\"213.34307\"/>\r\n     <use style=\"fill-opacity:0;stroke:#000000;\" x=\"340.97\" xlink:href=\"#m1eb212be20\" y=\"214.662144\"/>\r\n     <use style=\"fill-opacity:0;stroke:#000000;\" x=\"340.97\" xlink:href=\"#m1eb212be20\" y=\"214.285266\"/>\r\n     <use style=\"fill-opacity:0;stroke:#000000;\" x=\"340.97\" xlink:href=\"#m1eb212be20\" y=\"213.15463\"/>\r\n    </g>\r\n   </g>\r\n   <g id=\"line2d_51\">\r\n    <path clip-path=\"url(#p1623a25c1b)\" d=\"M 56.39 214.756364 \r\nL 89.87 214.756364 \r\n\" style=\"fill:none;stroke:#2ca02c;stroke-linecap:square;\"/>\r\n   </g>\r\n   <g id=\"line2d_52\">\r\n    <path clip-path=\"url(#p1623a25c1b)\" d=\"M 123.35 214.756364 \r\nL 156.83 214.756364 \r\n\" style=\"fill:none;stroke:#2ca02c;stroke-linecap:square;\"/>\r\n   </g>\r\n   <g id=\"line2d_53\">\r\n    <path clip-path=\"url(#p1623a25c1b)\" d=\"M 190.31 214.756364 \r\nL 223.79 214.756364 \r\n\" style=\"fill:none;stroke:#2ca02c;stroke-linecap:square;\"/>\r\n   </g>\r\n   <g id=\"line2d_54\">\r\n    <path clip-path=\"url(#p1623a25c1b)\" d=\"M 257.27 214.756364 \r\nL 290.75 214.756364 \r\n\" style=\"fill:none;stroke:#2ca02c;stroke-linecap:square;\"/>\r\n   </g>\r\n   <g id=\"line2d_55\">\r\n    <path clip-path=\"url(#p1623a25c1b)\" d=\"M 324.23 214.756364 \r\nL 357.71 214.756364 \r\n\" style=\"fill:none;stroke:#2ca02c;stroke-linecap:square;\"/>\r\n   </g>\r\n   <g id=\"patch_3\">\r\n    <path d=\"M 39.65 224.64 \r\nL 39.65 7.2 \r\n\" style=\"fill:none;stroke:#000000;stroke-linecap:square;stroke-linejoin:miter;stroke-width:0.8;\"/>\r\n   </g>\r\n   <g id=\"patch_4\">\r\n    <path d=\"M 374.45 224.64 \r\nL 374.45 7.2 \r\n\" style=\"fill:none;stroke:#000000;stroke-linecap:square;stroke-linejoin:miter;stroke-width:0.8;\"/>\r\n   </g>\r\n   <g id=\"patch_5\">\r\n    <path d=\"M 39.65 224.64 \r\nL 374.45 224.64 \r\n\" style=\"fill:none;stroke:#000000;stroke-linecap:square;stroke-linejoin:miter;stroke-width:0.8;\"/>\r\n   </g>\r\n   <g id=\"patch_6\">\r\n    <path d=\"M 39.65 7.2 \r\nL 374.45 7.2 \r\n\" style=\"fill:none;stroke:#000000;stroke-linecap:square;stroke-linejoin:miter;stroke-width:0.8;\"/>\r\n   </g>\r\n  </g>\r\n </g>\r\n <defs>\r\n  <clipPath id=\"p1623a25c1b\">\r\n   <rect height=\"217.44\" width=\"334.8\" x=\"39.65\" y=\"7.2\"/>\r\n  </clipPath>\r\n </defs>\r\n</svg>\r\n",
      "image/png": "[encoded data removed]"
     },
     "metadata": {
      "needs_background": "light"
     }
    }
   ],
   "source": [
    "verses_features[sexual_categories+[\"bible_book\"]].groupby([\"bible_book\"]).sum().T[[\"GEN\", \"SON\", \"MAT\", \"1CO\", \"REV\"]].boxplot()"
   ]
  },
  {
   "cell_type": "code",
   "execution_count": 27,
   "metadata": {},
   "outputs": [
    {
     "output_type": "execute_result",
     "data": {
      "text/plain": [
       "body-function               0\n",
       "ejaculation                 0\n",
       "sexual-act-type             0\n",
       "coitus-interruptus          0\n",
       "anal-sex                    0\n",
       "                        ...  \n",
       "love                      113\n",
       "positive-aspect           180\n",
       "ascendant-descendant      253\n",
       "places                  18219\n",
       "groups                  45913\n",
       "Length: 252, dtype: int64"
      ]
     },
     "metadata": {},
     "execution_count": 27
    }
   ],
   "source": [
    "verses_features[sexual_categories].sum().sort_values()"
   ]
  },
  {
   "cell_type": "code",
   "execution_count": null,
   "metadata": {},
   "outputs": [],
   "source": []
  }
 ]
}