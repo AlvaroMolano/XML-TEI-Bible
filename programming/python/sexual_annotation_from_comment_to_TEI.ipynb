{
 "metadata": {
  "language_info": {
   "codemirror_mode": {
    "name": "ipython",
    "version": 3
   },
   "file_extension": ".py",
   "mimetype": "text/x-python",
   "name": "python",
   "nbconvert_exporter": "python",
   "pygments_lexer": "ipython3",
   "version": "3.7.6-final"
  },
  "orig_nbformat": 2,
  "kernelspec": {
   "name": "Python 3.7.6 64-bit ('base': conda)",
   "display_name": "Python 3.7.6 64-bit ('base': conda)",
   "metadata": {
    "interpreter": {
     "hash": "960f4d658457e0296618a96ff118bd2cbd6b6fed4373572a098ed4ec5a9be4c3"
    }
   }
  }
 },
 "nbformat": 4,
 "nbformat_minor": 2,
 "cells": [
  {
   "cell_type": "code",
   "execution_count": 1,
   "metadata": {},
   "outputs": [],
   "source": [
    "import parse_sexual_anotation"
   ]
  },
  {
   "cell_type": "code",
   "execution_count": 2,
   "metadata": {},
   "outputs": [],
   "source": [
    "book_name = \"RUT\""
   ]
  },
  {
   "cell_type": "code",
   "execution_count": 3,
   "metadata": {},
   "outputs": [],
   "source": [
    "wdir_str = \"../../sexual-annotation/\"\n",
    "file_str = book_name + \".xml\"\n",
    "\n",
    "book_name_str = file_str[0:3]\n"
   ]
  },
  {
   "cell_type": "code",
   "execution_count": 4,
   "metadata": {
    "tags": []
   },
   "outputs": [
    {
     "output_type": "stream",
     "name": "stdout",
     "text": [
      "['../../sexual-annotation/RUT.xml']\nRUT\n<class 'str'>\n"
     ]
    },
    {
     "output_type": "execute_result",
     "data": {
      "text/plain": [
       "'<?xml version=\"1.0\" encoding=\"UTF-8\"?>\\n\\n<?xml-model href=\"http://www.tei-c.org/release/xml/tei/custom/schema/relaxng/tei_all.rng\" type=\"application/xml\"\\n\\tschematypens=\"http://purl.oclc.org/dsdl/schematron\"?>\\n<?xml-model href=\"https://raw.githubusercontent.com/morethanbooks/XML-TEI-Bible/master/scheme/tei_lite.rng\" type=\"application/xml\" schematypens=\"http://relaxng.org/ns/structure/1.0\"?>\\n\\n\\n<TEI xmlns=\"http://www.tei-c.org/ns/1.0\">\\n\\t<teiHeader>\\n\\t\\t<fileDesc>\\n\\t\\t\\t<titleStmt>\\n\\t\\t\\t\\t<title>Rut</title>\\n\\t\\t\\t\\t<title type=\"idno\">\\n\\t\\t\\t\\t\\t<idno type=\"string\">RUT</idno>\\n\\t\\t\\t\\t\\t<idno type=\"viaf\">179825447</idno>\\n\\t\\t\\t\\t</title>\\n\\t\\t\\t\\t<author>\\n\\t\\t\\t\\t\\t<name type=\"short\"></name>\\n\\t\\t\\t\\t\\t<name type=\"full\"></name>\\n\\t\\t\\t\\t\\t<idno type=\"viaf\"></idno>\\n\\t\\t\\t\\t</author>\\n\\t\\t\\t\\t<principal key=\"#jct\">José Calvo Tello</principal>\\n\\t\\t\\t</titleStmt>\\n\\t\\t\\t<publicationStmt>\\n\\t\\t\\t\\t<publisher>José Calvo Tello</publisher>\\n\\t\\t\\t\\t<availability status=\"free\">\\n\\t\\t\\t\\t\\t<p>The text is freely available.</p>\\n\\t\\t\\t\\t</availability>\\n\\t\\t\\t\\t<date when=\"2016\">2016</date>\\n\\t'"
      ]
     },
     "metadata": {},
     "execution_count": 4
    }
   ],
   "source": [
    "book_str = parse_sexual_anotation.open_book(wdir_str, file_str)\n",
    "book_str[0:1000]\n"
   ]
  },
  {
   "cell_type": "code",
   "execution_count": 5,
   "metadata": {},
   "outputs": [],
   "source": [
    "taxonomy_file_str = \"taxonomy.xml\"\n"
   ]
  },
  {
   "cell_type": "code",
   "execution_count": 6,
   "metadata": {
    "tags": []
   },
   "outputs": [
    {
     "output_type": "stream",
     "name": "stdout",
     "text": [
      "<class 'lxml.etree._Element'>\n"
     ]
    }
   ],
   "source": [
    "taxonomy_el = parse_sexual_anotation.open_taxonomy(wdir_str, taxonomy_file_str)\n",
    "\n"
   ]
  },
  {
   "cell_type": "code",
   "execution_count": 7,
   "metadata": {},
   "outputs": [],
   "source": [
    "namespaces_dict = {'tei':'http://www.tei-c.org/ns/1.0','xi':'http://www.w3.org/2001/XInclude'}\n"
   ]
  },
  {
   "cell_type": "code",
   "execution_count": 8,
   "metadata": {
    "tags": []
   },
   "outputs": [
    {
     "output_type": "stream",
     "name": "stdout",
     "text": [
      "['relations', 'monogamy', 'poligamy', 'marriage', 'second-marriage', 'second-marriage-divorce', 'second-marriage-widow', 'interfaith-marriage', 'interfaith-relation', 'non-marital-relation', 'marital-relation-political-family', 'lord-servant-relation', 'marital-relation-direct-family', 'arranged-marriage', 'divorce', 'engaged', 'love', 'jealousy', 'ascendant-descendant', 'indirect-ascendant-descendant', 'acts', 'social-related-act', 'wedding', 'body-related-act', 'massage', 'kiss', 'hug', 'dance', 'abortion', 'circumcision', 'breast-feeding', 'sexual-act', 'sexual-act-stage', 'seduction', 'erotic-time', 'initation-sexual-act', 'orgasm', 'ejaculation', 'time-after-sex', 'sexual-act-type', 'coitus', 'first-sexual-act', 'coitus-interruptus', 'self-masturbation', 'masturbation', 'oral-sex', 'anal-sex', 'non-penetrative-sex', 'female-rape', 'male-rape', 'sexual-assault', 'female-sexual-assault', 'male-sexual-assault', 'sexual-deception', 'sexual-drive', 'sexual-desire', 'sex-for-goods', 'other-sexual-act', 'sexual-act-situation', 'sex-in-marriage', 'sex-before-marriage', 'sex-outside-marriage', 'sex-outside', 'sexual-act-participants', 'heterosexual-sex', 'homosexual-sex', 'gay-sex', 'lesbian-sex', 'prostitution-sex', 'religous-sex', 'parents-children-sex', 'sibling-sex', 'greater-family-sex', 'angel-human-sex', 'animal-human-sex', 'animal-sex', 'groupal-sex', 'lord-servant-sex', 'states', 'virginity', 'celibacy', 'infertility', 'nudity', 'semi-nudity', 'pregnancy', 'beauty', 'dishonor', 'body', 'body-by-gender', 'female-body', 'male-body', 'body-part', 'genitalia', 'female-genitalia', 'male-genitalia', 'prepuce', 'gluteus-anus', 'female-breast', 'male-chest', 'ovaries', 'semen', 'head', 'eye', 'nose', 'cheek', 'mouth', 'lips', 'tongue', 'tooth', 'hair', 'thigh', 'neck', 'hand', 'skin', 'foot', 'waist', 'heart', 'navel', 'belly', 'leg', 'arm', 'rib', 'lubrication', 'face', 'body-function', 'birth', 'fertilization', 'misscarriage', 'erection', 'menstruation', 'sleep', 'diseases', 'menstrual-disorder', 'senses', 'smell', 'things', 'clothes', 'belt', 'veil', 'perfume', 'juwels', 'earrings', 'piercing', 'collar', 'bracelet', 'food-and-related', 'drink', 'water', 'milk', 'wine', 'alcohol', 'glass', 'spices', 'wheat', 'honey', 'fruits', 'pomegranate', 'grapes', 'raisin', 'apples', 'figs', 'carriage', 'weapons', 'sword', 'shield', 'money', 'metal', 'silver', 'gold', 'fountain', 'well', 'pitcher', 'environment', 'moon', 'sun', 'rain', 'wind', 'places', 'interior-spaces', 'bedroom', 'bed', 'door', 'wall', 'house', 'tower', 'exterior-spaces', 'garden', 'vineyard', 'spring', 'desert', 'river', 'field', 'lake', 'groups', 'based-on-gender', 'women', 'men', 'third-sexual-group', 'eunuchs', 'based-on-orientation', 'heterosexuals', 'homosexuals', 'male-homosexuals', 'female-homosexuals', 'by-state', 'single', 'married', 'widow-widower', 'widow', 'widower', 'virgin', 'by-profession', 'prostitutes', 'female-prostitutes', 'male-prostitutes', 'sexual-priests', 'concubine', 'by-corporal-traits', 'circumcised', 'uncircumcised', 'valorations', 'blessed-aspect', 'positive-aspect', 'neutral-aspect', 'negative-aspect', 'condemned-aspect', 'animals', 'gazelle', 'deer', 'dove', 'fox', 'goat', 'sheep', 'leopard', 'lion', 'crow', 'turtledove', 'horse', 'donkey', 'cow', 'camel', 'plants', 'flowers', 'trees', 'palms', 'time', 'part-of-the-day', 'night', 'sunrise', 'seasons', 'winter']\n"
     ]
    }
   ],
   "source": [
    "categories_id_lt = parse_sexual_anotation.get_list_categories(taxonomy_el, namespaces = namespaces_dict)\n",
    "\n",
    "print(categories_id_lt)\n"
   ]
  },
  {
   "cell_type": "code",
   "execution_count": 9,
   "metadata": {
    "tags": []
   },
   "outputs": [
    {
     "output_type": "stream",
     "name": "stdout",
     "text": [
      "[('b.RUT.001.001', 'monogamy; marriage; descendant;positive'), ('b.RUT.001.002', 'monogamy; marriage; descendant;positive'), ('b.RUT.001.003', 'widow'), ('b.RUT.001.004', 'marriage; interfaith-marraige;neutral'), ('b.RUT.001.005', 'widow'), ('b.RUT.001.009', 'kiss'), ('b.RUT.001.011', 'pregnancy; descendant'), ('b.RUT.001.012', 'marriage; pregnancy; descendant'), ('b.RUT.001.013', 'marriage; condemned'), ('b.RUT.001.014', 'kiss'), ('b.RUT.002.002', 'sexual-desire cert=\"medium\"; field; wheet'), ('b.RUT.003.003', 'seduction; perfume; clothes; field; positive'), ('b.RUT.003.004', 'sleep; feet; erotic-time cert=\"medium\"; positive'), ('b.RUT.003.007', 'alcohol; sleep; feet; erotic-time cert=\"medium\"; neutral'), ('b.RUT.003.008', 'sleep; erotic-time cert=\"medium\"; neutral'), ('b.RUT.003.009', 'erotic-time cert=\"medium\"; greater-family-relation; neutral'), ('b.RUT.003.010', 'erotic-time cert=\"medium\"; greater-family-relation; positive'), ('b.RUT.003.011', 'erotic-time cert=\"medium\"; greater-family-relation; beauty cert=\"medium\"; positive'), ('b.RUT.003.012', 'greater-family-relation; neutral'), ('b.RUT.003.014', 'erotic-time; greater-family-relation; neutral'), ('b.RUT.004.010', 'wedding cert=\"medium\"; positive'), ('b.RUT.004.011', 'wedding cert=\"medium\"; positive'), ('b.RUT.004.012', 'descendant; positive'), ('b.RUT.004.013', 'wedding; first-sexual-act; coitus cert=\"medium\"; conception; birth; descendant; positive'), ('b.RUT.004.015', 'descendant; positive'), ('b.RUT.004.017', 'birth; descendant; positive'), ('b.RUT.004.018', 'descendant'), ('b.RUT.004.019', 'descendant'), ('b.RUT.004.020', 'descendant'), ('b.RUT.004.021', 'descendant'), ('b.RUT.004.022', 'descendant')]\n"
     ]
    }
   ],
   "source": [
    "sexual_annotations_from_comments_lt = parse_sexual_anotation.parse_sexual_annotations_from_comments(book_str)\n"
   ]
  },
  {
   "cell_type": "code",
   "execution_count": 10,
   "metadata": {
    "tags": []
   },
   "outputs": [
    {
     "output_type": "stream",
     "name": "stdout",
     "text": [
      "b.RUT.001.001\n",
      "monogamy\n",
      "<class 'str'>\n",
      "monogamy\n",
      " marriage\n",
      "<class 'str'>\n",
      "marriage\n",
      " descendant\n",
      "<class 'str'>\n",
      "descendant\n",
      "ERROR!! descendant\n",
      "positive\n",
      "<class 'str'>\n",
      "positive\n",
      "ERROR!! positive\n",
      "b.RUT.001.002\n",
      "monogamy\n",
      "<class 'str'>\n",
      "monogamy\n",
      " marriage\n",
      "<class 'str'>\n",
      "marriage\n",
      " descendant\n",
      "<class 'str'>\n",
      "descendant\n",
      "ERROR!! descendant\n",
      "positive\n",
      "<class 'str'>\n",
      "positive\n",
      "ERROR!! positive\n",
      "b.RUT.001.003\n",
      "widow\n",
      "<class 'str'>\n",
      "widow\n",
      "b.RUT.001.004\n",
      "marriage\n",
      "<class 'str'>\n",
      "marriage\n",
      " interfaith-marraige\n",
      "<class 'str'>\n",
      "interfaith-marraige\n",
      "ERROR!! interfaith-marraige\n",
      "neutral\n",
      "<class 'str'>\n",
      "neutral\n",
      "ERROR!! neutral\n",
      "b.RUT.001.005\n",
      "widow\n",
      "<class 'str'>\n",
      "widow\n",
      "b.RUT.001.009\n",
      "kiss\n",
      "<class 'str'>\n",
      "kiss\n",
      "b.RUT.001.011\n",
      "pregnancy\n",
      "<class 'str'>\n",
      "pregnancy\n",
      " descendant\n",
      "<class 'str'>\n",
      "descendant\n",
      "ERROR!! descendant\n",
      "b.RUT.001.012\n",
      "marriage\n",
      "<class 'str'>\n",
      "marriage\n",
      " pregnancy\n",
      "<class 'str'>\n",
      "pregnancy\n",
      " descendant\n",
      "<class 'str'>\n",
      "descendant\n",
      "ERROR!! descendant\n",
      "b.RUT.001.013\n",
      "marriage\n",
      "<class 'str'>\n",
      "marriage\n",
      " condemned\n",
      "<class 'str'>\n",
      "condemned\n",
      "ERROR!! condemned\n",
      "b.RUT.001.014\n",
      "kiss\n",
      "<class 'str'>\n",
      "kiss\n",
      "b.RUT.002.002\n",
      "sexual-desire cert=\"medium\"\n",
      "<class 'str'>\n",
      "sexual-desire\n",
      " field\n",
      "<class 'str'>\n",
      "field\n",
      " wheet\n",
      "<class 'str'>\n",
      "wheet\n",
      "ERROR!! wheet\n",
      "b.RUT.003.003\n",
      "seduction\n",
      "<class 'str'>\n",
      "seduction\n",
      " perfume\n",
      "<class 'str'>\n",
      "perfume\n",
      " clothes\n",
      "<class 'str'>\n",
      "clothes\n",
      " field\n",
      "<class 'str'>\n",
      "field\n",
      " positive\n",
      "<class 'str'>\n",
      "positive\n",
      "ERROR!! positive\n",
      "b.RUT.003.004\n",
      "sleep\n",
      "<class 'str'>\n",
      "sleep\n",
      " feet\n",
      "<class 'str'>\n",
      "feet\n",
      "ERROR!! feet\n",
      " erotic-time cert=\"medium\"\n",
      "<class 'str'>\n",
      "erotic-time\n",
      " positive\n",
      "<class 'str'>\n",
      "positive\n",
      "ERROR!! positive\n",
      "b.RUT.003.007\n",
      "alcohol\n",
      "<class 'str'>\n",
      "alcohol\n",
      " sleep\n",
      "<class 'str'>\n",
      "sleep\n",
      " feet\n",
      "<class 'str'>\n",
      "feet\n",
      "ERROR!! feet\n",
      " erotic-time cert=\"medium\"\n",
      "<class 'str'>\n",
      "erotic-time\n",
      " neutral\n",
      "<class 'str'>\n",
      "neutral\n",
      "ERROR!! neutral\n",
      "b.RUT.003.008\n",
      "sleep\n",
      "<class 'str'>\n",
      "sleep\n",
      " erotic-time cert=\"medium\"\n",
      "<class 'str'>\n",
      "erotic-time\n",
      " neutral\n",
      "<class 'str'>\n",
      "neutral\n",
      "ERROR!! neutral\n",
      "b.RUT.003.009\n",
      "erotic-time cert=\"medium\"\n",
      "<class 'str'>\n",
      "erotic-time\n",
      " greater-family-relation\n",
      "<class 'str'>\n",
      "greater-family-relation\n",
      "ERROR!! greater-family-relation\n",
      " neutral\n",
      "<class 'str'>\n",
      "neutral\n",
      "ERROR!! neutral\n",
      "b.RUT.003.010\n",
      "erotic-time cert=\"medium\"\n",
      "<class 'str'>\n",
      "erotic-time\n",
      " greater-family-relation\n",
      "<class 'str'>\n",
      "greater-family-relation\n",
      "ERROR!! greater-family-relation\n",
      " positive\n",
      "<class 'str'>\n",
      "positive\n",
      "ERROR!! positive\n",
      "b.RUT.003.011\n",
      "erotic-time cert=\"medium\"\n",
      "<class 'str'>\n",
      "erotic-time\n",
      " greater-family-relation\n",
      "<class 'str'>\n",
      "greater-family-relation\n",
      "ERROR!! greater-family-relation\n",
      " beauty cert=\"medium\"\n",
      "<class 'str'>\n",
      "beauty\n",
      " positive\n",
      "<class 'str'>\n",
      "positive\n",
      "ERROR!! positive\n",
      "b.RUT.003.012\n",
      "greater-family-relation\n",
      "<class 'str'>\n",
      "greater-family-relation\n",
      "ERROR!! greater-family-relation\n",
      " neutral\n",
      "<class 'str'>\n",
      "neutral\n",
      "ERROR!! neutral\n",
      "b.RUT.003.014\n",
      "erotic-time\n",
      "<class 'str'>\n",
      "erotic-time\n",
      " greater-family-relation\n",
      "<class 'str'>\n",
      "greater-family-relation\n",
      "ERROR!! greater-family-relation\n",
      " neutral\n",
      "<class 'str'>\n",
      "neutral\n",
      "ERROR!! neutral\n",
      "b.RUT.004.010\n",
      "wedding cert=\"medium\"\n",
      "<class 'str'>\n",
      "wedding\n",
      " positive\n",
      "<class 'str'>\n",
      "positive\n",
      "ERROR!! positive\n",
      "b.RUT.004.011\n",
      "wedding cert=\"medium\"\n",
      "<class 'str'>\n",
      "wedding\n",
      " positive\n",
      "<class 'str'>\n",
      "positive\n",
      "ERROR!! positive\n",
      "b.RUT.004.012\n",
      "descendant\n",
      "<class 'str'>\n",
      "descendant\n",
      "ERROR!! descendant\n",
      " positive\n",
      "<class 'str'>\n",
      "positive\n",
      "ERROR!! positive\n",
      "b.RUT.004.013\n",
      "wedding\n",
      "<class 'str'>\n",
      "wedding\n",
      " first-sexual-act\n",
      "<class 'str'>\n",
      "first-sexual-act\n",
      " coitus cert=\"medium\"\n",
      "<class 'str'>\n",
      "coitus\n",
      " conception\n",
      "<class 'str'>\n",
      "conception\n",
      "ERROR!! conception\n",
      " birth\n",
      "<class 'str'>\n",
      "birth\n",
      " descendant\n",
      "<class 'str'>\n",
      "descendant\n",
      "ERROR!! descendant\n",
      " positive\n",
      "<class 'str'>\n",
      "positive\n",
      "ERROR!! positive\n",
      "b.RUT.004.015\n",
      "descendant\n",
      "<class 'str'>\n",
      "descendant\n",
      "ERROR!! descendant\n",
      " positive\n",
      "<class 'str'>\n",
      "positive\n",
      "ERROR!! positive\n",
      "b.RUT.004.017\n",
      "birth\n",
      "<class 'str'>\n",
      "birth\n",
      " descendant\n",
      "<class 'str'>\n",
      "descendant\n",
      "ERROR!! descendant\n",
      " positive\n",
      "<class 'str'>\n",
      "positive\n",
      "ERROR!! positive\n",
      "b.RUT.004.018\n",
      "descendant\n",
      "<class 'str'>\n",
      "descendant\n",
      "ERROR!! descendant\n",
      "b.RUT.004.019\n",
      "descendant\n",
      "<class 'str'>\n",
      "descendant\n",
      "ERROR!! descendant\n",
      "b.RUT.004.020\n",
      "descendant\n",
      "<class 'str'>\n",
      "descendant\n",
      "ERROR!! descendant\n",
      "b.RUT.004.021\n",
      "descendant\n",
      "<class 'str'>\n",
      "descendant\n",
      "ERROR!! descendant\n",
      "b.RUT.004.022\n",
      "descendant\n",
      "<class 'str'>\n",
      "descendant\n",
      "ERROR!! descendant\n",
      "errors [['b.RUT.001.001', 'descendant'], ['b.RUT.001.001', 'positive'], ['b.RUT.001.002', 'descendant'], ['b.RUT.001.002', 'positive'], ['b.RUT.001.004', 'interfaith-marraige'], ['b.RUT.001.004', 'neutral'], ['b.RUT.001.011', 'descendant'], ['b.RUT.001.012', 'descendant'], ['b.RUT.001.013', 'condemned'], ['b.RUT.002.002', 'wheet'], ['b.RUT.003.003', 'positive'], ['b.RUT.003.004', 'feet'], ['b.RUT.003.004', 'positive'], ['b.RUT.003.007', 'feet'], ['b.RUT.003.007', 'neutral'], ['b.RUT.003.008', 'neutral'], ['b.RUT.003.009', 'greater-family-relation'], ['b.RUT.003.009', 'neutral'], ['b.RUT.003.010', 'greater-family-relation'], ['b.RUT.003.010', 'positive'], ['b.RUT.003.011', 'greater-family-relation'], ['b.RUT.003.011', 'positive'], ['b.RUT.003.012', 'greater-family-relation'], ['b.RUT.003.012', 'neutral'], ['b.RUT.003.014', 'greater-family-relation'], ['b.RUT.003.014', 'neutral'], ['b.RUT.004.010', 'positive'], ['b.RUT.004.011', 'positive'], ['b.RUT.004.012', 'descendant'], ['b.RUT.004.012', 'positive'], ['b.RUT.004.013', 'conception'], ['b.RUT.004.013', 'descendant'], ['b.RUT.004.013', 'positive'], ['b.RUT.004.015', 'descendant'], ['b.RUT.004.015', 'positive'], ['b.RUT.004.017', 'descendant'], ['b.RUT.004.017', 'positive'], ['b.RUT.004.018', 'descendant'], ['b.RUT.004.019', 'descendant'], ['b.RUT.004.020', 'descendant'], ['b.RUT.004.021', 'descendant'], ['b.RUT.004.022', 'descendant']]\n",
      "[('descendant', 13), ('positive', 12), ('neutral', 6), ('greater-family-relation', 5), ('feet', 2), ('interfaith-marraige', 1), ('condemned', 1), ('wheet', 1), ('conception', 1)]\n",
      "\n",
      "\n",
      "Consider substitue wheet with wheat . Levenshtein ratio:0.8\n",
      "Replacement accepted\n",
      "\n",
      "\n",
      "Consider substitue feet with desert . Levenshtein ratio:0.6\n",
      "Replacement modified with foot\n",
      "\n",
      "\n",
      "Consider substitue greater-family-relation with greater-family-sex . Levenshtein ratio:0.78\n",
      "Replacement modified with marital-relation-political-family\n",
      "\n",
      "\n",
      "Consider substitue conception with concubine . Levenshtein ratio:0.63\n",
      "Replacement modified with fertilization\n",
      "\n",
      "\n",
      "Consider substitue descendant with ascendant-descendant . Levenshtein ratio:0.67\n",
      "Replacement accepted\n",
      "\n",
      "\n",
      "Consider substitue positive with positive-aspect . Levenshtein ratio:0.7\n",
      "Replacement accepted\n",
      "\n",
      "\n",
      "Consider substitue condemned with condemned-aspect . Levenshtein ratio:0.72\n",
      "Replacement accepted\n",
      "\n",
      "\n",
      "Consider substitue neutral with metal . Levenshtein ratio:0.67\n",
      "Replacement modified with neutral-aspect\n",
      "\n",
      "\n",
      "Consider substitue interfaith-marraige with interfaith-marriage . Levenshtein ratio:0.95\n",
      "Replacement accepted\n"
     ]
    }
   ],
   "source": [
    "error_lt, standOff_str = parse_sexual_anotation.parse_each_sexual_annotation_as_comment(sexual_annotations_from_comments_lt, categories_id_lt, book_name)\n"
   ]
  },
  {
   "cell_type": "code",
   "execution_count": 11,
   "metadata": {},
   "outputs": [
    {
     "output_type": "execute_result",
     "data": {
      "text/plain": [
       "'<standOff xml:id=\"b.RUT.sexualThemes\"  scheme=\"taxonomy.xml\">\\n<spanGrp type=\"theme\" inst=\"#b.RUT.001.001\">\\n\\t<span ana=\"#monogamy\">\\n\\t\\t<certainty match=\"@ana\" locus=\"value\" cert=\"high\" given=\"text\"/>\\n\\t</span>\\n</spanGrp>\\n<spanGrp type=\"theme\" inst=\"#b.RUT.001.001\">\\n\\t<span ana=\"#marriage\">\\n\\t\\t<certainty match=\"@ana\" locus=\"value\" cert=\"high\" given=\"text\"/>\\n\\t</span>\\n</spanGrp>\\n<spanGrp type=\"theme\" inst=\"#b.RUT.001.001\">\\n\\t<span ana=\"#ascendant-descendant\">\\n\\t\\t<certainty match=\"@ana\" locus=\"value\" cert=\"high\" given=\"text\"/>\\n\\t</span>\\n</spanGrp>\\n<spanGrp type=\"theme\" inst=\"#b.RUT.001.001\">\\n\\t<span ana=\"#positive-aspect\">\\n\\t\\t<certainty match=\"@ana\" locus=\"value\" cert=\"high\" given=\"text\"/>\\n\\t</span>\\n</spanGrp>\\n<spanGrp type=\"theme\" inst=\"#b.RUT.001.002\">\\n\\t<span ana=\"#monogamy\">\\n\\t\\t<certainty match=\"@ana\" locus=\"value\" cert=\"high\" given=\"text\"/>\\n\\t</span>\\n</spanGrp>\\n<spanGrp type=\"theme\" inst=\"#b.RUT.001.002\">\\n\\t<span ana=\"#marriage\">\\n\\t\\t<certainty match=\"@ana\" locus=\"value\" cert=\"high\" given=\"text\"/>\\n\\t</span>\\n</spanGrp>\\n<spanGrp type=\"theme\" inst=\"#b.RUT.001.002\">\\n\\t<span ana=\"#ascendant-descendant\">\\n\\t\\t<certainty match=\"@ana\" locus=\"value\" cert=\"high\" given=\"text\"/>\\n\\t</span>\\n</spanGrp>\\n<spanGrp type=\"theme\" inst=\"#b.RUT.001.002\">\\n\\t<span ana=\"#positive-aspect\">\\n\\t\\t<certainty match=\"@ana\" locus=\"value\" cert=\"high\" given=\"text\"/>\\n\\t</span>\\n</spanGrp>\\n<spanGrp type=\"theme\" inst=\"#b.RUT.001.003\">\\n\\t<span ana=\"#widow\">\\n\\t\\t<certainty match=\"@ana\" locus=\"value\" cert=\"high\" given=\"text\"/>\\n\\t</span>\\n</spanGrp>\\n<spanGrp type=\"theme\" inst=\"#b.RUT.001.004\">\\n\\t<span ana=\"#marriage\">\\n\\t\\t<certainty match=\"@ana\" locus=\"value\" cert=\"high\" given=\"text\"/>\\n\\t</span>\\n</spanGrp>\\n<spanGrp type=\"theme\" inst=\"#b.RUT.001.004\">\\n\\t<span ana=\"#interfaith-marriage\">\\n\\t\\t<certainty match=\"@ana\" locus=\"value\" cert=\"high\" given=\"text\"/>\\n\\t</span>\\n</spanGrp>\\n<spanGrp type=\"theme\" inst=\"#b.RUT.001.004\">\\n\\t<span ana=\"#neutral-aspect\">\\n\\t\\t<certainty match=\"@ana\" locus=\"value\" cert=\"high\" given=\"text\"/>\\n\\t</span>\\n</spanGrp>\\n<spanGrp type=\"theme\" inst=\"#b.RUT.001.005\">\\n\\t<span ana=\"#widow\">\\n\\t\\t<certainty match=\"@ana\" locus=\"value\" cert=\"high\" given=\"text\"/>\\n\\t</span>\\n</spanGrp>\\n<spanGrp type=\"theme\" inst=\"#b.RUT.001.009\">\\n\\t<span ana=\"#kiss\">\\n\\t\\t<certainty match=\"@ana\" locus=\"value\" cert=\"high\" given=\"text\"/>\\n\\t</span>\\n</spanGrp>\\n<spanGrp type=\"theme\" inst=\"#b.RUT.001.011\">\\n\\t<span ana=\"#pregnancy\">\\n\\t\\t<certainty match=\"@ana\" locus=\"value\" cert=\"high\" given=\"text\"/>\\n\\t</span>\\n</spanGrp>\\n<spanGrp type=\"theme\" inst=\"#b.RUT.001.011\">\\n\\t<span ana=\"#ascendant-descendant\">\\n\\t\\t<certainty match=\"@ana\" locus=\"value\" cert=\"high\" given=\"text\"/>\\n\\t</span>\\n</spanGrp>\\n<spanGrp type=\"theme\" inst=\"#b.RUT.001.012\">\\n\\t<span ana=\"#marriage\">\\n\\t\\t<certainty match=\"@ana\" locus=\"value\" cert=\"high\" given=\"text\"/>\\n\\t</span>\\n</spanGrp>\\n<spanGrp type=\"theme\" inst=\"#b.RUT.001.012\">\\n\\t<span ana=\"#pregnancy\">\\n\\t\\t<certainty match=\"@ana\" locus=\"value\" cert=\"high\" given=\"text\"/>\\n\\t</span>\\n</spanGrp>\\n<spanGrp type=\"theme\" inst=\"#b.RUT.001.012\">\\n\\t<span ana=\"#ascendant-descendant\">\\n\\t\\t<certainty match=\"@ana\" locus=\"value\" cert=\"high\" given=\"text\"/>\\n\\t</span>\\n</spanGrp>\\n<spanGrp type=\"theme\" inst=\"#b.RUT.001.013\">\\n\\t<span ana=\"#marriage\">\\n\\t\\t<certainty match=\"@ana\" locus=\"value\" cert=\"high\" given=\"text\"/>\\n\\t</span>\\n</spanGrp>\\n<spanGrp type=\"theme\" inst=\"#b.RUT.001.013\">\\n\\t<span ana=\"#condemned-aspect\">\\n\\t\\t<certainty match=\"@ana\" locus=\"value\" cert=\"high\" given=\"text\"/>\\n\\t</span>\\n</spanGrp>\\n<spanGrp type=\"theme\" inst=\"#b.RUT.001.014\">\\n\\t<span ana=\"#kiss\">\\n\\t\\t<certainty match=\"@ana\" locus=\"value\" cert=\"high\" given=\"text\"/>\\n\\t</span>\\n</spanGrp>\\n<spanGrp type=\"theme\" inst=\"#b.RUT.002.002\">\\n\\t<span ana=\"#sexual-desire\">\\n\\t\\t<certainty match=\"@ana\" locus=\"value\" cert=\"medium\" given=\"text\"/>\\n\\t</span>\\n</spanGrp>\\n<spanGrp type=\"theme\" inst=\"#b.RUT.002.002\">\\n\\t<span ana=\"#field\">\\n\\t\\t<certainty match=\"@ana\" locus=\"value\" cert=\"high\" given=\"text\"/>\\n\\t</span>\\n</spanGrp>\\n<spanGrp type=\"theme\" inst=\"#b.RUT.002.002\">\\n\\t<span ana=\"#wheat\">\\n\\t\\t<certainty match=\"@ana\" locus=\"value\" cert=\"high\" given=\"text\"/>\\n\\t</span>\\n</spanGrp>\\n<spanGrp type=\"theme\" inst=\"#b.RUT.003.003\">\\n\\t<span ana=\"#seduction\">\\n\\t\\t<certainty match=\"@ana\" locus=\"value\" cert=\"high\" given=\"text\"/>\\n\\t</span>\\n</spanGrp>\\n<spanGrp type=\"theme\" inst=\"#b.RUT.003.003\">\\n\\t<span ana=\"#perfume\">\\n\\t\\t<certainty match=\"@ana\" locus=\"value\" cert=\"high\" given=\"text\"/>\\n\\t</span>\\n</spanGrp>\\n<spanGrp type=\"theme\" inst=\"#b.RUT.003.003\">\\n\\t<span ana=\"#clothes\">\\n\\t\\t<certainty match=\"@ana\" locus=\"value\" cert=\"high\" given=\"text\"/>\\n\\t</span>\\n</spanGrp>\\n<spanGrp type=\"theme\" inst=\"#b.RUT.003.003\">\\n\\t<span ana=\"#field\">\\n\\t\\t<certainty match=\"@ana\" locus=\"value\" cert=\"high\" given=\"text\"/>\\n\\t</span>\\n</spanGrp>\\n<spanGrp type=\"theme\" inst=\"#b.RUT.003.003\">\\n\\t<span ana=\"#positive-aspect\">\\n\\t\\t<certainty match=\"@ana\" locus=\"value\" cert=\"high\" given=\"text\"/>\\n\\t</span>\\n</spanGrp>\\n<spanGrp type=\"theme\" inst=\"#b.RUT.003.004\">\\n\\t<span ana=\"#sleep\">\\n\\t\\t<certainty match=\"@ana\" locus=\"value\" cert=\"high\" given=\"text\"/>\\n\\t</span>\\n</spanGrp>\\n<spanGrp type=\"theme\" inst=\"#b.RUT.003.004\">\\n\\t<span ana=\"#foot\">\\n\\t\\t<certainty match=\"@ana\" locus=\"value\" cert=\"high\" given=\"text\"/>\\n\\t</span>\\n</spanGrp>\\n<spanGrp type=\"theme\" inst=\"#b.RUT.003.004\">\\n\\t<span ana=\"#erotic-time\">\\n\\t\\t<certainty match=\"@ana\" locus=\"value\" cert=\"medium\" given=\"text\"/>\\n\\t</span>\\n</spanGrp>\\n<spanGrp type=\"theme\" inst=\"#b.RUT.003.004\">\\n\\t<span ana=\"#positive-aspect\">\\n\\t\\t<certainty match=\"@ana\" locus=\"value\" cert=\"high\" given=\"text\"/>\\n\\t</span>\\n</spanGrp>\\n<spanGrp type=\"theme\" inst=\"#b.RUT.003.007\">\\n\\t<span ana=\"#alcohol\">\\n\\t\\t<certainty match=\"@ana\" locus=\"value\" cert=\"high\" given=\"text\"/>\\n\\t</span>\\n</spanGrp>\\n<spanGrp type=\"theme\" inst=\"#b.RUT.003.007\">\\n\\t<span ana=\"#sleep\">\\n\\t\\t<certainty match=\"@ana\" locus=\"value\" cert=\"high\" given=\"text\"/>\\n\\t</span>\\n</spanGrp>\\n<spanGrp type=\"theme\" inst=\"#b.RUT.003.007\">\\n\\t<span ana=\"#foot\">\\n\\t\\t<certainty match=\"@ana\" locus=\"value\" cert=\"high\" given=\"text\"/>\\n\\t</span>\\n</spanGrp>\\n<spanGrp type=\"theme\" inst=\"#b.RUT.003.007\">\\n\\t<span ana=\"#erotic-time\">\\n\\t\\t<certainty match=\"@ana\" locus=\"value\" cert=\"medium\" given=\"text\"/>\\n\\t</span>\\n</spanGrp>\\n<spanGrp type=\"theme\" inst=\"#b.RUT.003.007\">\\n\\t<span ana=\"#neutral-aspect\">\\n\\t\\t<certainty match=\"@ana\" locus=\"value\" cert=\"high\" given=\"text\"/>\\n\\t</span>\\n</spanGrp>\\n<spanGrp type=\"theme\" inst=\"#b.RUT.003.008\">\\n\\t<span ana=\"#sleep\">\\n\\t\\t<certainty match=\"@ana\" locus=\"value\" cert=\"high\" given=\"text\"/>\\n\\t</span>\\n</spanGrp>\\n<spanGrp type=\"theme\" inst=\"#b.RUT.003.008\">\\n\\t<span ana=\"#erotic-time\">\\n\\t\\t<certainty match=\"@ana\" locus=\"value\" cert=\"medium\" given=\"text\"/>\\n\\t</span>\\n</spanGrp>\\n<spanGrp type=\"theme\" inst=\"#b.RUT.003.008\">\\n\\t<span ana=\"#neutral-aspect\">\\n\\t\\t<certainty match=\"@ana\" locus=\"value\" cert=\"high\" given=\"text\"/>\\n\\t</span>\\n</spanGrp>\\n<spanGrp type=\"theme\" inst=\"#b.RUT.003.009\">\\n\\t<span ana=\"#erotic-time\">\\n\\t\\t<certainty match=\"@ana\" locus=\"value\" cert=\"medium\" given=\"text\"/>\\n\\t</span>\\n</spanGrp>\\n<spanGrp type=\"theme\" inst=\"#b.RUT.003.009\">\\n\\t<span ana=\"#marital-relation-political-family\">\\n\\t\\t<certainty match=\"@ana\" locus=\"value\" cert=\"high\" given=\"text\"/>\\n\\t</span>\\n</spanGrp>\\n<spanGrp type=\"theme\" inst=\"#b.RUT.003.009\">\\n\\t<span ana=\"#neutral-aspect\">\\n\\t\\t<certainty match=\"@ana\" locus=\"value\" cert=\"high\" given=\"text\"/>\\n\\t</span>\\n</spanGrp>\\n<spanGrp type=\"theme\" inst=\"#b.RUT.003.010\">\\n\\t<span ana=\"#erotic-time\">\\n\\t\\t<certainty match=\"@ana\" locus=\"value\" cert=\"medium\" given=\"text\"/>\\n\\t</span>\\n</spanGrp>\\n<spanGrp type=\"theme\" inst=\"#b.RUT.003.010\">\\n\\t<span ana=\"#marital-relation-political-family\">\\n\\t\\t<certainty match=\"@ana\" locus=\"value\" cert=\"high\" given=\"text\"/>\\n\\t</span>\\n</spanGrp>\\n<spanGrp type=\"theme\" inst=\"#b.RUT.003.010\">\\n\\t<span ana=\"#positive-aspect\">\\n\\t\\t<certainty match=\"@ana\" locus=\"value\" cert=\"high\" given=\"text\"/>\\n\\t</span>\\n</spanGrp>\\n<spanGrp type=\"theme\" inst=\"#b.RUT.003.011\">\\n\\t<span ana=\"#erotic-time\">\\n\\t\\t<certainty match=\"@ana\" locus=\"value\" cert=\"medium\" given=\"text\"/>\\n\\t</span>\\n</spanGrp>\\n<spanGrp type=\"theme\" inst=\"#b.RUT.003.011\">\\n\\t<span ana=\"#marital-relation-political-family\">\\n\\t\\t<certainty match=\"@ana\" locus=\"value\" cert=\"high\" given=\"text\"/>\\n\\t</span>\\n</spanGrp>\\n<spanGrp type=\"theme\" inst=\"#b.RUT.003.011\">\\n\\t<span ana=\"#beauty\">\\n\\t\\t<certainty match=\"@ana\" locus=\"value\" cert=\"medium\" given=\"text\"/>\\n\\t</span>\\n</spanGrp>\\n<spanGrp type=\"theme\" inst=\"#b.RUT.003.011\">\\n\\t<span ana=\"#positive-aspect\">\\n\\t\\t<certainty match=\"@ana\" locus=\"value\" cert=\"high\" given=\"text\"/>\\n\\t</span>\\n</spanGrp>\\n<spanGrp type=\"theme\" inst=\"#b.RUT.003.012\">\\n\\t<span ana=\"#marital-relation-political-family\">\\n\\t\\t<certainty match=\"@ana\" locus=\"value\" cert=\"high\" given=\"text\"/>\\n\\t</span>\\n</spanGrp>\\n<spanGrp type=\"theme\" inst=\"#b.RUT.003.012\">\\n\\t<span ana=\"#neutral-aspect\">\\n\\t\\t<certainty match=\"@ana\" locus=\"value\" cert=\"high\" given=\"text\"/>\\n\\t</span>\\n</spanGrp>\\n<spanGrp type=\"theme\" inst=\"#b.RUT.003.014\">\\n\\t<span ana=\"#erotic-time\">\\n\\t\\t<certainty match=\"@ana\" locus=\"value\" cert=\"high\" given=\"text\"/>\\n\\t</span>\\n</spanGrp>\\n<spanGrp type=\"theme\" inst=\"#b.RUT.003.014\">\\n\\t<span ana=\"#marital-relation-political-family\">\\n\\t\\t<certainty match=\"@ana\" locus=\"value\" cert=\"high\" given=\"text\"/>\\n\\t</span>\\n</spanGrp>\\n<spanGrp type=\"theme\" inst=\"#b.RUT.003.014\">\\n\\t<span ana=\"#neutral-aspect\">\\n\\t\\t<certainty match=\"@ana\" locus=\"value\" cert=\"high\" given=\"text\"/>\\n\\t</span>\\n</spanGrp>\\n<spanGrp type=\"theme\" inst=\"#b.RUT.004.010\">\\n\\t<span ana=\"#wedding\">\\n\\t\\t<certainty match=\"@ana\" locus=\"value\" cert=\"medium\" given=\"text\"/>\\n\\t</span>\\n</spanGrp>\\n<spanGrp type=\"theme\" inst=\"#b.RUT.004.010\">\\n\\t<span ana=\"#positive-aspect\">\\n\\t\\t<certainty match=\"@ana\" locus=\"value\" cert=\"high\" given=\"text\"/>\\n\\t</span>\\n</spanGrp>\\n<spanGrp type=\"theme\" inst=\"#b.RUT.004.011\">\\n\\t<span ana=\"#wedding\">\\n\\t\\t<certainty match=\"@ana\" locus=\"value\" cert=\"medium\" given=\"text\"/>\\n\\t</span>\\n</spanGrp>\\n<spanGrp type=\"theme\" inst=\"#b.RUT.004.011\">\\n\\t<span ana=\"#positive-aspect\">\\n\\t\\t<certainty match=\"@ana\" locus=\"value\" cert=\"high\" given=\"text\"/>\\n\\t</span>\\n</spanGrp>\\n<spanGrp type=\"theme\" inst=\"#b.RUT.004.012\">\\n\\t<span ana=\"#ascendant-descendant\">\\n\\t\\t<certainty match=\"@ana\" locus=\"value\" cert=\"high\" given=\"text\"/>\\n\\t</span>\\n</spanGrp>\\n<spanGrp type=\"theme\" inst=\"#b.RUT.004.012\">\\n\\t<span ana=\"#positive-aspect\">\\n\\t\\t<certainty match=\"@ana\" locus=\"value\" cert=\"high\" given=\"text\"/>\\n\\t</span>\\n</spanGrp>\\n<spanGrp type=\"theme\" inst=\"#b.RUT.004.013\">\\n\\t<span ana=\"#wedding\">\\n\\t\\t<certainty match=\"@ana\" locus=\"value\" cert=\"high\" given=\"text\"/>\\n\\t</span>\\n</spanGrp>\\n<spanGrp type=\"theme\" inst=\"#b.RUT.004.013\">\\n\\t<span ana=\"#first-sexual-act\">\\n\\t\\t<certainty match=\"@ana\" locus=\"value\" cert=\"high\" given=\"text\"/>\\n\\t</span>\\n</spanGrp>\\n<spanGrp type=\"theme\" inst=\"#b.RUT.004.013\">\\n\\t<span ana=\"#coitus\">\\n\\t\\t<certainty match=\"@ana\" locus=\"value\" cert=\"medium\" given=\"text\"/>\\n\\t</span>\\n</spanGrp>\\n<spanGrp type=\"theme\" inst=\"#b.RUT.004.013\">\\n\\t<span ana=\"#fertilization\">\\n\\t\\t<certainty match=\"@ana\" locus=\"value\" cert=\"high\" given=\"text\"/>\\n\\t</span>\\n</spanGrp>\\n<spanGrp type=\"theme\" inst=\"#b.RUT.004.013\">\\n\\t<span ana=\"#birth\">\\n\\t\\t<certainty match=\"@ana\" locus=\"value\" cert=\"high\" given=\"text\"/>\\n\\t</span>\\n</spanGrp>\\n<spanGrp type=\"theme\" inst=\"#b.RUT.004.013\">\\n\\t<span ana=\"#ascendant-descendant\">\\n\\t\\t<certainty match=\"@ana\" locus=\"value\" cert=\"high\" given=\"text\"/>\\n\\t</span>\\n</spanGrp>\\n<spanGrp type=\"theme\" inst=\"#b.RUT.004.013\">\\n\\t<span ana=\"#positive-aspect\">\\n\\t\\t<certainty match=\"@ana\" locus=\"value\" cert=\"high\" given=\"text\"/>\\n\\t</span>\\n</spanGrp>\\n<spanGrp type=\"theme\" inst=\"#b.RUT.004.015\">\\n\\t<span ana=\"#ascendant-descendant\">\\n\\t\\t<certainty match=\"@ana\" locus=\"value\" cert=\"high\" given=\"text\"/>\\n\\t</span>\\n</spanGrp>\\n<spanGrp type=\"theme\" inst=\"#b.RUT.004.015\">\\n\\t<span ana=\"#positive-aspect\">\\n\\t\\t<certainty match=\"@ana\" locus=\"value\" cert=\"high\" given=\"text\"/>\\n\\t</span>\\n</spanGrp>\\n<spanGrp type=\"theme\" inst=\"#b.RUT.004.017\">\\n\\t<span ana=\"#birth\">\\n\\t\\t<certainty match=\"@ana\" locus=\"value\" cert=\"high\" given=\"text\"/>\\n\\t</span>\\n</spanGrp>\\n<spanGrp type=\"theme\" inst=\"#b.RUT.004.017\">\\n\\t<span ana=\"#ascendant-descendant\">\\n\\t\\t<certainty match=\"@ana\" locus=\"value\" cert=\"high\" given=\"text\"/>\\n\\t</span>\\n</spanGrp>\\n<spanGrp type=\"theme\" inst=\"#b.RUT.004.017\">\\n\\t<span ana=\"#positive-aspect\">\\n\\t\\t<certainty match=\"@ana\" locus=\"value\" cert=\"high\" given=\"text\"/>\\n\\t</span>\\n</spanGrp>\\n<spanGrp type=\"theme\" inst=\"#b.RUT.004.018\">\\n\\t<span ana=\"#ascendant-descendant\">\\n\\t\\t<certainty match=\"@ana\" locus=\"value\" cert=\"high\" given=\"text\"/>\\n\\t</span>\\n</spanGrp>\\n<spanGrp type=\"theme\" inst=\"#b.RUT.004.019\">\\n\\t<span ana=\"#ascendant-descendant\">\\n\\t\\t<certainty match=\"@ana\" locus=\"value\" cert=\"high\" given=\"text\"/>\\n\\t</span>\\n</spanGrp>\\n<spanGrp type=\"theme\" inst=\"#b.RUT.004.020\">\\n\\t<span ana=\"#ascendant-descendant\">\\n\\t\\t<certainty match=\"@ana\" locus=\"value\" cert=\"high\" given=\"text\"/>\\n\\t</span>\\n</spanGrp>\\n<spanGrp type=\"theme\" inst=\"#b.RUT.004.021\">\\n\\t<span ana=\"#ascendant-descendant\">\\n\\t\\t<certainty match=\"@ana\" locus=\"value\" cert=\"high\" given=\"text\"/>\\n\\t</span>\\n</spanGrp>\\n<spanGrp type=\"theme\" inst=\"#b.RUT.004.022\">\\n\\t<span ana=\"#ascendant-descendant\">\\n\\t\\t<certainty match=\"@ana\" locus=\"value\" cert=\"high\" given=\"text\"/>\\n\\t</span>\\n</spanGrp>\\n\\n</standOff>'"
      ]
     },
     "metadata": {},
     "execution_count": 11
    }
   ],
   "source": [
    "standOff_str[0:100000]"
   ]
  },
  {
   "cell_type": "code",
   "execution_count": 12,
   "metadata": {},
   "outputs": [
    {
     "output_type": "execute_result",
     "data": {
      "text/plain": [
       "label    b\n",
       "value    5\n",
       "Name: 1, dtype: object"
      ]
     },
     "metadata": {},
     "execution_count": 12
    }
   ],
   "source": [
    "import pandas as pd\n",
    "pd.DataFrame([[\"a\", 1],[\"b\", 5],[\"c\", 0],[\"d\", 2],], columns=[\"label\", \"value\"]).sort_values(by=\"value\", ascending=False).iloc[0]"
   ]
  },
  {
   "cell_type": "code",
   "execution_count": 13,
   "metadata": {},
   "outputs": [
    {
     "output_type": "execute_result",
     "data": {
      "text/plain": [
       "[['b.RUT.001.001', 'descendant'],\n",
       " ['b.RUT.001.001', 'positive'],\n",
       " ['b.RUT.001.002', 'descendant'],\n",
       " ['b.RUT.001.002', 'positive'],\n",
       " ['b.RUT.001.004', 'interfaith-marraige'],\n",
       " ['b.RUT.001.004', 'neutral'],\n",
       " ['b.RUT.001.011', 'descendant'],\n",
       " ['b.RUT.001.012', 'descendant'],\n",
       " ['b.RUT.001.013', 'condemned'],\n",
       " ['b.RUT.002.002', 'wheet'],\n",
       " ['b.RUT.003.003', 'positive'],\n",
       " ['b.RUT.003.004', 'feet'],\n",
       " ['b.RUT.003.004', 'positive'],\n",
       " ['b.RUT.003.007', 'feet'],\n",
       " ['b.RUT.003.007', 'neutral'],\n",
       " ['b.RUT.003.008', 'neutral'],\n",
       " ['b.RUT.003.009', 'greater-family-relation'],\n",
       " ['b.RUT.003.009', 'neutral'],\n",
       " ['b.RUT.003.010', 'greater-family-relation'],\n",
       " ['b.RUT.003.010', 'positive'],\n",
       " ['b.RUT.003.011', 'greater-family-relation'],\n",
       " ['b.RUT.003.011', 'positive'],\n",
       " ['b.RUT.003.012', 'greater-family-relation'],\n",
       " ['b.RUT.003.012', 'neutral'],\n",
       " ['b.RUT.003.014', 'greater-family-relation'],\n",
       " ['b.RUT.003.014', 'neutral'],\n",
       " ['b.RUT.004.010', 'positive'],\n",
       " ['b.RUT.004.011', 'positive'],\n",
       " ['b.RUT.004.012', 'descendant'],\n",
       " ['b.RUT.004.012', 'positive'],\n",
       " ['b.RUT.004.013', 'conception'],\n",
       " ['b.RUT.004.013', 'descendant'],\n",
       " ['b.RUT.004.013', 'positive'],\n",
       " ['b.RUT.004.015', 'descendant'],\n",
       " ['b.RUT.004.015', 'positive'],\n",
       " ['b.RUT.004.017', 'descendant'],\n",
       " ['b.RUT.004.017', 'positive'],\n",
       " ['b.RUT.004.018', 'descendant'],\n",
       " ['b.RUT.004.019', 'descendant'],\n",
       " ['b.RUT.004.020', 'descendant'],\n",
       " ['b.RUT.004.021', 'descendant'],\n",
       " ['b.RUT.004.022', 'descendant']]"
      ]
     },
     "metadata": {},
     "execution_count": 13
    }
   ],
   "source": [
    "error_lt"
   ]
  },
  {
   "cell_type": "code",
   "execution_count": 14,
   "metadata": {
    "tags": []
   },
   "outputs": [
    {
     "output_type": "execute_result",
     "data": {
      "text/plain": [
       "[('descendant', 13),\n",
       " ('positive', 12),\n",
       " ('neutral', 6),\n",
       " ('greater-family-relation', 5),\n",
       " ('feet', 2),\n",
       " ('interfaith-marraige', 1),\n",
       " ('condemned', 1),\n",
       " ('wheet', 1),\n",
       " ('conception', 1)]"
      ]
     },
     "metadata": {},
     "execution_count": 14
    }
   ],
   "source": [
    "from collections import Counter\n",
    "Counter([error_id[1] for  error_id in error_lt]).most_common()\n"
   ]
  },
  {
   "cell_type": "code",
   "execution_count": 15,
   "metadata": {},
   "outputs": [],
   "source": [
    "parse_sexual_anotation.save_book_with_standOff_element(book_str, standOff_str, book_name)"
   ]
  },
  {
   "cell_type": "code",
   "execution_count": null,
   "metadata": {},
   "outputs": [],
   "source": []
  }
 ]
}