{
 "metadata": {
  "language_info": {
   "codemirror_mode": {
    "name": "ipython",
    "version": 3
   },
   "file_extension": ".py",
   "mimetype": "text/x-python",
   "name": "python",
   "nbconvert_exporter": "python",
   "pygments_lexer": "ipython3",
   "version": "3.7.6-final"
  },
  "orig_nbformat": 2,
  "kernelspec": {
   "name": "Python 3.7.6 64-bit ('base': conda)",
   "display_name": "Python 3.7.6 64-bit ('base': conda)",
   "metadata": {
    "interpreter": {
     "hash": "960f4d658457e0296618a96ff118bd2cbd6b6fed4373572a098ed4ec5a9be4c3"
    }
   }
  }
 },
 "nbformat": 4,
 "nbformat_minor": 2,
 "cells": [
  {
   "cell_type": "code",
   "execution_count": 1,
   "metadata": {},
   "outputs": [],
   "source": [
    "from lxml import etree\n",
    "import pandas as pd\n",
    "from collections import Counter\n",
    "import os\n",
    "import glob\n",
    "import re\n",
    "import matplotlib.pyplot as plt\n",
    "import numpy as np\n",
    "from collections import Counter\n",
    "from numpy import array\n",
    "import numpy as np\n",
    "import matplotlib.pyplot as plt\n",
    "%matplotlib inline\n",
    "\n",
    "\n",
    "wdir = \"../../resulting data/\"\n"
   ]
  },
  {
   "cell_type": "code",
   "execution_count": 4,
   "metadata": {},
   "outputs": [],
   "source": [
    "verses_features = pd.read_csv(wdir +  \"verses_features.tsv\", sep=\"\\t\")"
   ]
  },
  {
   "cell_type": "code",
   "execution_count": 5,
   "metadata": {},
   "outputs": [
    {
     "output_type": "execute_result",
     "data": {
      "text/plain": [
       "      Unnamed: 0 bible_identifier  bible_book  bible_chapter  \\\n",
       "0  b.GEN.001.001    b.GEN.001.001         NaN              0   \n",
       "1  b.GEN.001.002    b.GEN.001.002         NaN              0   \n",
       "2  b.GEN.001.003    b.GEN.001.003         NaN              0   \n",
       "3  b.GEN.001.004    b.GEN.001.004         NaN              0   \n",
       "4  b.GEN.001.005    b.GEN.001.005         NaN              0   \n",
       "\n",
       "   bible_book_chapter  relations  monogamy  poligamy  marriage  \\\n",
       "0                   0          0         0         0         0   \n",
       "1                   0          0         0         0         0   \n",
       "2                   0          0         0         0         0   \n",
       "3                   0          0         0         0         0   \n",
       "4                   0          0         0         0         0   \n",
       "\n",
       "   second-marriage  ...  #per129  pla15  #pla74  pla69  org435  org297  \\\n",
       "0                0  ...      NaN    NaN     NaN    NaN     NaN     NaN   \n",
       "1                0  ...      NaN    NaN     NaN    NaN     NaN     NaN   \n",
       "2                0  ...      NaN    NaN     NaN    NaN     NaN     NaN   \n",
       "3                0  ...      NaN    NaN     NaN    NaN     NaN     NaN   \n",
       "4                0  ...      NaN    NaN     NaN    NaN     NaN     NaN   \n",
       "\n",
       "   org183  org102  #pla75  org22  \n",
       "0     NaN     NaN     NaN    NaN  \n",
       "1     NaN     NaN     NaN    NaN  \n",
       "2     NaN     NaN     NaN    NaN  \n",
       "3     NaN     NaN     NaN    NaN  \n",
       "4     NaN     NaN     NaN    NaN  \n",
       "\n",
       "[5 rows x 4224 columns]"
      ],
      "text/html": "<div>\n<style scoped>\n    .dataframe tbody tr th:only-of-type {\n        vertical-align: middle;\n    }\n\n    .dataframe tbody tr th {\n        vertical-align: top;\n    }\n\n    .dataframe thead th {\n        text-align: right;\n    }\n</style>\n<table border=\"1\" class=\"dataframe\">\n  <thead>\n    <tr style=\"text-align: right;\">\n      <th></th>\n      <th>Unnamed: 0</th>\n      <th>bible_identifier</th>\n      <th>bible_book</th>\n      <th>bible_chapter</th>\n      <th>bible_book_chapter</th>\n      <th>relations</th>\n      <th>monogamy</th>\n      <th>poligamy</th>\n      <th>marriage</th>\n      <th>second-marriage</th>\n      <th>...</th>\n      <th>#per129</th>\n      <th>pla15</th>\n      <th>#pla74</th>\n      <th>pla69</th>\n      <th>org435</th>\n      <th>org297</th>\n      <th>org183</th>\n      <th>org102</th>\n      <th>#pla75</th>\n      <th>org22</th>\n    </tr>\n  </thead>\n  <tbody>\n    <tr>\n      <th>0</th>\n      <td>b.GEN.001.001</td>\n      <td>b.GEN.001.001</td>\n      <td>NaN</td>\n      <td>0</td>\n      <td>0</td>\n      <td>0</td>\n      <td>0</td>\n      <td>0</td>\n      <td>0</td>\n      <td>0</td>\n      <td>...</td>\n      <td>NaN</td>\n      <td>NaN</td>\n      <td>NaN</td>\n      <td>NaN</td>\n      <td>NaN</td>\n      <td>NaN</td>\n      <td>NaN</td>\n      <td>NaN</td>\n      <td>NaN</td>\n      <td>NaN</td>\n    </tr>\n    <tr>\n      <th>1</th>\n      <td>b.GEN.001.002</td>\n      <td>b.GEN.001.002</td>\n      <td>NaN</td>\n      <td>0</td>\n      <td>0</td>\n      <td>0</td>\n      <td>0</td>\n      <td>0</td>\n      <td>0</td>\n      <td>0</td>\n      <td>...</td>\n      <td>NaN</td>\n      <td>NaN</td>\n      <td>NaN</td>\n      <td>NaN</td>\n      <td>NaN</td>\n      <td>NaN</td>\n      <td>NaN</td>\n      <td>NaN</td>\n      <td>NaN</td>\n      <td>NaN</td>\n    </tr>\n    <tr>\n      <th>2</th>\n      <td>b.GEN.001.003</td>\n      <td>b.GEN.001.003</td>\n      <td>NaN</td>\n      <td>0</td>\n      <td>0</td>\n      <td>0</td>\n      <td>0</td>\n      <td>0</td>\n      <td>0</td>\n      <td>0</td>\n      <td>...</td>\n      <td>NaN</td>\n      <td>NaN</td>\n      <td>NaN</td>\n      <td>NaN</td>\n      <td>NaN</td>\n      <td>NaN</td>\n      <td>NaN</td>\n      <td>NaN</td>\n      <td>NaN</td>\n      <td>NaN</td>\n    </tr>\n    <tr>\n      <th>3</th>\n      <td>b.GEN.001.004</td>\n      <td>b.GEN.001.004</td>\n      <td>NaN</td>\n      <td>0</td>\n      <td>0</td>\n      <td>0</td>\n      <td>0</td>\n      <td>0</td>\n      <td>0</td>\n      <td>0</td>\n      <td>...</td>\n      <td>NaN</td>\n      <td>NaN</td>\n      <td>NaN</td>\n      <td>NaN</td>\n      <td>NaN</td>\n      <td>NaN</td>\n      <td>NaN</td>\n      <td>NaN</td>\n      <td>NaN</td>\n      <td>NaN</td>\n    </tr>\n    <tr>\n      <th>4</th>\n      <td>b.GEN.001.005</td>\n      <td>b.GEN.001.005</td>\n      <td>NaN</td>\n      <td>0</td>\n      <td>0</td>\n      <td>0</td>\n      <td>0</td>\n      <td>0</td>\n      <td>0</td>\n      <td>0</td>\n      <td>...</td>\n      <td>NaN</td>\n      <td>NaN</td>\n      <td>NaN</td>\n      <td>NaN</td>\n      <td>NaN</td>\n      <td>NaN</td>\n      <td>NaN</td>\n      <td>NaN</td>\n      <td>NaN</td>\n      <td>NaN</td>\n    </tr>\n  </tbody>\n</table>\n<p>5 rows × 4224 columns</p>\n</div>"
     },
     "metadata": {},
     "execution_count": 5
    }
   ],
   "source": [
    "verses_features.head()"
   ]
  },
  {
   "cell_type": "code",
   "execution_count": 6,
   "metadata": {},
   "outputs": [],
   "source": [
    "verses_features.fillna(0, inplace=True)"
   ]
  },
  {
   "cell_type": "code",
   "execution_count": 7,
   "metadata": {},
   "outputs": [
    {
     "output_type": "execute_result",
     "data": {
      "text/plain": [
       "      Unnamed: 0 bible_identifier  bible_book  bible_chapter  \\\n",
       "0  b.GEN.001.001    b.GEN.001.001         0.0              0   \n",
       "1  b.GEN.001.002    b.GEN.001.002         0.0              0   \n",
       "2  b.GEN.001.003    b.GEN.001.003         0.0              0   \n",
       "3  b.GEN.001.004    b.GEN.001.004         0.0              0   \n",
       "4  b.GEN.001.005    b.GEN.001.005         0.0              0   \n",
       "\n",
       "   bible_book_chapter  relations  monogamy  poligamy  marriage  \\\n",
       "0                   0          0         0         0         0   \n",
       "1                   0          0         0         0         0   \n",
       "2                   0          0         0         0         0   \n",
       "3                   0          0         0         0         0   \n",
       "4                   0          0         0         0         0   \n",
       "\n",
       "   second-marriage  ...  #per129  pla15  #pla74  pla69  org435  org297  \\\n",
       "0                0  ...      0.0    0.0     0.0    0.0     0.0     0.0   \n",
       "1                0  ...      0.0    0.0     0.0    0.0     0.0     0.0   \n",
       "2                0  ...      0.0    0.0     0.0    0.0     0.0     0.0   \n",
       "3                0  ...      0.0    0.0     0.0    0.0     0.0     0.0   \n",
       "4                0  ...      0.0    0.0     0.0    0.0     0.0     0.0   \n",
       "\n",
       "   org183  org102  #pla75  org22  \n",
       "0     0.0     0.0     0.0    0.0  \n",
       "1     0.0     0.0     0.0    0.0  \n",
       "2     0.0     0.0     0.0    0.0  \n",
       "3     0.0     0.0     0.0    0.0  \n",
       "4     0.0     0.0     0.0    0.0  \n",
       "\n",
       "[5 rows x 4224 columns]"
      ],
      "text/html": "<div>\n<style scoped>\n    .dataframe tbody tr th:only-of-type {\n        vertical-align: middle;\n    }\n\n    .dataframe tbody tr th {\n        vertical-align: top;\n    }\n\n    .dataframe thead th {\n        text-align: right;\n    }\n</style>\n<table border=\"1\" class=\"dataframe\">\n  <thead>\n    <tr style=\"text-align: right;\">\n      <th></th>\n      <th>Unnamed: 0</th>\n      <th>bible_identifier</th>\n      <th>bible_book</th>\n      <th>bible_chapter</th>\n      <th>bible_book_chapter</th>\n      <th>relations</th>\n      <th>monogamy</th>\n      <th>poligamy</th>\n      <th>marriage</th>\n      <th>second-marriage</th>\n      <th>...</th>\n      <th>#per129</th>\n      <th>pla15</th>\n      <th>#pla74</th>\n      <th>pla69</th>\n      <th>org435</th>\n      <th>org297</th>\n      <th>org183</th>\n      <th>org102</th>\n      <th>#pla75</th>\n      <th>org22</th>\n    </tr>\n  </thead>\n  <tbody>\n    <tr>\n      <th>0</th>\n      <td>b.GEN.001.001</td>\n      <td>b.GEN.001.001</td>\n      <td>0.0</td>\n      <td>0</td>\n      <td>0</td>\n      <td>0</td>\n      <td>0</td>\n      <td>0</td>\n      <td>0</td>\n      <td>0</td>\n      <td>...</td>\n      <td>0.0</td>\n      <td>0.0</td>\n      <td>0.0</td>\n      <td>0.0</td>\n      <td>0.0</td>\n      <td>0.0</td>\n      <td>0.0</td>\n      <td>0.0</td>\n      <td>0.0</td>\n      <td>0.0</td>\n    </tr>\n    <tr>\n      <th>1</th>\n      <td>b.GEN.001.002</td>\n      <td>b.GEN.001.002</td>\n      <td>0.0</td>\n      <td>0</td>\n      <td>0</td>\n      <td>0</td>\n      <td>0</td>\n      <td>0</td>\n      <td>0</td>\n      <td>0</td>\n      <td>...</td>\n      <td>0.0</td>\n      <td>0.0</td>\n      <td>0.0</td>\n      <td>0.0</td>\n      <td>0.0</td>\n      <td>0.0</td>\n      <td>0.0</td>\n      <td>0.0</td>\n      <td>0.0</td>\n      <td>0.0</td>\n    </tr>\n    <tr>\n      <th>2</th>\n      <td>b.GEN.001.003</td>\n      <td>b.GEN.001.003</td>\n      <td>0.0</td>\n      <td>0</td>\n      <td>0</td>\n      <td>0</td>\n      <td>0</td>\n      <td>0</td>\n      <td>0</td>\n      <td>0</td>\n      <td>...</td>\n      <td>0.0</td>\n      <td>0.0</td>\n      <td>0.0</td>\n      <td>0.0</td>\n      <td>0.0</td>\n      <td>0.0</td>\n      <td>0.0</td>\n      <td>0.0</td>\n      <td>0.0</td>\n      <td>0.0</td>\n    </tr>\n    <tr>\n      <th>3</th>\n      <td>b.GEN.001.004</td>\n      <td>b.GEN.001.004</td>\n      <td>0.0</td>\n      <td>0</td>\n      <td>0</td>\n      <td>0</td>\n      <td>0</td>\n      <td>0</td>\n      <td>0</td>\n      <td>0</td>\n      <td>...</td>\n      <td>0.0</td>\n      <td>0.0</td>\n      <td>0.0</td>\n      <td>0.0</td>\n      <td>0.0</td>\n      <td>0.0</td>\n      <td>0.0</td>\n      <td>0.0</td>\n      <td>0.0</td>\n      <td>0.0</td>\n    </tr>\n    <tr>\n      <th>4</th>\n      <td>b.GEN.001.005</td>\n      <td>b.GEN.001.005</td>\n      <td>0.0</td>\n      <td>0</td>\n      <td>0</td>\n      <td>0</td>\n      <td>0</td>\n      <td>0</td>\n      <td>0</td>\n      <td>0</td>\n      <td>...</td>\n      <td>0.0</td>\n      <td>0.0</td>\n      <td>0.0</td>\n      <td>0.0</td>\n      <td>0.0</td>\n      <td>0.0</td>\n      <td>0.0</td>\n      <td>0.0</td>\n      <td>0.0</td>\n      <td>0.0</td>\n    </tr>\n  </tbody>\n</table>\n<p>5 rows × 4224 columns</p>\n</div>"
     },
     "metadata": {},
     "execution_count": 7
    }
   ],
   "source": [
    "verses_features.head()"
   ]
  },
  {
   "cell_type": "code",
   "execution_count": 59,
   "metadata": {},
   "outputs": [
    {
     "output_type": "execute_result",
     "data": {
      "text/plain": [
       "['b.GEN.004.001',\n",
       " 'b.GEN.004.017',\n",
       " 'b.GEN.004.025',\n",
       " 'b.GEN.016.002',\n",
       " 'b.GEN.016.003',\n",
       " 'b.GEN.016.004',\n",
       " 'b.GEN.020.004',\n",
       " 'b.GEN.024.016',\n",
       " 'b.GEN.024.067',\n",
       " 'b.GEN.026.010',\n",
       " 'b.GEN.029.023',\n",
       " 'b.GEN.029.030',\n",
       " 'b.GEN.030.003',\n",
       " 'b.GEN.030.004',\n",
       " 'b.GEN.030.016',\n",
       " 'b.GEN.034.002',\n",
       " 'b.GEN.034.007',\n",
       " 'b.GEN.035.022',\n",
       " 'b.GEN.038.002',\n",
       " 'b.GEN.038.016',\n",
       " 'b.GEN.038.018',\n",
       " 'b.GEN.039.007',\n",
       " 'b.GEN.039.010',\n",
       " 'b.GEN.039.012',\n",
       " 'b.GEN.039.014',\n",
       " 'b.GEN.039.015',\n",
       " 'b.GEN.039.017',\n",
       " 'b.GEN.039.018',\n",
       " 'b.GEN.049.004',\n",
       " 'b.RUT.004.013',\n",
       " 'b.MAT.001.025',\n",
       " 'b.MAT.019.005',\n",
       " 'b.MAT.019.006']"
      ]
     },
     "metadata": {},
     "execution_count": 59
    }
   ],
   "source": [
    "verses_features[verses_features[\"coitus\"] > 0 ][\"bible_identifier\"].values.tolist()"
   ]
  },
  {
   "cell_type": "code",
   "execution_count": 35,
   "metadata": {},
   "outputs": [
    {
     "output_type": "execute_result",
     "data": {
      "text/plain": [
       "0.0"
      ]
     },
     "metadata": {},
     "execution_count": 35
    }
   ],
   "source": [
    "verses_features[\"number of 1st level quotations\"].sum()"
   ]
  },
  {
   "cell_type": "code",
   "execution_count": 8,
   "metadata": {},
   "outputs": [],
   "source": [
    "features_corrs = verses_features.corr()"
   ]
  },
  {
   "cell_type": "code",
   "execution_count": 31,
   "metadata": {},
   "outputs": [],
   "source": [
    "features_corrs = features_corrs.reindex(features_corrs.max(1).sort_values().index, axis=1)"
   ]
  },
  {
   "cell_type": "code",
   "execution_count": 32,
   "metadata": {},
   "outputs": [
    {
     "output_type": "execute_result",
     "data": {
      "text/plain": [
       "                    relations  #per2152  #per2203  #per2153  #per2154  \\\n",
       "bible_book                NaN       NaN       NaN       NaN       NaN   \n",
       "bible_chapter             NaN       NaN       NaN       NaN       NaN   \n",
       "bible_book_chapter        NaN       NaN       NaN       NaN       NaN   \n",
       "relations            1.000000 -0.000085 -0.000142 -0.000085 -0.000085   \n",
       "monogamy            -0.000209 -0.000079 -0.000131 -0.000079 -0.000079   \n",
       "...                       ...       ...       ...       ...       ...   \n",
       "org297              -0.000085 -0.000032 -0.000054 -0.000032 -0.000032   \n",
       "org183              -0.000085 -0.000032 -0.000054 -0.000032 -0.000032   \n",
       "org102              -0.000085 -0.000032 -0.000054 -0.000032 -0.000032   \n",
       "#pla75              -0.000085 -0.000032 -0.000054 -0.000032 -0.000032   \n",
       "org22               -0.000085 -0.000032 -0.000054 -0.000032 -0.000032   \n",
       "\n",
       "                    #per2155  #per2324  #per1928  #per2156  #per2157  ...  \\\n",
       "bible_book               NaN       NaN       NaN       NaN       NaN  ...   \n",
       "bible_chapter            NaN       NaN       NaN       NaN       NaN  ...   \n",
       "bible_book_chapter       NaN       NaN       NaN       NaN       NaN  ...   \n",
       "relations          -0.000085 -0.000085 -0.000120 -0.000085 -0.000085  ...   \n",
       "monogamy           -0.000079 -0.000079 -0.000112 -0.000079 -0.000079  ...   \n",
       "...                      ...       ...       ...       ...       ...  ...   \n",
       "org297             -0.000032 -0.000032 -0.000046 -0.000032 -0.000032  ...   \n",
       "org183             -0.000032 -0.000032 -0.000046 -0.000032 -0.000032  ...   \n",
       "org102             -0.000032 -0.000032 -0.000046 -0.000032 -0.000032  ...   \n",
       "#pla75             -0.000032 -0.000032 -0.000046 -0.000032 -0.000032  ...   \n",
       "org22              -0.000032 -0.000032 -0.000046 -0.000032 -0.000032  ...   \n",
       "\n",
       "                    animals  plants  time  part-of-the-day  seasons  \\\n",
       "bible_book              NaN     NaN   NaN              NaN      NaN   \n",
       "bible_chapter           NaN     NaN   NaN              NaN      NaN   \n",
       "bible_book_chapter      NaN     NaN   NaN              NaN      NaN   \n",
       "relations               NaN     NaN   NaN              NaN      NaN   \n",
       "monogamy                NaN     NaN   NaN              NaN      NaN   \n",
       "...                     ...     ...   ...              ...      ...   \n",
       "org297                  NaN     NaN   NaN              NaN      NaN   \n",
       "org183                  NaN     NaN   NaN              NaN      NaN   \n",
       "org102                  NaN     NaN   NaN              NaN      NaN   \n",
       "#pla75                  NaN     NaN   NaN              NaN      NaN   \n",
       "org22                   NaN     NaN   NaN              NaN      NaN   \n",
       "\n",
       "                    number of 1st level quotations  \\\n",
       "bible_book                                     NaN   \n",
       "bible_chapter                                  NaN   \n",
       "bible_book_chapter                             NaN   \n",
       "relations                                      NaN   \n",
       "monogamy                                       NaN   \n",
       "...                                            ...   \n",
       "org297                                         NaN   \n",
       "org183                                         NaN   \n",
       "org102                                         NaN   \n",
       "#pla75                                         NaN   \n",
       "org22                                          NaN   \n",
       "\n",
       "                    number of 2nd level quotations  \\\n",
       "bible_book                                     NaN   \n",
       "bible_chapter                                  NaN   \n",
       "bible_book_chapter                             NaN   \n",
       "relations                                      NaN   \n",
       "monogamy                                       NaN   \n",
       "...                                            ...   \n",
       "org297                                         NaN   \n",
       "org183                                         NaN   \n",
       "org102                                         NaN   \n",
       "#pla75                                         NaN   \n",
       "org22                                          NaN   \n",
       "\n",
       "                    number of 3rd level quotations  \\\n",
       "bible_book                                     NaN   \n",
       "bible_chapter                                  NaN   \n",
       "bible_book_chapter                             NaN   \n",
       "relations                                      NaN   \n",
       "monogamy                                       NaN   \n",
       "...                                            ...   \n",
       "org297                                         NaN   \n",
       "org183                                         NaN   \n",
       "org102                                         NaN   \n",
       "#pla75                                         NaN   \n",
       "org22                                          NaN   \n",
       "\n",
       "                    number of 4th level quotations  \\\n",
       "bible_book                                     NaN   \n",
       "bible_chapter                                  NaN   \n",
       "bible_book_chapter                             NaN   \n",
       "relations                                      NaN   \n",
       "monogamy                                       NaN   \n",
       "...                                            ...   \n",
       "org297                                         NaN   \n",
       "org183                                         NaN   \n",
       "org102                                         NaN   \n",
       "#pla75                                         NaN   \n",
       "org22                                          NaN   \n",
       "\n",
       "                    number of 5th level quotations  \n",
       "bible_book                                     NaN  \n",
       "bible_chapter                                  NaN  \n",
       "bible_book_chapter                             NaN  \n",
       "relations                                      NaN  \n",
       "monogamy                                       NaN  \n",
       "...                                            ...  \n",
       "org297                                         NaN  \n",
       "org183                                         NaN  \n",
       "org102                                         NaN  \n",
       "#pla75                                         NaN  \n",
       "org22                                          NaN  \n",
       "\n",
       "[4222 rows x 4222 columns]"
      ],
      "text/html": "<div>\n<style scoped>\n    .dataframe tbody tr th:only-of-type {\n        vertical-align: middle;\n    }\n\n    .dataframe tbody tr th {\n        vertical-align: top;\n    }\n\n    .dataframe thead th {\n        text-align: right;\n    }\n</style>\n<table border=\"1\" class=\"dataframe\">\n  <thead>\n    <tr style=\"text-align: right;\">\n      <th></th>\n      <th>relations</th>\n      <th>#per2152</th>\n      <th>#per2203</th>\n      <th>#per2153</th>\n      <th>#per2154</th>\n      <th>#per2155</th>\n      <th>#per2324</th>\n      <th>#per1928</th>\n      <th>#per2156</th>\n      <th>#per2157</th>\n      <th>...</th>\n      <th>animals</th>\n      <th>plants</th>\n      <th>time</th>\n      <th>part-of-the-day</th>\n      <th>seasons</th>\n      <th>number of 1st level quotations</th>\n      <th>number of 2nd level quotations</th>\n      <th>number of 3rd level quotations</th>\n      <th>number of 4th level quotations</th>\n      <th>number of 5th level quotations</th>\n    </tr>\n  </thead>\n  <tbody>\n    <tr>\n      <th>bible_book</th>\n      <td>NaN</td>\n      <td>NaN</td>\n      <td>NaN</td>\n      <td>NaN</td>\n      <td>NaN</td>\n      <td>NaN</td>\n      <td>NaN</td>\n      <td>NaN</td>\n      <td>NaN</td>\n      <td>NaN</td>\n      <td>...</td>\n      <td>NaN</td>\n      <td>NaN</td>\n      <td>NaN</td>\n      <td>NaN</td>\n      <td>NaN</td>\n      <td>NaN</td>\n      <td>NaN</td>\n      <td>NaN</td>\n      <td>NaN</td>\n      <td>NaN</td>\n    </tr>\n    <tr>\n      <th>bible_chapter</th>\n      <td>NaN</td>\n      <td>NaN</td>\n      <td>NaN</td>\n      <td>NaN</td>\n      <td>NaN</td>\n      <td>NaN</td>\n      <td>NaN</td>\n      <td>NaN</td>\n      <td>NaN</td>\n      <td>NaN</td>\n      <td>...</td>\n      <td>NaN</td>\n      <td>NaN</td>\n      <td>NaN</td>\n      <td>NaN</td>\n      <td>NaN</td>\n      <td>NaN</td>\n      <td>NaN</td>\n      <td>NaN</td>\n      <td>NaN</td>\n      <td>NaN</td>\n    </tr>\n    <tr>\n      <th>bible_book_chapter</th>\n      <td>NaN</td>\n      <td>NaN</td>\n      <td>NaN</td>\n      <td>NaN</td>\n      <td>NaN</td>\n      <td>NaN</td>\n      <td>NaN</td>\n      <td>NaN</td>\n      <td>NaN</td>\n      <td>NaN</td>\n      <td>...</td>\n      <td>NaN</td>\n      <td>NaN</td>\n      <td>NaN</td>\n      <td>NaN</td>\n      <td>NaN</td>\n      <td>NaN</td>\n      <td>NaN</td>\n      <td>NaN</td>\n      <td>NaN</td>\n      <td>NaN</td>\n    </tr>\n    <tr>\n      <th>relations</th>\n      <td>1.000000</td>\n      <td>-0.000085</td>\n      <td>-0.000142</td>\n      <td>-0.000085</td>\n      <td>-0.000085</td>\n      <td>-0.000085</td>\n      <td>-0.000085</td>\n      <td>-0.000120</td>\n      <td>-0.000085</td>\n      <td>-0.000085</td>\n      <td>...</td>\n      <td>NaN</td>\n      <td>NaN</td>\n      <td>NaN</td>\n      <td>NaN</td>\n      <td>NaN</td>\n      <td>NaN</td>\n      <td>NaN</td>\n      <td>NaN</td>\n      <td>NaN</td>\n      <td>NaN</td>\n    </tr>\n    <tr>\n      <th>monogamy</th>\n      <td>-0.000209</td>\n      <td>-0.000079</td>\n      <td>-0.000131</td>\n      <td>-0.000079</td>\n      <td>-0.000079</td>\n      <td>-0.000079</td>\n      <td>-0.000079</td>\n      <td>-0.000112</td>\n      <td>-0.000079</td>\n      <td>-0.000079</td>\n      <td>...</td>\n      <td>NaN</td>\n      <td>NaN</td>\n      <td>NaN</td>\n      <td>NaN</td>\n      <td>NaN</td>\n      <td>NaN</td>\n      <td>NaN</td>\n      <td>NaN</td>\n      <td>NaN</td>\n      <td>NaN</td>\n    </tr>\n    <tr>\n      <th>...</th>\n      <td>...</td>\n      <td>...</td>\n      <td>...</td>\n      <td>...</td>\n      <td>...</td>\n      <td>...</td>\n      <td>...</td>\n      <td>...</td>\n      <td>...</td>\n      <td>...</td>\n      <td>...</td>\n      <td>...</td>\n      <td>...</td>\n      <td>...</td>\n      <td>...</td>\n      <td>...</td>\n      <td>...</td>\n      <td>...</td>\n      <td>...</td>\n      <td>...</td>\n      <td>...</td>\n    </tr>\n    <tr>\n      <th>org297</th>\n      <td>-0.000085</td>\n      <td>-0.000032</td>\n      <td>-0.000054</td>\n      <td>-0.000032</td>\n      <td>-0.000032</td>\n      <td>-0.000032</td>\n      <td>-0.000032</td>\n      <td>-0.000046</td>\n      <td>-0.000032</td>\n      <td>-0.000032</td>\n      <td>...</td>\n      <td>NaN</td>\n      <td>NaN</td>\n      <td>NaN</td>\n      <td>NaN</td>\n      <td>NaN</td>\n      <td>NaN</td>\n      <td>NaN</td>\n      <td>NaN</td>\n      <td>NaN</td>\n      <td>NaN</td>\n    </tr>\n    <tr>\n      <th>org183</th>\n      <td>-0.000085</td>\n      <td>-0.000032</td>\n      <td>-0.000054</td>\n      <td>-0.000032</td>\n      <td>-0.000032</td>\n      <td>-0.000032</td>\n      <td>-0.000032</td>\n      <td>-0.000046</td>\n      <td>-0.000032</td>\n      <td>-0.000032</td>\n      <td>...</td>\n      <td>NaN</td>\n      <td>NaN</td>\n      <td>NaN</td>\n      <td>NaN</td>\n      <td>NaN</td>\n      <td>NaN</td>\n      <td>NaN</td>\n      <td>NaN</td>\n      <td>NaN</td>\n      <td>NaN</td>\n    </tr>\n    <tr>\n      <th>org102</th>\n      <td>-0.000085</td>\n      <td>-0.000032</td>\n      <td>-0.000054</td>\n      <td>-0.000032</td>\n      <td>-0.000032</td>\n      <td>-0.000032</td>\n      <td>-0.000032</td>\n      <td>-0.000046</td>\n      <td>-0.000032</td>\n      <td>-0.000032</td>\n      <td>...</td>\n      <td>NaN</td>\n      <td>NaN</td>\n      <td>NaN</td>\n      <td>NaN</td>\n      <td>NaN</td>\n      <td>NaN</td>\n      <td>NaN</td>\n      <td>NaN</td>\n      <td>NaN</td>\n      <td>NaN</td>\n    </tr>\n    <tr>\n      <th>#pla75</th>\n      <td>-0.000085</td>\n      <td>-0.000032</td>\n      <td>-0.000054</td>\n      <td>-0.000032</td>\n      <td>-0.000032</td>\n      <td>-0.000032</td>\n      <td>-0.000032</td>\n      <td>-0.000046</td>\n      <td>-0.000032</td>\n      <td>-0.000032</td>\n      <td>...</td>\n      <td>NaN</td>\n      <td>NaN</td>\n      <td>NaN</td>\n      <td>NaN</td>\n      <td>NaN</td>\n      <td>NaN</td>\n      <td>NaN</td>\n      <td>NaN</td>\n      <td>NaN</td>\n      <td>NaN</td>\n    </tr>\n    <tr>\n      <th>org22</th>\n      <td>-0.000085</td>\n      <td>-0.000032</td>\n      <td>-0.000054</td>\n      <td>-0.000032</td>\n      <td>-0.000032</td>\n      <td>-0.000032</td>\n      <td>-0.000032</td>\n      <td>-0.000046</td>\n      <td>-0.000032</td>\n      <td>-0.000032</td>\n      <td>...</td>\n      <td>NaN</td>\n      <td>NaN</td>\n      <td>NaN</td>\n      <td>NaN</td>\n      <td>NaN</td>\n      <td>NaN</td>\n      <td>NaN</td>\n      <td>NaN</td>\n      <td>NaN</td>\n      <td>NaN</td>\n    </tr>\n  </tbody>\n</table>\n<p>4222 rows × 4222 columns</p>\n</div>"
     },
     "metadata": {},
     "execution_count": 32
    }
   ],
   "source": [
    "for column in features_corrs.columns.tolist():\n",
    "    "
   ]
  },
  {
   "cell_type": "code",
   "execution_count": 39,
   "metadata": {},
   "outputs": [
    {
     "output_type": "execute_result",
     "data": {
      "text/plain": [
       "                 relations  #per2152  #per2203  #per2153  #per2154  #per2155  \\\n",
       "relations         1.000000 -0.000085 -0.000142 -0.000085 -0.000085 -0.000085   \n",
       "monogamy         -0.000209 -0.000079 -0.000131 -0.000079 -0.000079 -0.000079   \n",
       "poligamy         -0.000341 -0.000129 -0.000215 -0.000129 -0.000129 -0.000129   \n",
       "marriage         -0.000591 -0.000223 -0.000372 -0.000223 -0.000223 -0.000223   \n",
       "second-marriage  -0.000120 -0.000046 -0.000076 -0.000046 -0.000046 -0.000046   \n",
       "...                    ...       ...       ...       ...       ...       ...   \n",
       "org297           -0.000085 -0.000032 -0.000054 -0.000032 -0.000032 -0.000032   \n",
       "org183           -0.000085 -0.000032 -0.000054 -0.000032 -0.000032 -0.000032   \n",
       "org102           -0.000085 -0.000032 -0.000054 -0.000032 -0.000032 -0.000032   \n",
       "#pla75           -0.000085 -0.000032 -0.000054 -0.000032 -0.000032 -0.000032   \n",
       "org22            -0.000085 -0.000032 -0.000054 -0.000032 -0.000032 -0.000032   \n",
       "\n",
       "                 #per2324  #per1928  #per2156  #per2157  ...  animals  plants  \\\n",
       "relations       -0.000085 -0.000120 -0.000085 -0.000085  ...      NaN     NaN   \n",
       "monogamy        -0.000079 -0.000112 -0.000079 -0.000079  ...      NaN     NaN   \n",
       "poligamy        -0.000129 -0.000182 -0.000129 -0.000129  ...      NaN     NaN   \n",
       "marriage        -0.000223 -0.000316 -0.000223 -0.000223  ...      NaN     NaN   \n",
       "second-marriage -0.000046 -0.000064 -0.000046 -0.000046  ...      NaN     NaN   \n",
       "...                   ...       ...       ...       ...  ...      ...     ...   \n",
       "org297          -0.000032 -0.000046 -0.000032 -0.000032  ...      NaN     NaN   \n",
       "org183          -0.000032 -0.000046 -0.000032 -0.000032  ...      NaN     NaN   \n",
       "org102          -0.000032 -0.000046 -0.000032 -0.000032  ...      NaN     NaN   \n",
       "#pla75          -0.000032 -0.000046 -0.000032 -0.000032  ...      NaN     NaN   \n",
       "org22           -0.000032 -0.000046 -0.000032 -0.000032  ...      NaN     NaN   \n",
       "\n",
       "                 time  part-of-the-day  seasons  \\\n",
       "relations         NaN              NaN      NaN   \n",
       "monogamy          NaN              NaN      NaN   \n",
       "poligamy          NaN              NaN      NaN   \n",
       "marriage          NaN              NaN      NaN   \n",
       "second-marriage   NaN              NaN      NaN   \n",
       "...               ...              ...      ...   \n",
       "org297            NaN              NaN      NaN   \n",
       "org183            NaN              NaN      NaN   \n",
       "org102            NaN              NaN      NaN   \n",
       "#pla75            NaN              NaN      NaN   \n",
       "org22             NaN              NaN      NaN   \n",
       "\n",
       "                 number of 1st level quotations  \\\n",
       "relations                                   NaN   \n",
       "monogamy                                    NaN   \n",
       "poligamy                                    NaN   \n",
       "marriage                                    NaN   \n",
       "second-marriage                             NaN   \n",
       "...                                         ...   \n",
       "org297                                      NaN   \n",
       "org183                                      NaN   \n",
       "org102                                      NaN   \n",
       "#pla75                                      NaN   \n",
       "org22                                       NaN   \n",
       "\n",
       "                 number of 2nd level quotations  \\\n",
       "relations                                   NaN   \n",
       "monogamy                                    NaN   \n",
       "poligamy                                    NaN   \n",
       "marriage                                    NaN   \n",
       "second-marriage                             NaN   \n",
       "...                                         ...   \n",
       "org297                                      NaN   \n",
       "org183                                      NaN   \n",
       "org102                                      NaN   \n",
       "#pla75                                      NaN   \n",
       "org22                                       NaN   \n",
       "\n",
       "                 number of 3rd level quotations  \\\n",
       "relations                                   NaN   \n",
       "monogamy                                    NaN   \n",
       "poligamy                                    NaN   \n",
       "marriage                                    NaN   \n",
       "second-marriage                             NaN   \n",
       "...                                         ...   \n",
       "org297                                      NaN   \n",
       "org183                                      NaN   \n",
       "org102                                      NaN   \n",
       "#pla75                                      NaN   \n",
       "org22                                       NaN   \n",
       "\n",
       "                 number of 4th level quotations  \\\n",
       "relations                                   NaN   \n",
       "monogamy                                    NaN   \n",
       "poligamy                                    NaN   \n",
       "marriage                                    NaN   \n",
       "second-marriage                             NaN   \n",
       "...                                         ...   \n",
       "org297                                      NaN   \n",
       "org183                                      NaN   \n",
       "org102                                      NaN   \n",
       "#pla75                                      NaN   \n",
       "org22                                       NaN   \n",
       "\n",
       "                 number of 5th level quotations  \n",
       "relations                                   NaN  \n",
       "monogamy                                    NaN  \n",
       "poligamy                                    NaN  \n",
       "marriage                                    NaN  \n",
       "second-marriage                             NaN  \n",
       "...                                         ...  \n",
       "org297                                      NaN  \n",
       "org183                                      NaN  \n",
       "org102                                      NaN  \n",
       "#pla75                                      NaN  \n",
       "org22                                       NaN  \n",
       "\n",
       "[4159 rows x 4222 columns]"
      ],
      "text/html": "<div>\n<style scoped>\n    .dataframe tbody tr th:only-of-type {\n        vertical-align: middle;\n    }\n\n    .dataframe tbody tr th {\n        vertical-align: top;\n    }\n\n    .dataframe thead th {\n        text-align: right;\n    }\n</style>\n<table border=\"1\" class=\"dataframe\">\n  <thead>\n    <tr style=\"text-align: right;\">\n      <th></th>\n      <th>relations</th>\n      <th>#per2152</th>\n      <th>#per2203</th>\n      <th>#per2153</th>\n      <th>#per2154</th>\n      <th>#per2155</th>\n      <th>#per2324</th>\n      <th>#per1928</th>\n      <th>#per2156</th>\n      <th>#per2157</th>\n      <th>...</th>\n      <th>animals</th>\n      <th>plants</th>\n      <th>time</th>\n      <th>part-of-the-day</th>\n      <th>seasons</th>\n      <th>number of 1st level quotations</th>\n      <th>number of 2nd level quotations</th>\n      <th>number of 3rd level quotations</th>\n      <th>number of 4th level quotations</th>\n      <th>number of 5th level quotations</th>\n    </tr>\n  </thead>\n  <tbody>\n    <tr>\n      <th>relations</th>\n      <td>1.000000</td>\n      <td>-0.000085</td>\n      <td>-0.000142</td>\n      <td>-0.000085</td>\n      <td>-0.000085</td>\n      <td>-0.000085</td>\n      <td>-0.000085</td>\n      <td>-0.000120</td>\n      <td>-0.000085</td>\n      <td>-0.000085</td>\n      <td>...</td>\n      <td>NaN</td>\n      <td>NaN</td>\n      <td>NaN</td>\n      <td>NaN</td>\n      <td>NaN</td>\n      <td>NaN</td>\n      <td>NaN</td>\n      <td>NaN</td>\n      <td>NaN</td>\n      <td>NaN</td>\n    </tr>\n    <tr>\n      <th>monogamy</th>\n      <td>-0.000209</td>\n      <td>-0.000079</td>\n      <td>-0.000131</td>\n      <td>-0.000079</td>\n      <td>-0.000079</td>\n      <td>-0.000079</td>\n      <td>-0.000079</td>\n      <td>-0.000112</td>\n      <td>-0.000079</td>\n      <td>-0.000079</td>\n      <td>...</td>\n      <td>NaN</td>\n      <td>NaN</td>\n      <td>NaN</td>\n      <td>NaN</td>\n      <td>NaN</td>\n      <td>NaN</td>\n      <td>NaN</td>\n      <td>NaN</td>\n      <td>NaN</td>\n      <td>NaN</td>\n    </tr>\n    <tr>\n      <th>poligamy</th>\n      <td>-0.000341</td>\n      <td>-0.000129</td>\n      <td>-0.000215</td>\n      <td>-0.000129</td>\n      <td>-0.000129</td>\n      <td>-0.000129</td>\n      <td>-0.000129</td>\n      <td>-0.000182</td>\n      <td>-0.000129</td>\n      <td>-0.000129</td>\n      <td>...</td>\n      <td>NaN</td>\n      <td>NaN</td>\n      <td>NaN</td>\n      <td>NaN</td>\n      <td>NaN</td>\n      <td>NaN</td>\n      <td>NaN</td>\n      <td>NaN</td>\n      <td>NaN</td>\n      <td>NaN</td>\n    </tr>\n    <tr>\n      <th>marriage</th>\n      <td>-0.000591</td>\n      <td>-0.000223</td>\n      <td>-0.000372</td>\n      <td>-0.000223</td>\n      <td>-0.000223</td>\n      <td>-0.000223</td>\n      <td>-0.000223</td>\n      <td>-0.000316</td>\n      <td>-0.000223</td>\n      <td>-0.000223</td>\n      <td>...</td>\n      <td>NaN</td>\n      <td>NaN</td>\n      <td>NaN</td>\n      <td>NaN</td>\n      <td>NaN</td>\n      <td>NaN</td>\n      <td>NaN</td>\n      <td>NaN</td>\n      <td>NaN</td>\n      <td>NaN</td>\n    </tr>\n    <tr>\n      <th>second-marriage</th>\n      <td>-0.000120</td>\n      <td>-0.000046</td>\n      <td>-0.000076</td>\n      <td>-0.000046</td>\n      <td>-0.000046</td>\n      <td>-0.000046</td>\n      <td>-0.000046</td>\n      <td>-0.000064</td>\n      <td>-0.000046</td>\n      <td>-0.000046</td>\n      <td>...</td>\n      <td>NaN</td>\n      <td>NaN</td>\n      <td>NaN</td>\n      <td>NaN</td>\n      <td>NaN</td>\n      <td>NaN</td>\n      <td>NaN</td>\n      <td>NaN</td>\n      <td>NaN</td>\n      <td>NaN</td>\n    </tr>\n    <tr>\n      <th>...</th>\n      <td>...</td>\n      <td>...</td>\n      <td>...</td>\n      <td>...</td>\n      <td>...</td>\n      <td>...</td>\n      <td>...</td>\n      <td>...</td>\n      <td>...</td>\n      <td>...</td>\n      <td>...</td>\n      <td>...</td>\n      <td>...</td>\n      <td>...</td>\n      <td>...</td>\n      <td>...</td>\n      <td>...</td>\n      <td>...</td>\n      <td>...</td>\n      <td>...</td>\n      <td>...</td>\n    </tr>\n    <tr>\n      <th>org297</th>\n      <td>-0.000085</td>\n      <td>-0.000032</td>\n      <td>-0.000054</td>\n      <td>-0.000032</td>\n      <td>-0.000032</td>\n      <td>-0.000032</td>\n      <td>-0.000032</td>\n      <td>-0.000046</td>\n      <td>-0.000032</td>\n      <td>-0.000032</td>\n      <td>...</td>\n      <td>NaN</td>\n      <td>NaN</td>\n      <td>NaN</td>\n      <td>NaN</td>\n      <td>NaN</td>\n      <td>NaN</td>\n      <td>NaN</td>\n      <td>NaN</td>\n      <td>NaN</td>\n      <td>NaN</td>\n    </tr>\n    <tr>\n      <th>org183</th>\n      <td>-0.000085</td>\n      <td>-0.000032</td>\n      <td>-0.000054</td>\n      <td>-0.000032</td>\n      <td>-0.000032</td>\n      <td>-0.000032</td>\n      <td>-0.000032</td>\n      <td>-0.000046</td>\n      <td>-0.000032</td>\n      <td>-0.000032</td>\n      <td>...</td>\n      <td>NaN</td>\n      <td>NaN</td>\n      <td>NaN</td>\n      <td>NaN</td>\n      <td>NaN</td>\n      <td>NaN</td>\n      <td>NaN</td>\n      <td>NaN</td>\n      <td>NaN</td>\n      <td>NaN</td>\n    </tr>\n    <tr>\n      <th>org102</th>\n      <td>-0.000085</td>\n      <td>-0.000032</td>\n      <td>-0.000054</td>\n      <td>-0.000032</td>\n      <td>-0.000032</td>\n      <td>-0.000032</td>\n      <td>-0.000032</td>\n      <td>-0.000046</td>\n      <td>-0.000032</td>\n      <td>-0.000032</td>\n      <td>...</td>\n      <td>NaN</td>\n      <td>NaN</td>\n      <td>NaN</td>\n      <td>NaN</td>\n      <td>NaN</td>\n      <td>NaN</td>\n      <td>NaN</td>\n      <td>NaN</td>\n      <td>NaN</td>\n      <td>NaN</td>\n    </tr>\n    <tr>\n      <th>#pla75</th>\n      <td>-0.000085</td>\n      <td>-0.000032</td>\n      <td>-0.000054</td>\n      <td>-0.000032</td>\n      <td>-0.000032</td>\n      <td>-0.000032</td>\n      <td>-0.000032</td>\n      <td>-0.000046</td>\n      <td>-0.000032</td>\n      <td>-0.000032</td>\n      <td>...</td>\n      <td>NaN</td>\n      <td>NaN</td>\n      <td>NaN</td>\n      <td>NaN</td>\n      <td>NaN</td>\n      <td>NaN</td>\n      <td>NaN</td>\n      <td>NaN</td>\n      <td>NaN</td>\n      <td>NaN</td>\n    </tr>\n    <tr>\n      <th>org22</th>\n      <td>-0.000085</td>\n      <td>-0.000032</td>\n      <td>-0.000054</td>\n      <td>-0.000032</td>\n      <td>-0.000032</td>\n      <td>-0.000032</td>\n      <td>-0.000032</td>\n      <td>-0.000046</td>\n      <td>-0.000032</td>\n      <td>-0.000032</td>\n      <td>...</td>\n      <td>NaN</td>\n      <td>NaN</td>\n      <td>NaN</td>\n      <td>NaN</td>\n      <td>NaN</td>\n      <td>NaN</td>\n      <td>NaN</td>\n      <td>NaN</td>\n      <td>NaN</td>\n      <td>NaN</td>\n    </tr>\n  </tbody>\n</table>\n<p>4159 rows × 4222 columns</p>\n</div>"
     },
     "metadata": {},
     "execution_count": 39
    }
   ],
   "source": [
    "features_corrs.dropna()"
   ]
  },
  {
   "cell_type": "code",
   "execution_count": null,
   "metadata": {},
   "outputs": [],
   "source": []
  }
 ]
}